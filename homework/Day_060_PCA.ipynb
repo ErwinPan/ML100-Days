{
 "cells": [
  {
   "cell_type": "markdown",
   "metadata": {},
   "source": [
    "# PCA 範例\n",
    "* 以 PCA + 邏輯斯迴歸判斷手寫辨識資料集, 觀察不同 component 下正確率的變化"
   ]
  },
  {
   "cell_type": "code",
   "execution_count": 10,
   "metadata": {},
   "outputs": [],
   "source": [
    "# 載入套件\n",
    "import numpy as np\n",
    "import matplotlib.pyplot as plt\n",
    "import pandas as pd\n",
    "\n",
    "from sklearn import datasets\n",
    "from sklearn.decomposition import PCA\n",
    "from sklearn.linear_model import SGDClassifier\n",
    "from sklearn.pipeline import Pipeline\n",
    "from sklearn.model_selection import GridSearchCV\n",
    "import warnings\n",
    "warnings.filterwarnings(\"ignore\")"
   ]
  },
  {
   "cell_type": "code",
   "execution_count": 11,
   "metadata": {},
   "outputs": [],
   "source": [
    "# 定義 PCA 與隨後的邏輯斯迴歸函數\n",
    "logistic = SGDClassifier(loss='log', penalty='l2', max_iter=10000, tol=1e-5, random_state=0)\n",
    "pca = PCA()\n",
    "\n",
    "'''\n",
    "class sklearn.pipeline.Pipeline(steps, memory=None)\n",
    "\n",
    "    Pipeline of transforms with a final estimator.\n",
    "    Sequentially apply a list of transforms and a final estimator. Intermediate steps of the pipeline must be ‘transforms’, that is, they must implement fit and transform methods. \n",
    "    The final estimator only needs to implement fit. \n",
    "    The transformers in the pipeline can be cached using memory argument.\n",
    "    \n",
    "    The purpose of the pipeline is to assemble several steps that can be cross-validated together while setting different parameters\n",
    "    For this, it enables setting parameters of the various steps using their names and the parameter name separated by a ‘__’\n",
    "'''\n",
    "\n",
    "# Note: 把 pca 與 logistic 用 Pipeline 串接在一起\n",
    "pipe = Pipeline(steps=[('pca', pca), ('logistic', logistic)])"
   ]
  },
  {
   "cell_type": "code",
   "execution_count": 12,
   "metadata": {},
   "outputs": [
    {
     "name": "stdout",
     "output_type": "stream",
     "text": [
      "X_digits.shap = (1797, 64), y_digits.shape = (1797,)\n"
     ]
    }
   ],
   "source": [
    "# 載入手寫數字辨識集\n",
    "digits = datasets.load_digits()\n",
    "X_digits = digits.data\n",
    "y_digits = digits.target\n",
    "\n",
    "print(f'X_digits.shap = {X_digits.shape}, y_digits.shape = {y_digits.shape}')"
   ]
  },
  {
   "cell_type": "code",
   "execution_count": 13,
   "metadata": {},
   "outputs": [
    {
     "name": "stdout",
     "output_type": "stream",
     "text": [
      "Best parameter (CV score=0.918):\n",
      "{'logistic__alpha': 1.0, 'pca__n_components': 30}\n"
     ]
    }
   ],
   "source": [
    "# 執行 GridSearchCV 跑出最佳參數\n",
    "\n",
    "# Note: Pipeline 的特殊用法 \"__\" 是 delimiter\n",
    "#    pca__n_components => Apply \"n_components\" to \"pca\"\n",
    "#    logistic__alpha => Apply \"alpha\" to \"logistic\"\n",
    "param_grid = {\n",
    "    'pca__n_components': [4, 10, 20, 30, 40, 50, 64],\n",
    "    'logistic__alpha': np.logspace(-4, 4, 5),\n",
    "}\n",
    "\n",
    "'''\n",
    "sklearn.model_selection.GridSearchCV\n",
    "\n",
    "    Exhaustive search over specified parameter values for an estimator\n",
    "    \n",
    "    Important members are fit, predict.\n",
    "\n",
    "    GridSearchCV implements a “fit” and a “score” method. \n",
    "    It also implements “predict”, “predict_proba”, “decision_function”, “transform” and “inverse_transform” \n",
    "    if they are implemented in the estimator used.\n",
    "    \n",
    "    param_grid : dict or list of dictionaries\n",
    "        Dictionary with parameters names (string) as keys and lists of parameter settings to try as values, \n",
    "        or a list of such dictionaries, in which case the grids spanned by each dictionary in the list are explored. \n",
    "        This enables searching over any sequence of parameter settings.\n",
    "    \n",
    "'''\n",
    "\n",
    "search = GridSearchCV(pipe, param_grid, iid=False, cv=5, return_train_score=False)\n",
    "search.fit(X_digits, y_digits)\n",
    "print(\"Best parameter (CV score=%0.3f):\" % search.best_score_)\n",
    "print(search.best_params_)"
   ]
  },
  {
   "cell_type": "code",
   "execution_count": 37,
   "metadata": {},
   "outputs": [
    {
     "name": "stdout",
     "output_type": "stream",
     "text": [
      "pca.explained_variance_ratio_.shape=(64,)\n",
      "results.shape = (35, 15)\n",
      "results.head() =    mean_fit_time  std_fit_time  mean_score_time  std_score_time  \\\n",
      "0       0.081397      0.010592         0.000000        0.000000   \n",
      "1       0.065610      0.011690         0.000000        0.000000   \n",
      "2       0.068314      0.013834         0.000199        0.000399   \n",
      "3       0.078902      0.012485         0.000000        0.000000   \n",
      "4       0.090107      0.010532         0.000601        0.000491   \n",
      "5       0.104190      0.011955         0.000999        0.000632   \n",
      "6       0.130943      0.015002         0.000596        0.000487   \n",
      "7       1.100906      0.586295         0.000000        0.000000   \n",
      "8       0.046864      0.009879         0.000000        0.000000   \n",
      "9       0.049988      0.011690         0.000000        0.000000   \n",
      "\n",
      "  param_logistic__alpha param_pca__n_components  \\\n",
      "0                0.0001                       4   \n",
      "1                0.0001                      10   \n",
      "2                0.0001                      20   \n",
      "3                0.0001                      30   \n",
      "4                0.0001                      40   \n",
      "5                0.0001                      50   \n",
      "6                0.0001                      64   \n",
      "7                  0.01                       4   \n",
      "8                  0.01                      10   \n",
      "9                  0.01                      20   \n",
      "\n",
      "                                              params  split0_test_score  \\\n",
      "0  {'logistic__alpha': 0.0001, 'pca__n_components...           0.664835   \n",
      "1  {'logistic__alpha': 0.0001, 'pca__n_components...           0.909341   \n",
      "2  {'logistic__alpha': 0.0001, 'pca__n_components...           0.917582   \n",
      "3  {'logistic__alpha': 0.0001, 'pca__n_components...           0.923077   \n",
      "4  {'logistic__alpha': 0.0001, 'pca__n_components...           0.906593   \n",
      "5  {'logistic__alpha': 0.0001, 'pca__n_components...           0.898352   \n",
      "6  {'logistic__alpha': 0.0001, 'pca__n_components...           0.912088   \n",
      "7  {'logistic__alpha': 0.01, 'pca__n_components': 4}           0.725275   \n",
      "8  {'logistic__alpha': 0.01, 'pca__n_components':...           0.898352   \n",
      "9  {'logistic__alpha': 0.01, 'pca__n_components':...           0.920330   \n",
      "\n",
      "   split1_test_score  split2_test_score  split3_test_score  split4_test_score  \\\n",
      "0           0.599448           0.688022           0.703081           0.701408   \n",
      "1           0.859116           0.871866           0.896359           0.853521   \n",
      "2           0.859116           0.910864           0.943978           0.884507   \n",
      "3           0.878453           0.930362           0.957983           0.878873   \n",
      "4           0.875691           0.938719           0.946779           0.884507   \n",
      "5           0.875691           0.941504           0.946779           0.878873   \n",
      "6           0.875691           0.941504           0.946779           0.895775   \n",
      "7           0.596685           0.732591           0.736695           0.687324   \n",
      "8           0.850829           0.885794           0.907563           0.845070   \n",
      "9           0.870166           0.919220           0.946779           0.873239   \n",
      "\n",
      "   mean_test_score  std_test_score  rank_test_score  \n",
      "0         0.671359        0.038473               25  \n",
      "1         0.878041        0.021507               16  \n",
      "2         0.903209        0.029056               14  \n",
      "3         0.913750        0.030925               10  \n",
      "4         0.910458        0.028337               11  \n",
      "5         0.908240        0.030369               12  \n",
      "6         0.914367        0.026958                8  \n",
      "7         0.695714        0.052517               19  \n",
      "8         0.877522        0.025181               17  \n",
      "9         0.905947        0.029666               13  \n",
      "type(best_clfs) = <class 'pandas.core.frame.DataFrame'>\n",
      "best_clfs.shape = (7, 15)\n"
     ]
    },
    {
     "data": {
      "image/png": "[encoded data removed]",
      "text/plain": [
       "<Figure size 864x864 with 2 Axes>"
      ]
     },
     "metadata": {
      "needs_background": "light"
     },
     "output_type": "display_data"
    }
   ],
   "source": [
    "# 繪製不同 components 的 PCA explained variance ratio\n",
    "pca.fit(X_digits)\n",
    "\n",
    "# Erwin:\n",
    "#    sharex: means share x coordinate and labels\n",
    "fig, (ax0, ax1) = plt.subplots(nrows=2, sharex=True, figsize=(12, 12))\n",
    "\n",
    "'''\n",
    "Draw ax0\n",
    "'''\n",
    "\n",
    "print(f'pca.explained_variance_ratio_.shape={pca.explained_variance_ratio_.shape}')\n",
    "# print(f'pca.explained_variance_ratio_={pca.explained_variance_ratio_}')\n",
    "\n",
    "# explained_variance_ratio_: Percentage of variance explained by each of the selected components.\n",
    "ax0.plot(pca.explained_variance_ratio_, linewidth=2)\n",
    "ax0.set_ylabel('PCA explained variance')\n",
    "ax1.set_xlabel('n_components')\n",
    "\n",
    "# axvline : draw vertical line\n",
    "ax0.axvline(search.best_estimator_.named_steps['pca'].n_components, linestyle=':', label='n_components chosen')\n",
    "ax0.legend(prop=dict(size=12))\n",
    "\n",
    "'''\n",
    "Draw ax1\n",
    "'''\n",
    "\n",
    "\n",
    "# 繪製 7 個不同採樣點的 accuracy\n",
    "results = pd.DataFrame(search.cv_results_)\n",
    "print(f'results.shape = {results.shape}')\n",
    "print(f'results.head() = {results.head(10)}')\n",
    "components_col = 'param_pca__n_components'\n",
    "\n",
    "'''\n",
    "pandas.DataFrame.nlargest\n",
    "\n",
    "    DataFrame.nlargest(n, columns, keep='first')\n",
    "    \n",
    "    Return the first n rows ordered by columns in descending order.\n",
    "'''\n",
    "# Return an Dataframe:  \n",
    "#    Grouped by components_col (or 'param_pca__n_components',  or 4,10,20, ...)\n",
    "#    Sort and Pick the largest y='mean_test_score'\n",
    "#    Returning the dataframe is\n",
    "#        x: 7 rows ('param_pca__n_components')\n",
    "#        y: 15 columns (all columns from GridSearchCV)\n",
    "best_clfs = results.groupby(components_col).apply(lambda d: d.nlargest(1, 'mean_test_score'))\n",
    "print(f'type(best_clfs) = {type(best_clfs)}')\n",
    "print(f'best_clfs.shape = {best_clfs.shape}')\n",
    "\n",
    "best_clfs.plot(x=components_col, y='mean_test_score', yerr='std_test_score', legend=False, ax=ax1)\n",
    "ax1.set_ylabel('Classification accuracy (val)')\n",
    "ax1.set_xlabel('n_components')\n",
    "# plt.tight_layout()\n",
    "\n",
    "plt.show()"
   ]
  },
  {
   "cell_type": "markdown",
   "metadata": {},
   "source": [
    "# 觀察結果\n",
    "\n",
    "* explained variance ratio : 解釋變異性隨著 components 穩定下降\n",
    "> Answer: 30 以後接近平緩，表示 30 個 components 是個適合的 component 數量\n",
    "\n",
    "* 分類預測準確率 : 似乎也隨著 components 提升, 但是在 20 以後提升不多\n",
    "> Answer: 30 準確率無大幅提升"
   ]
  },
  {
   "cell_type": "markdown",
   "metadata": {},
   "source": [
    "# 作業\n",
    "* 將參數 penalty 改為 L1, max_iter 改為 100, 觀察 PCA 與羅吉斯迴歸做手寫辨識的效果"
   ]
  },
  {
   "cell_type": "code",
   "execution_count": null,
   "metadata": {
    "collapsed": true
   },
   "outputs": [],
   "source": []
  }
 ],
 "metadata": {
  "kernelspec": {
   "display_name": "Python 3",
   "language": "python",
   "name": "python3"
  },
  "language_info": {
   "codemirror_mode": {
    "name": "ipython",
    "version": 3
   },
   "file_extension": ".py",
   "mimetype": "text/x-python",
   "name": "python",
   "nbconvert_exporter": "python",
   "pygments_lexer": "ipython3",
   "version": "3.7.1"
  }
 },
 "nbformat": 4,
 "nbformat_minor": 1
}
