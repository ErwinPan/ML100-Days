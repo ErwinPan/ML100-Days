{
 "cells": [
  {
   "cell_type": "markdown",
   "metadata": {},
   "source": [
    "# 作業\n",
    "* 選擇分類資料集(右下)-螺旋雙臂 - 交錯六群，限定特徵只能使用前兩個，隱藏層 2 層滿 (共 8 * 2 =16 個神經元)，  \n",
    "  遞迴次數只允許跑到500次，但可以自由調整 批次大小、學習速率、啟動函數、正規化選項與參數\n",
    "* 在上述限制下，挑戰看看測試誤差 (Test Loss) 最低能到多少? 請回答你的上述幾項參數與 Test Loss 數"
   ]
  },
  {
   "cell_type": "markdown",
   "metadata": {
    "collapsed": true
   },
   "source": [
    "> Answer\n",
    "> 一般來說：\n",
    "> 應該選擇 \n",
    ">\n",
    ">      Activation: ReLU, \n",
    ">      Learning Rate: 0.1, \n",
    ">      Regularization: L2 > None > L1, \n",
    ">      Batch 越大越好\n",
    ">\n",
    "> 先定性，再定量\n",
    "\n",
    "\n",
    "\t* Homework\n",
    "\t\t* Activation\n",
    "\t\t\t* ReLU\t: 0.010 Test Loss, 0.2x\n",
    "\t\t\t* Others: 0.4x\n",
    "\t\t* Learning Rate: \n",
    "\t\t\t* 0.3 : unstable\n",
    "\t\t\t* 0.1 : 0.032, 0.009 Test Loss\n",
    "\t\t* Regularization\n",
    "\t\t\t* None : 0.009\n",
    "\t\t\t* L1 : 0.034\n",
    "\t\t\t* L2 : 0.008\n",
    "\t\t* Batch\n",
    "\t\t\t* 10 : 0.008, 0.369, 0.096 (Not stable)\n",
    "\t\t\t* 5 : 0.172, 0.030, 0.166 (Not stable)\n",
    "\t\t\t* 20 : 0.143, 0.040, 0.095 (Stable)\n",
    "\t\t\t* 30 : 0.020, 0.051, 0.024"
   ]
  },
  {
   "cell_type": "markdown",
   "metadata": {},
   "source": [
    "![title](Day_065/擷取1.PNG)"
   ]
  },
  {
   "cell_type": "markdown",
   "metadata": {},
   "source": [
    "![title](Day_065/擷取2.PNG)"
   ]
  },
  {
   "cell_type": "markdown",
   "metadata": {},
   "source": [
    "![title](Day_065/擷取3.PNG)"
   ]
  },
  {
   "cell_type": "markdown",
   "metadata": {
    "collapsed": true
   },
   "source": []
  }
 ],
 "metadata": {
  "kernelspec": {
   "display_name": "Python 3",
   "language": "python",
   "name": "python3"
  },
  "language_info": {
   "codemirror_mode": {
    "name": "ipython",
    "version": 3
   },
   "file_extension": ".py",
   "mimetype": "text/x-python",
   "name": "python",
   "nbconvert_exporter": "python",
   "pygments_lexer": "ipython3",
   "version": "3.7.1"
  }
 },
 "nbformat": 4,
 "nbformat_minor": 2
}
