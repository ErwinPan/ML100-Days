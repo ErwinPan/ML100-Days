{
 "cells": [
  {
   "cell_type": "code",
   "execution_count": 24,
   "metadata": {},
   "outputs": [],
   "source": [
    "import os\n",
    "import numpy as np\n",
    "import pandas as pd\n",
    "\n",
    "import matplotlib.pyplot as plt\n",
    "%matplotlib inline"
   ]
  },
  {
   "cell_type": "code",
   "execution_count": 25,
   "metadata": {},
   "outputs": [
    {
     "name": "stdout",
     "output_type": "stream",
     "text": [
      "type(ages)<class 'pandas.core.frame.DataFrame'>\n"
     ]
    },
    {
     "data": {
      "text/html": [
       "<div>\n",
       "<style scoped>\n",
       "    .dataframe tbody tr th:only-of-type {\n",
       "        vertical-align: middle;\n",
       "    }\n",
       "\n",
       "    .dataframe tbody tr th {\n",
       "        vertical-align: top;\n",
       "    }\n",
       "\n",
       "    .dataframe thead th {\n",
       "        text-align: right;\n",
       "    }\n",
       "</style>\n",
       "<table border=\"1\" class=\"dataframe\">\n",
       "  <thead>\n",
       "    <tr style=\"text-align: right;\">\n",
       "      <th></th>\n",
       "      <th>age</th>\n",
       "    </tr>\n",
       "  </thead>\n",
       "  <tbody>\n",
       "    <tr>\n",
       "      <th>0</th>\n",
       "      <td>18</td>\n",
       "    </tr>\n",
       "    <tr>\n",
       "      <th>1</th>\n",
       "      <td>22</td>\n",
       "    </tr>\n",
       "    <tr>\n",
       "      <th>2</th>\n",
       "      <td>25</td>\n",
       "    </tr>\n",
       "    <tr>\n",
       "      <th>3</th>\n",
       "      <td>27</td>\n",
       "    </tr>\n",
       "    <tr>\n",
       "      <th>4</th>\n",
       "      <td>21</td>\n",
       "    </tr>\n",
       "    <tr>\n",
       "      <th>5</th>\n",
       "      <td>23</td>\n",
       "    </tr>\n",
       "    <tr>\n",
       "      <th>6</th>\n",
       "      <td>23</td>\n",
       "    </tr>\n",
       "    <tr>\n",
       "      <th>7</th>\n",
       "      <td>37</td>\n",
       "    </tr>\n",
       "    <tr>\n",
       "      <th>8</th>\n",
       "      <td>31</td>\n",
       "    </tr>\n",
       "    <tr>\n",
       "      <th>9</th>\n",
       "      <td>61</td>\n",
       "    </tr>\n",
       "    <tr>\n",
       "      <th>10</th>\n",
       "      <td>45</td>\n",
       "    </tr>\n",
       "    <tr>\n",
       "      <th>11</th>\n",
       "      <td>41</td>\n",
       "    </tr>\n",
       "    <tr>\n",
       "      <th>12</th>\n",
       "      <td>100</td>\n",
       "    </tr>\n",
       "  </tbody>\n",
       "</table>\n",
       "</div>"
      ],
      "text/plain": [
       "    age\n",
       "0    18\n",
       "1    22\n",
       "2    25\n",
       "3    27\n",
       "4    21\n",
       "5    23\n",
       "6    23\n",
       "7    37\n",
       "8    31\n",
       "9    61\n",
       "10   45\n",
       "11   41\n",
       "12  100"
      ]
     },
     "execution_count": 25,
     "metadata": {},
     "output_type": "execute_result"
    }
   ],
   "source": [
    "# 設置 data frame, index = 0~11, \n",
    "# 雖然是 DataFrame, 但是因為只有一個 column, 所以也幾乎就是 DataSeries\n",
    "ages = pd.DataFrame({\"age\": [18,22,25,27,21,23,23,37,31,61,45,41,100]})\n",
    "\n",
    "print(f'type(ages){type(ages)}')\n",
    "\n",
    "ages"
   ]
  },
  {
   "cell_type": "markdown",
   "metadata": {},
   "source": [
    "#### 等寬劃分"
   ]
  },
  {
   "cell_type": "code",
   "execution_count": 26,
   "metadata": {},
   "outputs": [
    {
     "data": {
      "text/plain": [
       "0     (17.918, 38.5]\n",
       "1     (17.918, 38.5]\n",
       "2     (17.918, 38.5]\n",
       "3     (17.918, 38.5]\n",
       "4     (17.918, 38.5]\n",
       "5     (17.918, 38.5]\n",
       "6     (17.918, 38.5]\n",
       "7     (17.918, 38.5]\n",
       "8     (17.918, 38.5]\n",
       "9       (59.0, 79.5]\n",
       "10      (38.5, 59.0]\n",
       "11      (38.5, 59.0]\n",
       "12     (79.5, 100.0]\n",
       "Name: equal_width_age, dtype: category\n",
       "Categories (4, interval[float64]): [(17.918, 38.5] < (38.5, 59.0] < (59.0, 79.5] < (79.5, 100.0]]"
      ]
     },
     "execution_count": 26,
     "metadata": {},
     "output_type": "execute_result"
    }
   ],
   "source": [
    "# 平均分成 4 組\n",
    "ages[\"equal_width_age\"] = pd.cut(ages[\"age\"], 4)\n",
    "\n",
    "# 這時候 DataFrame 新增的 Column \"equal_width_age\" 的 type 是 Category\n",
    "ages[\"equal_width_age\"]"
   ]
  },
  {
   "cell_type": "code",
   "execution_count": 27,
   "metadata": {},
   "outputs": [
    {
     "data": {
      "text/plain": [
       "(17.918, 38.5]    9\n",
       "(38.5, 59.0]      2\n",
       "(79.5, 100.0]     1\n",
       "(59.0, 79.5]      1\n",
       "Name: equal_width_age, dtype: int64"
      ]
     },
     "execution_count": 27,
     "metadata": {},
     "output_type": "execute_result"
    }
   ],
   "source": [
    "# Series.value_counts(normalize=False, sort=True, ascending=False, bins=None, dropna=True)\n",
    "#   Return a Series containing counts of unique values. (好像並非 unique values, 而是筆數 values count)\n",
    "\n",
    "ages[\"equal_width_age\"].value_counts() # 每個 bin 的值的範圍大小都是一樣的 (所以裡面的 values count 會不相同)"
   ]
  },
  {
   "cell_type": "markdown",
   "metadata": {},
   "source": [
    "#### 等頻劃分"
   ]
  },
  {
   "cell_type": "code",
   "execution_count": 28,
   "metadata": {},
   "outputs": [],
   "source": [
    "'''\n",
    "cut函数是利用數值區間將數值分類，qcut則是用分位數。\n",
    "換句話說，cut用在長度相等的類別，qcut用在大小相等的類別\n",
    "'''\n",
    "# pandas.qcut(x, q, labels=None, retbins=False, precision=3, duplicates='raise')[source]\n",
    "#     Quantile-based discretization function. Discretize variable into equal-sized \n",
    "#     buckets based on rank or based on sample quantiles. \n",
    "#     For example 1000 values for 10 quantiles would produce a Categorical object \n",
    "#     indicating quantile membership for each data point.\n",
    "#\n",
    "# quantile: 分位數\n",
    "#    分位數，亦稱分位點，是指用分割點將一個隨機變量的機率分布範圍分為幾個具有相同機率的連續區間。\n",
    "#    分割點的數量比劃分出的區間少1，例如3個分割點能分出4個區間。 \n",
    "#    常用的有中位數、四分位數、十分位數、百分位數等。q-quantile是指將有限值集分為q個接近相同尺寸的子集。\n",
    "\n",
    "ages[\"equal_freq_age\"] = pd.qcut(ages[\"age\"], 4)"
   ]
  },
  {
   "cell_type": "code",
   "execution_count": 29,
   "metadata": {},
   "outputs": [
    {
     "data": {
      "text/plain": [
       "(17.999, 23.0]    5\n",
       "(41.0, 100.0]     3\n",
       "(27.0, 41.0]      3\n",
       "(23.0, 27.0]      2\n",
       "Name: equal_freq_age, dtype: int64"
      ]
     },
     "execution_count": 29,
     "metadata": {},
     "output_type": "execute_result"
    }
   ],
   "source": [
    "ages[\"equal_freq_age\"].value_counts() # 每個 bin 的資料筆數是一樣的 "
   ]
  },
  {
   "cell_type": "code",
   "execution_count": 30,
   "metadata": {},
   "outputs": [
    {
     "data": {
      "text/plain": [
       "'\\nNote\\n如果沒有兩筆重複的 23, 結果會是 3,3,3,3\\n'"
      ]
     },
     "execution_count": 30,
     "metadata": {},
     "output_type": "execute_result"
    }
   ],
   "source": [
    "'''\n",
    "Note\n",
    "如果沒有兩筆重複的 23, 結果會是 3,3,3,3\n",
    "'''"
   ]
  },
  {
   "cell_type": "markdown",
   "metadata": {},
   "source": [
    "#### 自定義的 bin"
   ]
  },
  {
   "cell_type": "code",
   "execution_count": 31,
   "metadata": {},
   "outputs": [],
   "source": [
    "# cut 後面接上 list, 就變成自訂一 bins\n",
    "ages[\"customized_age_grp\"] = pd.cut(ages[\"age\"], [10, 20, 30, 50, 100])"
   ]
  },
  {
   "cell_type": "code",
   "execution_count": 32,
   "metadata": {},
   "outputs": [
    {
     "data": {
      "text/html": [
       "<div>\n",
       "<style scoped>\n",
       "    .dataframe tbody tr th:only-of-type {\n",
       "        vertical-align: middle;\n",
       "    }\n",
       "\n",
       "    .dataframe tbody tr th {\n",
       "        vertical-align: top;\n",
       "    }\n",
       "\n",
       "    .dataframe thead th {\n",
       "        text-align: right;\n",
       "    }\n",
       "</style>\n",
       "<table border=\"1\" class=\"dataframe\">\n",
       "  <thead>\n",
       "    <tr style=\"text-align: right;\">\n",
       "      <th></th>\n",
       "      <th>age</th>\n",
       "      <th>equal_width_age</th>\n",
       "      <th>equal_freq_age</th>\n",
       "      <th>customized_age_grp</th>\n",
       "    </tr>\n",
       "  </thead>\n",
       "  <tbody>\n",
       "    <tr>\n",
       "      <th>0</th>\n",
       "      <td>18</td>\n",
       "      <td>(17.918, 38.5]</td>\n",
       "      <td>(17.999, 23.0]</td>\n",
       "      <td>(10, 20]</td>\n",
       "    </tr>\n",
       "    <tr>\n",
       "      <th>1</th>\n",
       "      <td>22</td>\n",
       "      <td>(17.918, 38.5]</td>\n",
       "      <td>(17.999, 23.0]</td>\n",
       "      <td>(20, 30]</td>\n",
       "    </tr>\n",
       "    <tr>\n",
       "      <th>2</th>\n",
       "      <td>25</td>\n",
       "      <td>(17.918, 38.5]</td>\n",
       "      <td>(23.0, 27.0]</td>\n",
       "      <td>(20, 30]</td>\n",
       "    </tr>\n",
       "    <tr>\n",
       "      <th>3</th>\n",
       "      <td>27</td>\n",
       "      <td>(17.918, 38.5]</td>\n",
       "      <td>(23.0, 27.0]</td>\n",
       "      <td>(20, 30]</td>\n",
       "    </tr>\n",
       "    <tr>\n",
       "      <th>4</th>\n",
       "      <td>21</td>\n",
       "      <td>(17.918, 38.5]</td>\n",
       "      <td>(17.999, 23.0]</td>\n",
       "      <td>(20, 30]</td>\n",
       "    </tr>\n",
       "    <tr>\n",
       "      <th>5</th>\n",
       "      <td>23</td>\n",
       "      <td>(17.918, 38.5]</td>\n",
       "      <td>(17.999, 23.0]</td>\n",
       "      <td>(20, 30]</td>\n",
       "    </tr>\n",
       "    <tr>\n",
       "      <th>6</th>\n",
       "      <td>23</td>\n",
       "      <td>(17.918, 38.5]</td>\n",
       "      <td>(17.999, 23.0]</td>\n",
       "      <td>(20, 30]</td>\n",
       "    </tr>\n",
       "    <tr>\n",
       "      <th>7</th>\n",
       "      <td>37</td>\n",
       "      <td>(17.918, 38.5]</td>\n",
       "      <td>(27.0, 41.0]</td>\n",
       "      <td>(30, 50]</td>\n",
       "    </tr>\n",
       "    <tr>\n",
       "      <th>8</th>\n",
       "      <td>31</td>\n",
       "      <td>(17.918, 38.5]</td>\n",
       "      <td>(27.0, 41.0]</td>\n",
       "      <td>(30, 50]</td>\n",
       "    </tr>\n",
       "    <tr>\n",
       "      <th>9</th>\n",
       "      <td>61</td>\n",
       "      <td>(59.0, 79.5]</td>\n",
       "      <td>(41.0, 100.0]</td>\n",
       "      <td>(50, 100]</td>\n",
       "    </tr>\n",
       "    <tr>\n",
       "      <th>10</th>\n",
       "      <td>45</td>\n",
       "      <td>(38.5, 59.0]</td>\n",
       "      <td>(41.0, 100.0]</td>\n",
       "      <td>(30, 50]</td>\n",
       "    </tr>\n",
       "    <tr>\n",
       "      <th>11</th>\n",
       "      <td>41</td>\n",
       "      <td>(38.5, 59.0]</td>\n",
       "      <td>(27.0, 41.0]</td>\n",
       "      <td>(30, 50]</td>\n",
       "    </tr>\n",
       "    <tr>\n",
       "      <th>12</th>\n",
       "      <td>100</td>\n",
       "      <td>(79.5, 100.0]</td>\n",
       "      <td>(41.0, 100.0]</td>\n",
       "      <td>(50, 100]</td>\n",
       "    </tr>\n",
       "  </tbody>\n",
       "</table>\n",
       "</div>"
      ],
      "text/plain": [
       "    age equal_width_age  equal_freq_age customized_age_grp\n",
       "0    18  (17.918, 38.5]  (17.999, 23.0]           (10, 20]\n",
       "1    22  (17.918, 38.5]  (17.999, 23.0]           (20, 30]\n",
       "2    25  (17.918, 38.5]    (23.0, 27.0]           (20, 30]\n",
       "3    27  (17.918, 38.5]    (23.0, 27.0]           (20, 30]\n",
       "4    21  (17.918, 38.5]  (17.999, 23.0]           (20, 30]\n",
       "5    23  (17.918, 38.5]  (17.999, 23.0]           (20, 30]\n",
       "6    23  (17.918, 38.5]  (17.999, 23.0]           (20, 30]\n",
       "7    37  (17.918, 38.5]    (27.0, 41.0]           (30, 50]\n",
       "8    31  (17.918, 38.5]    (27.0, 41.0]           (30, 50]\n",
       "9    61    (59.0, 79.5]   (41.0, 100.0]          (50, 100]\n",
       "10   45    (38.5, 59.0]   (41.0, 100.0]           (30, 50]\n",
       "11   41    (38.5, 59.0]    (27.0, 41.0]           (30, 50]\n",
       "12  100   (79.5, 100.0]   (41.0, 100.0]          (50, 100]"
      ]
     },
     "execution_count": 32,
     "metadata": {},
     "output_type": "execute_result"
    }
   ],
   "source": [
    "ages"
   ]
  },
  {
   "cell_type": "code",
   "execution_count": null,
   "metadata": {},
   "outputs": [],
   "source": []
  }
 ],
 "metadata": {
  "kernelspec": {
   "display_name": "Python 3",
   "language": "python",
   "name": "python3"
  },
  "language_info": {
   "codemirror_mode": {
    "name": "ipython",
    "version": 3
   },
   "file_extension": ".py",
   "mimetype": "text/x-python",
   "name": "python",
   "nbconvert_exporter": "python",
   "pygments_lexer": "ipython3",
   "version": "3.7.1"
  }
 },
 "nbformat": 4,
 "nbformat_minor": 2
}
