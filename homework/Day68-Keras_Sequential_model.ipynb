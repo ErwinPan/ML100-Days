{
 "cells": [
  {
   "cell_type": "code",
   "execution_count": 1,
   "metadata": {},
   "outputs": [
    {
     "name": "stderr",
     "output_type": "stream",
     "text": [
      "Using TensorFlow backend.\n"
     ]
    }
   ],
   "source": [
    "import keras\n",
    "from keras.datasets import cifar10\n",
    "from keras.models import Sequential, load_model\n",
    "from keras.layers import Dense, Dropout, Activation, Flatten\n",
    "from keras.layers import Conv2D, MaxPooling2D\n",
    "import matplotlib.pyplot as plt\n",
    "\n",
    "batch_size = 16\n",
    "num_classes = 10\n",
    "epochs = 10\n",
    "\n",
    "# The data, shuffled and split between train and test sets:\n",
    "(x_train, y_train), (x_test, y_test) = cifar10.load_data()\n"
   ]
  },
  {
   "cell_type": "code",
   "execution_count": 2,
   "metadata": {},
   "outputs": [
    {
     "name": "stdout",
     "output_type": "stream",
     "text": [
      "y_train.shap=(50000, 1), y_test.shape=(10000, 1)\n"
     ]
    },
    {
     "data": {
      "text/plain": [
       "(array([[6],\n",
       "        [9],\n",
       "        [9],\n",
       "        [4],\n",
       "        [1]], dtype=uint8), array([[3],\n",
       "        [8],\n",
       "        [8],\n",
       "        [0],\n",
       "        [6]]))"
      ]
     },
     "execution_count": 2,
     "metadata": {},
     "output_type": "execute_result"
    }
   ],
   "source": [
    "print(f'y_train.shap={y_train.shape}, y_test.shape={y_test.shape}')\n",
    "y_train[:5], y_test[:5]"
   ]
  },
  {
   "cell_type": "code",
   "execution_count": 3,
   "metadata": {},
   "outputs": [
    {
     "name": "stdout",
     "output_type": "stream",
     "text": [
      "y_train.shap=(50000, 10), y_test.shape=(10000, 10)\n"
     ]
    },
    {
     "data": {
      "text/plain": [
       "(array([[0., 0., 0., 0., 0., 0., 1., 0., 0., 0.],\n",
       "        [0., 0., 0., 0., 0., 0., 0., 0., 0., 1.],\n",
       "        [0., 0., 0., 0., 0., 0., 0., 0., 0., 1.],\n",
       "        [0., 0., 0., 0., 1., 0., 0., 0., 0., 0.],\n",
       "        [0., 1., 0., 0., 0., 0., 0., 0., 0., 0.]], dtype=float32),\n",
       " array([[0., 0., 0., 1., 0., 0., 0., 0., 0., 0.],\n",
       "        [0., 0., 0., 0., 0., 0., 0., 0., 1., 0.],\n",
       "        [0., 0., 0., 0., 0., 0., 0., 0., 1., 0.],\n",
       "        [1., 0., 0., 0., 0., 0., 0., 0., 0., 0.],\n",
       "        [0., 0., 0., 0., 0., 0., 1., 0., 0., 0.]], dtype=float32))"
      ]
     },
     "execution_count": 3,
     "metadata": {},
     "output_type": "execute_result"
    }
   ],
   "source": [
    " #Convert class vectors to binary class matrices. (OneHot)\n",
    "y_train = keras.utils.to_categorical(y_train, num_classes)\n",
    "y_test = keras.utils.to_categorical(y_test, num_classes)\n",
    "\n",
    "print(f'y_train.shap={y_train.shape}, y_test.shape={y_test.shape}')\n",
    "y_train[:5], y_test[:5]"
   ]
  },
  {
   "cell_type": "code",
   "execution_count": 4,
   "metadata": {},
   "outputs": [],
   "source": [
    "# Normalize x_train (R,G,B) to 0.0 ~ 1.0\n",
    "x_train = x_train.astype('float32') / 255.0\n",
    "x_test = x_test.astype('float32') / 255.0"
   ]
  },
  {
   "cell_type": "code",
   "execution_count": 5,
   "metadata": {},
   "outputs": [
    {
     "data": {
      "text/plain": [
       "10"
      ]
     },
     "execution_count": 5,
     "metadata": {},
     "output_type": "execute_result"
    }
   ],
   "source": [
    "num_classes"
   ]
  },
  {
   "cell_type": "code",
   "execution_count": 6,
   "metadata": {},
   "outputs": [
    {
     "name": "stdout",
     "output_type": "stream",
     "text": [
      "_________________________________________________________________\n",
      "Layer (type)                 Output Shape              Param #   \n",
      "=================================================================\n",
      "conv2d_1 (Conv2D)            (None, 32, 32, 64)        1792      \n",
      "_________________________________________________________________\n",
      "max_pooling2d_1 (MaxPooling2 (None, 16, 16, 64)        0         \n",
      "_________________________________________________________________\n",
      "flatten_1 (Flatten)          (None, 16384)             0         \n",
      "_________________________________________________________________\n",
      "dense_1 (Dense)              (None, 1024)              16778240  \n",
      "_________________________________________________________________\n",
      "activation_1 (Activation)    (None, 1024)              0         \n",
      "_________________________________________________________________\n",
      "dense_2 (Dense)              (None, 10)                10250     \n",
      "_________________________________________________________________\n",
      "activation_2 (Activation)    (None, 10)                0         \n",
      "=================================================================\n",
      "Total params: 16,790,282\n",
      "Trainable params: 16,790,282\n",
      "Non-trainable params: 0\n",
      "_________________________________________________________________\n",
      "None\n"
     ]
    }
   ],
   "source": [
    "# build our CNN model\n",
    "model = Sequential()\n",
    "\n",
    "# layer 1\n",
    "model.add(Conv2D(filters=64, \n",
    "                 kernel_size=(3,3),\n",
    "                 input_shape=(32, 32,3), \n",
    "                 activation='relu', \n",
    "                 padding='same'))\n",
    "\n",
    "# layer 2\n",
    "model.add(MaxPooling2D(pool_size=(2, 2)))\n",
    "\n",
    "# layer 3\n",
    "model.add(Flatten())\n",
    "\n",
    "# layer 4\n",
    "model.add(Dense(1024))\n",
    "\n",
    "# layer 5\n",
    "model.add(Activation('relu'))\n",
    "\n",
    "# layer 6\n",
    "model.add(Dense(num_classes))\n",
    "\n",
    "# lyaer 7\n",
    "model.add(Activation('softmax'))\n",
    "\n",
    "# Dump all model layers\n",
    "print(model.summary())"
   ]
  },
  {
   "cell_type": "code",
   "execution_count": null,
   "metadata": {},
   "outputs": [],
   "source": [
    "# validation_split: use 20 % to validate, so 50000*0.2 = 10000. (also means 40000 samples to train)\n",
    "# epochs: 10 times"
   ]
  },
  {
   "cell_type": "code",
   "execution_count": 7,
   "metadata": {},
   "outputs": [
    {
     "name": "stdout",
     "output_type": "stream",
     "text": [
      "Train on 40000 samples, validate on 10000 samples\n",
      "Epoch 1/10\n",
      "40000/40000 [==============================] - 38s 959us/step - loss: 1.6154 - acc: 0.4376 - val_loss: 1.3012 - val_acc: 0.5443\n",
      "Epoch 2/10\n",
      "40000/40000 [==============================] - 32s 789us/step - loss: 1.1722 - acc: 0.5851 - val_loss: 1.1417 - val_acc: 0.6092\n",
      "Epoch 3/10\n",
      "40000/40000 [==============================] - 31s 787us/step - loss: 1.0089 - acc: 0.6479 - val_loss: 1.0625 - val_acc: 0.6307\n",
      "Epoch 4/10\n",
      "40000/40000 [==============================] - 32s 789us/step - loss: 0.8791 - acc: 0.6908 - val_loss: 1.0568 - val_acc: 0.6330\n",
      "Epoch 5/10\n",
      "40000/40000 [==============================] - 31s 786us/step - loss: 0.7628 - acc: 0.7331 - val_loss: 1.0198 - val_acc: 0.6526\n",
      "Epoch 6/10\n",
      "40000/40000 [==============================] - 31s 785us/step - loss: 0.6397 - acc: 0.7789 - val_loss: 0.9886 - val_acc: 0.6644\n",
      "Epoch 7/10\n",
      "40000/40000 [==============================] - 31s 784us/step - loss: 0.5191 - acc: 0.8239 - val_loss: 0.9918 - val_acc: 0.6776\n",
      "Epoch 8/10\n",
      "40000/40000 [==============================] - 31s 787us/step - loss: 0.4029 - acc: 0.8686 - val_loss: 1.0935 - val_acc: 0.6714\n",
      "Epoch 9/10\n",
      "40000/40000 [==============================] - 31s 785us/step - loss: 0.3087 - acc: 0.9009 - val_loss: 1.1395 - val_acc: 0.6685\n",
      "Epoch 10/10\n",
      "40000/40000 [==============================] - 31s 785us/step - loss: 0.2256 - acc: 0.9321 - val_loss: 1.1560 - val_acc: 0.6773\n",
      "10000/10000 [==============================] - 2s 185us/step\n",
      "Test accuracy: 0.6597\n"
     ]
    }
   ],
   "source": [
    "# initiate Adam \"optimizer\"\n",
    "opt = keras.optimizers.Adam()\n",
    "\n",
    "# Let's train the model using Adam\n",
    "model.compile(loss='categorical_crossentropy',optimizer=opt,metrics=['accuracy'])\n",
    "\n",
    "model_history = model.fit(x_train, y_train, validation_split=0.2, epochs=10, batch_size=128, verbose=1)  \n",
    "\n",
    "# Score trained model.\n",
    "scores = model.evaluate(x_test, y_test, verbose=1)\n",
    "print('Test accuracy:', scores[1])"
   ]
  },
  {
   "cell_type": "code",
   "execution_count": null,
   "metadata": {},
   "outputs": [],
   "source": []
  }
 ],
 "metadata": {
  "kernelspec": {
   "display_name": "Python 3",
   "language": "python",
   "name": "python3"
  },
  "language_info": {
   "codemirror_mode": {
    "name": "ipython",
    "version": 3
   },
   "file_extension": ".py",
   "mimetype": "text/x-python",
   "name": "python",
   "nbconvert_exporter": "python",
   "pygments_lexer": "ipython3",
   "version": "3.6.8"
  }
 },
 "nbformat": 4,
 "nbformat_minor": 2
}
