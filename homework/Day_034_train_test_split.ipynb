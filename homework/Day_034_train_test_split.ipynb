{
 "cells": [
  {
   "cell_type": "markdown",
   "metadata": {},
   "source": [
    "## 引入我們需要的套件"
   ]
  },
  {
   "cell_type": "code",
   "execution_count": 1,
   "metadata": {},
   "outputs": [],
   "source": [
    "from sklearn.model_selection import train_test_split, KFold\n",
    "import numpy as np"
   ]
  },
  {
   "cell_type": "markdown",
   "metadata": {},
   "source": [
    "## 用 numpy 生成隨機資料"
   ]
  },
  {
   "cell_type": "code",
   "execution_count": 2,
   "metadata": {},
   "outputs": [
    {
     "name": "stdout",
     "output_type": "stream",
     "text": [
      "Shape of X:  (10, 5)\n",
      "Shape of y:  (10,)\n"
     ]
    }
   ],
   "source": [
    "X = np.arange(50).reshape(10, 5) # 生成從 0 到 50 的 array，並 reshape 成 (10, 5) 的 matrix\n",
    "y = np.zeros(10) # 生成一個全零 arrary\n",
    "y[:5] = 1 # 將一半的值改為 1\n",
    "print(\"Shape of X: \", X.shape)\n",
    "print(\"Shape of y: \", y.shape)"
   ]
  },
  {
   "cell_type": "code",
   "execution_count": 3,
   "metadata": {},
   "outputs": [
    {
     "name": "stdout",
     "output_type": "stream",
     "text": [
      "X: shape: (10, 5)\n",
      "[[ 0  1  2  3  4]\n",
      " [ 5  6  7  8  9]\n",
      " [10 11 12 13 14]\n",
      " [15 16 17 18 19]\n",
      " [20 21 22 23 24]\n",
      " [25 26 27 28 29]\n",
      " [30 31 32 33 34]\n",
      " [35 36 37 38 39]\n",
      " [40 41 42 43 44]\n",
      " [45 46 47 48 49]]\n",
      "\n",
      "y: shape: (10,)\n",
      "[1. 1. 1. 1. 1. 0. 0. 0. 0. 0.]\n"
     ]
    }
   ],
   "source": [
    "print('X: shape: ' + str(X.shape))\n",
    "print(X)\n",
    "print(\"\")\n",
    "print('y: shape: ' + str(y.shape))\n",
    "print(y)"
   ]
  },
  {
   "cell_type": "markdown",
   "metadata": {},
   "source": [
    "## 使用 train_test_split 函數進行切分\n",
    "請參考 train_test_split 函數的[說明](http://scikit-learn.org/stable/modules/generated/sklearn.model_selection.train_test_split.html)，了解函數裡的參數意義\n",
    "- test_size 一定只能小於 1 嗎？\n",
    "\n",
    "> Answer: No. If int(>1), represents the absolute number of test samples.\n",
    "\n",
    "- random_state 不設置會怎麼樣呢？\n",
    "\n",
    "> Answer: random_state：是随机数的种子。\n",
    ">\n",
    "> 随机数种子：其实就是该组随机数的编号，在需要重复试验的时候，保证得到一组一样的随机数。比如你每次都填1，其他参数一样的情况下你得到的随机数组是一样的。但填0或不填，每次都会不一样。\n"
   ]
  },
  {
   "cell_type": "markdown",
   "metadata": {},
   "source": [
    "------\n",
    "\n",
    "## sklearn.model_selection.train_test_split\n",
    "\n",
    "```\n",
    "sklearn.model_selection.train_test_split(*arrays, **options)[source]\n",
    "```\n",
    "\n",
    "Split arrays or matrices into random train and test subsets\n",
    "\n",
    "Quick utility that wraps input validation and next(ShuffleSplit().split(X, y)) and application to input data into a single call for splitting (and optionally subsampling) data in a oneliner.\n",
    "\n",
    "### Parameters:\t\n",
    "#### *arrays : sequence of indexables with same length / shape[0]\n",
    "Allowed inputs are lists, numpy arrays, scipy-sparse matrices or pandas dataframes.\n",
    "\n",
    "#### test_size : float, int or None, optional (default=0.25)\n",
    "If float, should be between 0.0 and 1.0 and represent the proportion of the dataset to include in the test split. If int, represents the absolute number of test samples. If None, the value is set to the complement of the train size. By default, the value is set to 0.25. The default will change in version 0.21. It will remain 0.25 only if train_size is unspecified, otherwise it will complement the specified train_size.\n",
    "\n",
    "#### train_size : float, int, or None, (default=None)\n",
    "If float, should be between 0.0 and 1.0 and represent the proportion of the dataset to include in the train split. If int, represents the absolute number of train samples. If None, the value is automatically set to the complement of the test size.\n",
    "\n",
    "#### random_state : int, RandomState instance or None, optional (default=None)\n",
    "If int, random_state is the seed used by the random number generator; If RandomState instance, random_state is the random number generator; If None, the random number generator is the RandomState instance used by np.random.\n",
    "\n",
    "#### shuffle : boolean, optional (default=True)\n",
    "Whether or not to shuffle the data before splitting. If shuffle=False then stratify must be None.\n",
    "\n",
    "#### stratify : array-like or None (default=None)\n",
    "If not None, data is split in a stratified fashion, using this as the class labels.\n",
    "\n",
    "### Returns:\t\n",
    "splitting : list, length=2 * len(arrays)\n",
    "List containing train-test split of inputs.\n",
    "\n",
    "New in version 0.16: If the input is sparse, the output will be a scipy.sparse.csr_matrix. Else, output type is the same as the input type.\n",
    "\n",
    "------"
   ]
  },
  {
   "cell_type": "code",
   "execution_count": 5,
   "metadata": {},
   "outputs": [],
   "source": [
    "# Note: test_size=0.33 表示 1/3 當作測試, 也就是 10*1/3 = 6 筆\n",
    "\n",
    "X_train, X_test, y_train, y_test = train_test_split(X, y, test_size=0.33, random_state=42)"
   ]
  },
  {
   "cell_type": "code",
   "execution_count": 6,
   "metadata": {},
   "outputs": [
    {
     "data": {
      "text/plain": [
       "array([[35, 36, 37, 38, 39],\n",
       "       [10, 11, 12, 13, 14],\n",
       "       [45, 46, 47, 48, 49],\n",
       "       [20, 21, 22, 23, 24],\n",
       "       [15, 16, 17, 18, 19],\n",
       "       [30, 31, 32, 33, 34]])"
      ]
     },
     "execution_count": 6,
     "metadata": {},
     "output_type": "execute_result"
    }
   ],
   "source": [
    "X_train"
   ]
  },
  {
   "cell_type": "code",
   "execution_count": 7,
   "metadata": {},
   "outputs": [
    {
     "data": {
      "text/plain": [
       "array([0., 1., 0., 1., 1., 0.])"
      ]
     },
     "execution_count": 7,
     "metadata": {},
     "output_type": "execute_result"
    }
   ],
   "source": [
    "y_train"
   ]
  },
  {
   "cell_type": "markdown",
   "metadata": {},
   "source": [
    "## 使用 K-fold Cross-validation 來切分資料\n",
    "請參考 kf 函數的[說明](https://scikit-learn.org/stable/modules/generated/sklearn.model_selection.KFold.html)，了解參數中的意義。K 可根據資料大小自行決定，K=5 是蠻常用的大小\n",
    "- 如果使用 shuffle=True 會怎麼樣?"
   ]
  },
  {
   "cell_type": "markdown",
   "metadata": {},
   "source": [
    "------\n",
    "\n",
    "## sklearn.model_selection.KFold\n",
    "\n",
    "```\n",
    "class sklearn.model_selection.KFold(n_splits=’warn’, shuffle=False, random_state=None)[source]\n",
    "```\n",
    "\n",
    "K-Folds cross-validator\n",
    "\n",
    "Provides train/test indices to split data in train/test sets. Split dataset into k consecutive folds (without shuffling by default).\n",
    "\n",
    "Each fold is then used once as a validation while the k - 1 remaining folds form the training set.\n",
    "\n",
    "### Parameters:\t\n",
    "#### n_splits : int, default=3\n",
    "Number of folds. Must be at least 2.\n",
    "\n",
    "Changed in version 0.20: n_splits default value will change from 3 to 5 in v0.22.\n",
    "\n",
    "#### shuffle : boolean, optional\n",
    "Whether to shuffle the data before splitting into batches.\n",
    "\n",
    "#### random_state : int, RandomState instance or None, optional, default=None\n",
    "If int, random_state is the seed used by the random number generator; If RandomState instance, random_state is the random number generator; If None, the random number generator is the RandomState instance used by np.random. Used when shuffle == True.\n",
    "\n",
    "\n",
    "------"
   ]
  },
  {
   "cell_type": "code",
   "execution_count": 12,
   "metadata": {},
   "outputs": [
    {
     "name": "stdout",
     "output_type": "stream",
     "text": [
      "<generator object _BaseKFold.split at 0x0000022E0CB71138>\n"
     ]
    }
   ],
   "source": [
    "kf = KFold(n_splits=5)\n",
    "print(f'{kf.split(X)}')"
   ]
  },
  {
   "cell_type": "code",
   "execution_count": 13,
   "metadata": {},
   "outputs": [
    {
     "name": "stdout",
     "output_type": "stream",
     "text": [
      "train_index=[2 3 4 5 6 7 8 9], test_index=[0 1]\n",
      "FOLD 1: \n",
      "X_test:  [[0 1 2 3 4]\n",
      " [5 6 7 8 9]]\n",
      "Y_test:  [1. 1.]\n",
      "------------------------------\n",
      "train_index=[0 1 4 5 6 7 8 9], test_index=[2 3]\n",
      "FOLD 2: \n",
      "X_test:  [[10 11 12 13 14]\n",
      " [15 16 17 18 19]]\n",
      "Y_test:  [1. 1.]\n",
      "------------------------------\n",
      "train_index=[0 1 2 3 6 7 8 9], test_index=[4 5]\n",
      "FOLD 3: \n",
      "X_test:  [[20 21 22 23 24]\n",
      " [25 26 27 28 29]]\n",
      "Y_test:  [1. 0.]\n",
      "------------------------------\n",
      "train_index=[0 1 2 3 4 5 8 9], test_index=[6 7]\n",
      "FOLD 4: \n",
      "X_test:  [[30 31 32 33 34]\n",
      " [35 36 37 38 39]]\n",
      "Y_test:  [0. 0.]\n",
      "------------------------------\n",
      "train_index=[0 1 2 3 4 5 6 7], test_index=[8 9]\n",
      "FOLD 5: \n",
      "X_test:  [[40 41 42 43 44]\n",
      " [45 46 47 48 49]]\n",
      "Y_test:  [0. 0.]\n",
      "------------------------------\n"
     ]
    }
   ],
   "source": [
    "\n",
    "i = 0\n",
    "for train_index, test_index in kf.split(X):\n",
    "    i +=1 \n",
    "    print(f'train_index={train_index}, test_index={test_index}')\n",
    "    X_train, X_test = X[train_index], X[test_index]\n",
    "    y_train, y_test = y[train_index], y[test_index]\n",
    "    print(\"FOLD {}: \".format(i))\n",
    "    print(\"X_test: \", X_test)\n",
    "    print(\"Y_test: \", y_test)\n",
    "    print(\"-\"*30)"
   ]
  },
  {
   "cell_type": "markdown",
   "metadata": {},
   "source": [
    "## 練習時間\n",
    "假設我們資料中類別的數量並不均衡，在評估準確率時可能會有所偏頗，試著切分出 y_test 中，0 類別與 1 類別的數量是一樣的 (亦即 y_test 的類別是均衡的)"
   ]
  },
  {
   "cell_type": "code",
   "execution_count": 14,
   "metadata": {},
   "outputs": [],
   "source": [
    "X = np.arange(1000).reshape(200, 5)\n",
    "y = np.zeros(200)\n",
    "y[:40] = 1"
   ]
  },
  {
   "cell_type": "code",
   "execution_count": 15,
   "metadata": {},
   "outputs": [
    {
     "data": {
      "text/plain": [
       "array([1., 1., 1., 1., 1., 1., 1., 1., 1., 1., 1., 1., 1., 1., 1., 1., 1.,\n",
       "       1., 1., 1., 1., 1., 1., 1., 1., 1., 1., 1., 1., 1., 1., 1., 1., 1.,\n",
       "       1., 1., 1., 1., 1., 1., 0., 0., 0., 0., 0., 0., 0., 0., 0., 0., 0.,\n",
       "       0., 0., 0., 0., 0., 0., 0., 0., 0., 0., 0., 0., 0., 0., 0., 0., 0.,\n",
       "       0., 0., 0., 0., 0., 0., 0., 0., 0., 0., 0., 0., 0., 0., 0., 0., 0.,\n",
       "       0., 0., 0., 0., 0., 0., 0., 0., 0., 0., 0., 0., 0., 0., 0., 0., 0.,\n",
       "       0., 0., 0., 0., 0., 0., 0., 0., 0., 0., 0., 0., 0., 0., 0., 0., 0.,\n",
       "       0., 0., 0., 0., 0., 0., 0., 0., 0., 0., 0., 0., 0., 0., 0., 0., 0.,\n",
       "       0., 0., 0., 0., 0., 0., 0., 0., 0., 0., 0., 0., 0., 0., 0., 0., 0.,\n",
       "       0., 0., 0., 0., 0., 0., 0., 0., 0., 0., 0., 0., 0., 0., 0., 0., 0.,\n",
       "       0., 0., 0., 0., 0., 0., 0., 0., 0., 0., 0., 0., 0., 0., 0., 0., 0.,\n",
       "       0., 0., 0., 0., 0., 0., 0., 0., 0., 0., 0., 0., 0.])"
      ]
     },
     "execution_count": 15,
     "metadata": {},
     "output_type": "execute_result"
    }
   ],
   "source": [
    "y"
   ]
  },
  {
   "cell_type": "markdown",
   "metadata": {},
   "source": [
    "可以看見 y 類別中，有 160 個 類別 0，40 個 類別 1 ，請試著使用 train_test_split 函數，切分出 y_test 中能各有 10 筆類別 0 與 10 筆類別 1 。(HINT: 參考函數中的 test_size，可針對不同類別各自作切分後再合併)"
   ]
  },
  {
   "cell_type": "code",
   "execution_count": null,
   "metadata": {
    "collapsed": true
   },
   "outputs": [],
   "source": []
  }
 ],
 "metadata": {
  "kernelspec": {
   "display_name": "Python 3",
   "language": "python",
   "name": "python3"
  },
  "language_info": {
   "codemirror_mode": {
    "name": "ipython",
    "version": 3
   },
   "file_extension": ".py",
   "mimetype": "text/x-python",
   "name": "python",
   "nbconvert_exporter": "python",
   "pygments_lexer": "ipython3",
   "version": "3.7.1"
  }
 },
 "nbformat": 4,
 "nbformat_minor": 2
}
