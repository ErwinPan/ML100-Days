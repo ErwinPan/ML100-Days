{
 "cells": [
  {
   "cell_type": "markdown",
   "metadata": {},
   "source": [
    "# PCA 範例\n",
    "* 以 PCA + 邏輯斯迴歸判斷手寫辨識資料集, 觀察不同 component 下正確率的變化"
   ]
  },
  {
   "cell_type": "code",
   "execution_count": 1,
   "metadata": {},
   "outputs": [],
   "source": [
    "# 載入套件\n",
    "import numpy as np\n",
    "import matplotlib.pyplot as plt\n",
    "import pandas as pd\n",
    "\n",
    "from sklearn import datasets\n",
    "from sklearn.decomposition import PCA\n",
    "from sklearn.linear_model import SGDClassifier\n",
    "from sklearn.pipeline import Pipeline\n",
    "from sklearn.model_selection import GridSearchCV\n",
    "import warnings\n",
    "warnings.filterwarnings(\"ignore\")"
   ]
  },
  {
   "cell_type": "code",
   "execution_count": 5,
   "metadata": {},
   "outputs": [],
   "source": [
    "# 定義 PCA 與隨後的羅吉斯迴歸函數\n",
    "# penalty 改為 L1, max_iter 改為 100\n",
    "logistic = SGDClassifier(loss='log', penalty='l1', max_iter=10000, tol=1e-5, random_state=0)\n",
    "pca = PCA()\n",
    "pipe = Pipeline(steps=[('pca', pca), ('logistic', logistic)])\n",
    "\n",
    "# 載入手寫數字辨識集\n",
    "digits = datasets.load_digits()\n",
    "X_digits = digits.data\n",
    "y_digits = digits.target"
   ]
  },
  {
   "cell_type": "markdown",
   "metadata": {},
   "source": [
    "# 作業\n",
    "* 將參數 penalty 改為 L1, max_iter 改為 100, 觀察 PCA 與羅吉斯迴歸做手寫辨識的效果\n",
    "\n",
    "> Answer: \n",
    ">\n",
    ">   1. Best score 仍然出現在 components=30, 但是 alpha = 0.0001\n",
    ">   2. 結果沒有較好, 原本 (penalty = 'l1', max_iterm = '100') 的 Best Score = 0.918, 現在 (penalty = 'l1', max_iterm = '100') 是 0.916"
   ]
  },
  {
   "cell_type": "code",
   "execution_count": 8,
   "metadata": {},
   "outputs": [
    {
     "name": "stdout",
     "output_type": "stream",
     "text": [
      "Best parameter (CV score=0.916):\n",
      "{'logistic__alpha': 0.01, 'pca__n_components': 30}\n"
     ]
    }
   ],
   "source": [
    "# 執行 GridSearchCV 跑出最佳參數\n",
    "\n",
    "\n",
    "# Note: Pipeline 的特殊用法 \"__\" 是 delimiter\n",
    "#    pca__n_components => Apply \"n_components\" to \"pca\"\n",
    "#    logistic__alpha => Apply \"alpha\" to \"logistic\"\n",
    "param_grid = {\n",
    "    'pca__n_components': [4, 10, 20, 30, 40, 50, 64],\n",
    "    'logistic__alpha': np.logspace(-4, 4, 5),\n",
    "}\n",
    "\n",
    "'''\n",
    "sklearn.model_selection.GridSearchCV\n",
    "\n",
    "    Exhaustive search over specified parameter values for an estimator\n",
    "    \n",
    "    Important members are fit, predict.\n",
    "\n",
    "    GridSearchCV implements a “fit” and a “score” method. \n",
    "    It also implements “predict”, “predict_proba”, “decision_function”, “transform” and “inverse_transform” \n",
    "    if they are implemented in the estimator used.\n",
    "    \n",
    "    param_grid : dict or list of dictionaries\n",
    "        Dictionary with parameters names (string) as keys and lists of parameter settings to try as values, \n",
    "        or a list of such dictionaries, in which case the grids spanned by each dictionary in the list are explored. \n",
    "        This enables searching over any sequence of parameter settings.\n",
    "    \n",
    "'''\n",
    "\n",
    "search = GridSearchCV(pipe, param_grid, iid=False, cv=5, return_train_score=False)\n",
    "search.fit(X_digits, y_digits)\n",
    "print(\"Best parameter (CV score=%0.3f):\" % search.best_score_)\n",
    "print(search.best_params_)"
   ]
  },
  {
   "cell_type": "code",
   "execution_count": 9,
   "metadata": {},
   "outputs": [
    {
     "name": "stdout",
     "output_type": "stream",
     "text": [
      "pca.explained_variance_ratio_.shape=(64,)\n",
      "results.shape = (35, 15)\n",
      "results.head() =    mean_fit_time  std_fit_time  mean_score_time  std_score_time  \\\n",
      "0       0.091569      0.013653         0.000604        0.001208   \n",
      "1       0.084738      0.020156         0.000000        0.000000   \n",
      "2       0.089095      0.011494         0.000000        0.000000   \n",
      "3       0.118894      0.009902         0.000399        0.000489   \n",
      "4       0.147407      0.019958         0.000599        0.000489   \n",
      "5       0.196946      0.030653         0.001200        0.000398   \n",
      "6       0.180330      0.024150         0.000000        0.000000   \n",
      "7       0.558705      0.444117         0.000000        0.000000   \n",
      "8       0.183804      0.208897         0.000000        0.000000   \n",
      "9       0.085708      0.014210         0.000000        0.000000   \n",
      "\n",
      "  param_logistic__alpha param_pca__n_components  \\\n",
      "0                0.0001                       4   \n",
      "1                0.0001                      10   \n",
      "2                0.0001                      20   \n",
      "3                0.0001                      30   \n",
      "4                0.0001                      40   \n",
      "5                0.0001                      50   \n",
      "6                0.0001                      64   \n",
      "7                  0.01                       4   \n",
      "8                  0.01                      10   \n",
      "9                  0.01                      20   \n",
      "\n",
      "                                              params  split0_test_score  \\\n",
      "0  {'logistic__alpha': 0.0001, 'pca__n_components...           0.689560   \n",
      "1  {'logistic__alpha': 0.0001, 'pca__n_components...           0.914835   \n",
      "2  {'logistic__alpha': 0.0001, 'pca__n_components...           0.934066   \n",
      "3  {'logistic__alpha': 0.0001, 'pca__n_components...           0.917582   \n",
      "4  {'logistic__alpha': 0.0001, 'pca__n_components...           0.901099   \n",
      "5  {'logistic__alpha': 0.0001, 'pca__n_components...           0.909341   \n",
      "6  {'logistic__alpha': 0.0001, 'pca__n_components...           0.912088   \n",
      "7  {'logistic__alpha': 0.01, 'pca__n_components': 4}           0.730769   \n",
      "8  {'logistic__alpha': 0.01, 'pca__n_components':...           0.909341   \n",
      "9  {'logistic__alpha': 0.01, 'pca__n_components':...           0.923077   \n",
      "\n",
      "   split1_test_score  split2_test_score  split3_test_score  split4_test_score  \\\n",
      "0           0.580110           0.685237           0.711485           0.681690   \n",
      "1           0.837017           0.888579           0.901961           0.845070   \n",
      "2           0.861878           0.894150           0.935574           0.887324   \n",
      "3           0.859116           0.924791           0.955182           0.884507   \n",
      "4           0.864641           0.922006           0.943978           0.895775   \n",
      "5           0.842541           0.927577           0.952381           0.881690   \n",
      "6           0.870166           0.916435           0.952381           0.876056   \n",
      "7           0.599448           0.718663           0.719888           0.692958   \n",
      "8           0.861878           0.894150           0.913165           0.839437   \n",
      "9           0.875691           0.910864           0.949580           0.878873   \n",
      "\n",
      "   mean_test_score  std_test_score  rank_test_score  \n",
      "0         0.669616        0.045939               14  \n",
      "1         0.877492        0.031002               12  \n",
      "2         0.902599        0.028427                8  \n",
      "3         0.908236        0.033290                3  \n",
      "4         0.905500        0.026595                5  \n",
      "5         0.902706        0.037925                7  \n",
      "6         0.905425        0.029921                6  \n",
      "7         0.692345        0.048079               13  \n",
      "8         0.883594        0.028531               11  \n",
      "9         0.907617        0.027770                4  \n",
      "type(best_clfs) = <class 'pandas.core.frame.DataFrame'>\n",
      "best_clfs.shape = (7, 15)\n"
     ]
    },
    {
     "data": {
      "image/png": "[encoded data removed]",
      "text/plain": [
       "<Figure size 864x864 with 2 Axes>"
      ]
     },
     "metadata": {
      "needs_background": "light"
     },
     "output_type": "display_data"
    }
   ],
   "source": [
    "# 繪製不同 components 的 PCA explained variance ratio\n",
    "pca.fit(X_digits)\n",
    "\n",
    "# Erwin:\n",
    "#    sharex: means share x coordinate and labels\n",
    "fig, (ax0, ax1) = plt.subplots(nrows=2, sharex=True, figsize=(12, 12))\n",
    "\n",
    "'''\n",
    "Draw ax0\n",
    "'''\n",
    "\n",
    "print(f'pca.explained_variance_ratio_.shape={pca.explained_variance_ratio_.shape}')\n",
    "# print(f'pca.explained_variance_ratio_={pca.explained_variance_ratio_}')\n",
    "\n",
    "# explained_variance_ratio_: Percentage of variance explained by each of the selected components.\n",
    "ax0.plot(pca.explained_variance_ratio_, linewidth=2)\n",
    "ax0.set_ylabel('PCA explained variance')\n",
    "ax1.set_xlabel('n_components')\n",
    "\n",
    "# axvline : draw vertical line\n",
    "ax0.axvline(search.best_estimator_.named_steps['pca'].n_components, linestyle=':', label='n_components chosen')\n",
    "ax0.legend(prop=dict(size=12))\n",
    "\n",
    "'''\n",
    "Draw ax1\n",
    "'''\n",
    "\n",
    "\n",
    "# 繪製 7 個不同採樣點的 accuracy\n",
    "results = pd.DataFrame(search.cv_results_)\n",
    "print(f'results.shape = {results.shape}')\n",
    "print(f'results.head() = {results.head(10)}')\n",
    "components_col = 'param_pca__n_components'\n",
    "\n",
    "'''\n",
    "pandas.DataFrame.nlargest\n",
    "\n",
    "    DataFrame.nlargest(n, columns, keep='first')\n",
    "    \n",
    "    Return the first n rows ordered by columns in descending order.\n",
    "'''\n",
    "# Return an Dataframe:  \n",
    "#    Grouped by components_col (or 'param_pca__n_components',  or 4,10,20, ...)\n",
    "#    Sort and Pick the largest y='mean_test_score'\n",
    "#    Returning the dataframe is\n",
    "#        x: 7 rows ('param_pca__n_components')\n",
    "#        y: 15 columns (all columns from GridSearchCV)\n",
    "best_clfs = results.groupby(components_col).apply(lambda d: d.nlargest(1, 'mean_test_score'))\n",
    "print(f'type(best_clfs) = {type(best_clfs)}')\n",
    "print(f'best_clfs.shape = {best_clfs.shape}')\n",
    "\n",
    "best_clfs.plot(x=components_col, y='mean_test_score', yerr='std_test_score', legend=False, ax=ax1)\n",
    "ax1.set_ylabel('Classification accuracy (val)')\n",
    "ax1.set_xlabel('n_components')\n",
    "# plt.tight_layout()\n",
    "\n",
    "plt.show()\n"
   ]
  },
  {
   "cell_type": "markdown",
   "metadata": {
    "collapsed": true
   },
   "source": []
  }
 ],
 "metadata": {
  "kernelspec": {
   "display_name": "Python 3",
   "language": "python",
   "name": "python3"
  },
  "language_info": {
   "codemirror_mode": {
    "name": "ipython",
    "version": 3
   },
   "file_extension": ".py",
   "mimetype": "text/x-python",
   "name": "python",
   "nbconvert_exporter": "python",
   "pygments_lexer": "ipython3",
   "version": "3.7.1"
  }
 },
 "nbformat": 4,
 "nbformat_minor": 1
}
