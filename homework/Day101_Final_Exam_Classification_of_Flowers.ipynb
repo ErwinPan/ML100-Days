{
 "cells": [
  {
   "cell_type": "code",
   "execution_count": 19,
   "metadata": {},
   "outputs": [],
   "source": [
    "flower_mapping = {'daisy':0, 'dandelion':1, 'rose':2, 'sunflower':3, 'tulip':4} \n",
    "\n",
    "train_data_path = './Day_101/ml100marathon-final-exam/image_data/train'"
   ]
  },
  {
   "cell_type": "markdown",
   "metadata": {},
   "source": [
    "### Refer to https://github.com/lucasdupin/ml-image-scaling/blob/master/1_preprocessing.ipynb"
   ]
  },
  {
   "cell_type": "code",
   "execution_count": 20,
   "metadata": {},
   "outputs": [],
   "source": [
    "import numpy as np\n",
    "import matplotlib.pyplot as plt  \n",
    "\n",
    "from PIL import Image # Make sure you have Pillow! PIL may import but WILL raise exceptions\n",
    "\n",
    "%matplotlib inline"
   ]
  },
  {
   "cell_type": "code",
   "execution_count": 37,
   "metadata": {},
   "outputs": [
    {
     "name": "stdout",
     "output_type": "stream",
     "text": [
      "Processing folder .\\Day_101\\ml100marathon-final-exam\\image_data\n",
      "Processing folder .\\Day_101\\ml100marathon-final-exam\\image_data\\test\n",
      "Processing folder .\\Day_101\\ml100marathon-final-exam\\image_data\\train\n",
      "Processing folder .\\Day_101\\ml100marathon-final-exam\\image_data\\train\\daisy\n",
      "Processing folder .\\Day_101\\ml100marathon-final-exam\\image_data\\train\\dandelion\n",
      "Processing folder .\\Day_101\\ml100marathon-final-exam\\image_data\\train\\rose\n",
      "Processing folder .\\Day_101\\ml100marathon-final-exam\\image_data\\train\\sunflower\n",
      "Processing folder .\\Day_101\\ml100marathon-final-exam\\image_data\\train\\tulip\n",
      "Done!\n"
     ]
    }
   ],
   "source": [
    "import os\n",
    "import sys\n",
    "\n",
    "original_size = (150, 150)\n",
    "small_size = (100, 100)\n",
    "\n",
    "def image_cache_root_path(image_folder):\n",
    "    return os.path.join(image_folder, '.cache')\n",
    "\n",
    "def image_cache_folder_path(image_folder, resolution):\n",
    "    return os.path.join(image_cache_root_path(image_folder), resolution)\n",
    "    \n",
    "def image_cache_file_path(image_folder, image_file, resolution):\n",
    "    return os.path.join(image_cache_folder_path(image_folder, resolution), image_file)\n",
    "    \n",
    "\n",
    "def process_image(folder, image_path, image_cache_high, image_cache_low):\n",
    "    \"\"\" Resizes an image, creating a big and a reduced version \"\"\"\n",
    "    \n",
    "    # Skip files that already were generated or directories\n",
    "    if os.path.exists(image_cache_high) and os.path.exists(image_cache_low):\n",
    "        return\n",
    "    \n",
    "    with Image.open(image_path) as original:\n",
    "  \n",
    "        # Ignore images smaller than our target size\n",
    "        if original.size[0] < original_size[0] or original.size[1] < original_size[1]:\n",
    "            # print(\"image %s with size %s is too small, skipping...\" % (image_path, original.size))\n",
    "            return\n",
    "\n",
    "        #print(\"resizing and cropping: %s\" % image_path)\n",
    "        center = (original.size[0]/2, original.size[1]/2)\n",
    "        size = original_size[0]\n",
    "        cropped = original.crop((center[0] - size/2, \n",
    "                                 center[1] - size/2, \n",
    "                                 center[0] + size/2,\n",
    "                                 center[1] + size/2))\n",
    "        # High-res version - labels\n",
    "        cropped.save(image_cache_high)\n",
    "        # Generate low-res version of the image - train data\n",
    "        small = cropped.resize(small_size, Image.ANTIALIAS)\n",
    "        small.save(image_cache_low)\n",
    "\n",
    "\n",
    "def process_imagefolder_recursive(folder):\n",
    "    \n",
    "    print(\"Processing folder %s\" % (folder))\n",
    "    #print(\".\", end=\"\")\n",
    "    \n",
    "    image_cache_root = image_cache_root_path(folder)\n",
    "    if not os.path.exists(image_cache_root):\n",
    "        os.mkdir(image_cache_root)\n",
    "\n",
    "    image_cache_folder_high = image_cache_folder_path(folder, 'high')\n",
    "    if not os.path.exists(image_cache_folder_high):\n",
    "        os.mkdir(image_cache_folder_high)\n",
    "\n",
    "    image_cache_folder_low = image_cache_folder_path(folder, 'low')\n",
    "    if not os.path.exists(image_cache_folder_low):\n",
    "        os.mkdir(image_cache_folder_low)\n",
    "\n",
    "    # Get list of all image folders\n",
    "    for d in sorted(os.listdir(folder)):\n",
    "        \n",
    "        # Ignore cache itself\n",
    "        if d.startswith(\".\"):\n",
    "            continue\n",
    "        \n",
    "        # Recursive to folder\n",
    "        if os.path.isdir(os.path.join(folder, d)):\n",
    "            process_imagefolder_recursive(os.path.join(folder, d))\n",
    "            continue\n",
    "\n",
    "        # Check picture only\n",
    "        if d.lower().endswith(('.jpg', 'png')):\n",
    "            image_path = os.path.join(folder, d)\n",
    "            image_cache_high = image_cache_file_path(folder, d, 'high')\n",
    "            image_cache_low = image_cache_file_path(folder, d, 'low')\n",
    "            process_image(folder, image_path, image_cache_high, image_cache_low)\n",
    "        \n",
    "process_imagefolder_recursive('.\\Day_101\\ml100marathon-final-exam\\image_data')\n",
    "        \n",
    "print(\"Done!\")"
   ]
  },
  {
   "cell_type": "code",
   "execution_count": null,
   "metadata": {},
   "outputs": [],
   "source": [
    "import imageio"
   ]
  },
  {
   "cell_type": "code",
   "execution_count": 28,
   "metadata": {},
   "outputs": [],
   "source": [
    "# Read image file to memory as RGB array\n",
    "def read_image_to_rgb(image_path):\n",
    "    im = imageio.imread(image_path)\n",
    "    print(im.shape)\n",
    "\n"
   ]
  },
  {
   "cell_type": "code",
   "execution_count": null,
   "metadata": {},
   "outputs": [],
   "source": [
    "def load_image_and_label(folder, label)"
   ]
  },
  {
   "cell_type": "code",
   "execution_count": null,
   "metadata": {},
   "outputs": [],
   "source": [
    "x_img_train, y_label_train = \n",
    "x_img_test\n",
    "y_label_test"
   ]
  },
  {
   "cell_type": "code",
   "execution_count": null,
   "metadata": {},
   "outputs": [],
   "source": []
  }
 ],
 "metadata": {
  "kernelspec": {
   "display_name": "Python 3",
   "language": "python",
   "name": "python3"
  },
  "language_info": {
   "codemirror_mode": {
    "name": "ipython",
    "version": 3
   },
   "file_extension": ".py",
   "mimetype": "text/x-python",
   "name": "python",
   "nbconvert_exporter": "python",
   "pygments_lexer": "ipython3",
   "version": "3.6.8"
  }
 },
 "nbformat": 4,
 "nbformat_minor": 2
}
