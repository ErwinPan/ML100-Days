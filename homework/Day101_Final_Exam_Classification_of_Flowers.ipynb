{
 "cells": [
  {
   "cell_type": "code",
   "execution_count": 118,
   "metadata": {},
   "outputs": [],
   "source": [
    "label_dict = {0:'daisy', 1:'dandelion', 2:'rose', 3:'sunflower', 4:'tulip'}\n",
    "\n",
    "train_data_path = './Day_101/ml100marathon-final-exam/image_data/train'"
   ]
  },
  {
   "cell_type": "markdown",
   "metadata": {},
   "source": [
    "### Refer to https://github.com/lucasdupin/ml-image-scaling/blob/master/1_preprocessing.ipynb"
   ]
  },
  {
   "cell_type": "code",
   "execution_count": 119,
   "metadata": {},
   "outputs": [],
   "source": [
    "import numpy as np\n",
    "import matplotlib.pyplot as plt  \n",
    "\n",
    "from PIL import Image # Make sure you have Pillow! PIL may import but WILL raise exceptions\n",
    "\n",
    "%matplotlib inline"
   ]
  },
  {
   "cell_type": "code",
   "execution_count": 120,
   "metadata": {},
   "outputs": [
    {
     "name": "stdout",
     "output_type": "stream",
     "text": [
      "Processing folder .\\Day_101\\ml100marathon-final-exam\\image_data\n",
      "skip hidden file .cache\n",
      "skip folder test\n",
      "Processing folder .\\Day_101\\ml100marathon-final-exam\\image_data\\test\n",
      "skip hidden file .cache\n",
      "skip folder train\n",
      "Processing folder .\\Day_101\\ml100marathon-final-exam\\image_data\\train\n",
      "skip hidden file .cache\n",
      "skip folder daisy\n",
      "Processing folder .\\Day_101\\ml100marathon-final-exam\\image_data\\train\\daisy\n",
      "skip hidden file .cache\n",
      "skip folder dandelion\n",
      "Processing folder .\\Day_101\\ml100marathon-final-exam\\image_data\\train\\dandelion\n",
      "skip hidden file .cache\n",
      "skip folder rose\n",
      "Processing folder .\\Day_101\\ml100marathon-final-exam\\image_data\\train\\rose\n",
      "skip hidden file .cache\n",
      "skip folder sunflower\n",
      "Processing folder .\\Day_101\\ml100marathon-final-exam\\image_data\\train\\sunflower\n",
      "skip hidden file .cache\n",
      "skip folder tulip\n",
      "Processing folder .\\Day_101\\ml100marathon-final-exam\\image_data\\train\\tulip\n",
      "skip hidden file .cache\n",
      "Done!\n"
     ]
    }
   ],
   "source": [
    "import os\n",
    "import sys\n",
    "\n",
    "SMALL=32\n",
    "\n",
    "original_size = (80, 80)\n",
    "small_size = (SMALL, SMALL)\n",
    "\n",
    "def image_cache_root_path(image_folder):\n",
    "    return os.path.join(image_folder, '.cache')\n",
    "\n",
    "def image_cache_folder_path(image_folder, resolution):\n",
    "    return os.path.join(image_cache_root_path(image_folder), resolution)\n",
    "    \n",
    "def image_cache_file_path(image_folder, image_file, resolution):\n",
    "    return os.path.join(image_cache_folder_path(image_folder, resolution), image_file)\n",
    "    \n",
    "\n",
    "def process_image(folder, image_path, image_cache_high, image_cache_low):\n",
    "    \"\"\" Resizes an image, creating a big and a reduced version \"\"\"\n",
    "    \n",
    "    # Skip files that already were generated or directories\n",
    "    if os.path.exists(image_cache_high) and os.path.exists(image_cache_low):\n",
    "        return\n",
    "    \n",
    "    with Image.open(image_path) as original:\n",
    "  \n",
    "        # Ignore images smaller than our target size\n",
    "        if original.size[0] < original_size[0] or original.size[1] < original_size[1]:\n",
    "            print(\"image %s with size %s is too small, skipping...\" % (image_path, original.size))\n",
    "            return\n",
    "\n",
    "        #print(\"resizing and cropping: %s\" % image_path)\n",
    "        center = (original.size[0]/2, original.size[1]/2)\n",
    "        size = original_size[0]\n",
    "        cropped = original.crop((center[0] - size/2, \n",
    "                                 center[1] - size/2, \n",
    "                                 center[0] + size/2,\n",
    "                                 center[1] + size/2))\n",
    "        # High-res version - labels\n",
    "        cropped.save(image_cache_high)\n",
    "        # Generate low-res version of the image - train data\n",
    "        small = cropped.resize(small_size, Image.ANTIALIAS)\n",
    "        small.save(image_cache_low)\n",
    "\n",
    "\n",
    "def process_imagefolder_recursive(folder):\n",
    "    \n",
    "    print(\"Processing folder %s\" % (folder))\n",
    "    #print(\".\", end=\"\")\n",
    "    \n",
    "    image_cache_root = image_cache_root_path(folder)\n",
    "    if not os.path.exists(image_cache_root):\n",
    "        os.mkdir(image_cache_root)\n",
    "\n",
    "    image_cache_folder_high = image_cache_folder_path(folder, 'high')\n",
    "    if not os.path.exists(image_cache_folder_high):\n",
    "        os.mkdir(image_cache_folder_high)\n",
    "\n",
    "    image_cache_folder_low = image_cache_folder_path(folder, 'low')\n",
    "    if not os.path.exists(image_cache_folder_low):\n",
    "        os.mkdir(image_cache_folder_low)\n",
    "\n",
    "    # Get list of all image folders\n",
    "    for d in sorted(os.listdir(folder)):\n",
    "        \n",
    "        # Ignore cache itself\n",
    "        if d.startswith(\".\"):\n",
    "            print(f'skip hidden file {d}')\n",
    "            continue\n",
    "        \n",
    "        # Recursive to folder\n",
    "        if os.path.isdir(os.path.join(folder, d)):\n",
    "            print(f'skip folder {d}')\n",
    "            process_imagefolder_recursive(os.path.join(folder, d))\n",
    "            continue\n",
    "\n",
    "        # Check picture only\n",
    "        if d.lower().endswith(('.jpg', 'png')):\n",
    "            image_path = os.path.join(folder, d)\n",
    "            image_cache_high = image_cache_file_path(folder, d, 'high')\n",
    "            image_cache_low = image_cache_file_path(folder, d, 'low')\n",
    "            process_image(folder, image_path, image_cache_high, image_cache_low)\n",
    "        \n",
    "process_imagefolder_recursive('.\\Day_101\\ml100marathon-final-exam\\image_data')\n",
    "        \n",
    "print(\"Done!\")"
   ]
  },
  {
   "cell_type": "code",
   "execution_count": 121,
   "metadata": {},
   "outputs": [],
   "source": [
    "import imageio"
   ]
  },
  {
   "cell_type": "code",
   "execution_count": 122,
   "metadata": {},
   "outputs": [],
   "source": [
    "# Read image file to memory as RGB array\n",
    "def load_image_to_rgb(image_path):\n",
    "    im = imageio.imread(image_path)\n",
    "    # print(im.shape)\n",
    "    return im\n"
   ]
  },
  {
   "cell_type": "code",
   "execution_count": 123,
   "metadata": {},
   "outputs": [],
   "source": [
    "import numpy as np"
   ]
  },
  {
   "cell_type": "code",
   "execution_count": 124,
   "metadata": {},
   "outputs": [],
   "source": [
    "def load_image_and_label(folder, showfile=False):\n",
    "    image_array = np.empty((0, SMALL, SMALL, 3), int)\n",
    "    file_array = np.empty((0), str)\n",
    "    count = 0\n",
    "    print(f'image_array.shape = {image_array.shape}')\n",
    "    folder_list = os.listdir(folder)\n",
    "    print(f'folder_list count of {folder} is {len(folder_list)}')\n",
    "    for d in folder_list:\n",
    "        if not d.lower().endswith(('.jpg', 'png')):\n",
    "            print(f'skip non image file: {d}')\n",
    "            continue\n",
    "        im = load_image_to_rgb(os.path.join(folder, d))\n",
    "        if im is None:\n",
    "            print(f'Error when loading image:{os.path.join(folder, d)}')\n",
    "            continue\n",
    "        # img_array[count] = im\n",
    "        #print(f'im.shape = {im.shape}')\n",
    "        a = np.empty((1, SMALL, SMALL, 3), int)\n",
    "        a[0] = im\n",
    "        image_array = np.append(image_array, a, axis=0)\n",
    "        file_array = np.append(file_array, [os.path.splitext(d)[0]], axis=0)\n",
    "        count += 1\n",
    "        \n",
    "        #print(f'count = {count}')\n",
    "        # print(f'd={d}')\n",
    "        # print(f'image_array.shape = {image_array.shape}')\n",
    "        \n",
    "    if showfile:\n",
    "        return (image_array, count, file_array)\n",
    "    else:\n",
    "        return (image_array, count)"
   ]
  },
  {
   "cell_type": "code",
   "execution_count": 125,
   "metadata": {},
   "outputs": [
    {
     "name": "stdout",
     "output_type": "stream",
     "text": [
      "Processing training data, flower=daisy, index=0\n",
      "image_array.shape = (0, 32, 32, 3)\n",
      "folder_list count of .\\Day_101\\ml100marathon-final-exam\\image_data\\train\\daisy\\.cache\\low is 500\n",
      "(500, 32, 32, 3) (500, 1)\n",
      "Processing training data, flower=dandelion, index=1\n",
      "image_array.shape = (0, 32, 32, 3)\n",
      "folder_list count of .\\Day_101\\ml100marathon-final-exam\\image_data\\train\\dandelion\\.cache\\low is 687\n",
      "(1187, 32, 32, 3) (1187, 1)\n",
      "Processing training data, flower=rose, index=2\n",
      "image_array.shape = (0, 32, 32, 3)\n",
      "folder_list count of .\\Day_101\\ml100marathon-final-exam\\image_data\\train\\rose\\.cache\\low is 515\n",
      "(1702, 32, 32, 3) (1702, 1)\n",
      "Processing training data, flower=sunflower, index=3\n",
      "image_array.shape = (0, 32, 32, 3)\n",
      "folder_list count of .\\Day_101\\ml100marathon-final-exam\\image_data\\train\\sunflower\\.cache\\low is 488\n",
      "(2190, 32, 32, 3) (2190, 1)\n",
      "Processing training data, flower=tulip, index=4\n",
      "image_array.shape = (0, 32, 32, 3)\n",
      "folder_list count of .\\Day_101\\ml100marathon-final-exam\\image_data\\train\\tulip\\.cache\\low is 633\n",
      "(2823, 32, 32, 3) (2823, 1)\n",
      "[[[136 130  98]\n",
      "  [138 131 125]\n",
      "  [133 131 145]\n",
      "  ...\n",
      "  [224 211 205]\n",
      "  [218 222 208]\n",
      "  [213 227 210]]\n",
      "\n",
      " [[135 129 107]\n",
      "  [136 131 127]\n",
      "  [133 132 140]\n",
      "  ...\n",
      "  [222 217 211]\n",
      "  [214 226 216]\n",
      "  [209 231 218]]\n",
      "\n",
      " [[135 125 123]\n",
      "  [136 130 130]\n",
      "  [134 134 136]\n",
      "  ...\n",
      "  [215 221 217]\n",
      "  [206 227 220]\n",
      "  [200 231 223]]\n",
      "\n",
      " ...\n",
      "\n",
      " [[167 127   0]\n",
      "  [199 159   2]\n",
      "  [222 181  29]\n",
      "  ...\n",
      "  [131 138 131]\n",
      "  [131 133 158]\n",
      "  [131 128 173]]\n",
      "\n",
      " [[137  86   0]\n",
      "  [163 113   0]\n",
      "  [184 136   8]\n",
      "  ...\n",
      "  [132 144 142]\n",
      "  [132 138 174]\n",
      "  [133 133 197]]\n",
      "\n",
      " [[166 106  52]\n",
      "  [129  72   3]\n",
      "  [144  91   0]\n",
      "  ...\n",
      "  [119 135 135]\n",
      "  [117 124 168]\n",
      "  [115 117 191]]]\n",
      "[[0]\n",
      " [0]\n",
      " [0]\n",
      " ...\n",
      " [4]\n",
      " [4]\n",
      " [4]]\n"
     ]
    }
   ],
   "source": [
    "\n",
    "x_img_train = np.empty((0, SMALL, SMALL, 3), int)\n",
    "y_label_train = np.empty((0, 1), int)\n",
    "\n",
    "for index, flower in label_dict.items():\n",
    "    print(f'Processing training data, flower={flower}, index={index}')\n",
    "    image_cache_low = image_cache_folder_path(os.path.join('.\\Day_101\\ml100marathon-final-exam\\image_data', 'train', flower), 'low')\n",
    "    \n",
    "    x, count = load_image_and_label(image_cache_low)\n",
    "    x_img_train = np.append(x_img_train, x, axis = 0)\n",
    "    \n",
    "    y = [[ index ] for x in range(0, count)]\n",
    "    y_label_train = np.append(y_label_train, np.asarray(y), axis = 0)\n",
    "    \n",
    "    print(x_img_train.shape, y_label_train.shape)\n",
    "    \n",
    "print(x_img_train[0])\n",
    "print(y_label_train)"
   ]
  },
  {
   "cell_type": "code",
   "execution_count": 126,
   "metadata": {},
   "outputs": [],
   "source": [
    "\n",
    "def plot_images_labels_prediction(images, labels, prediction, idx, num=10):\n",
    "    # gcf: Get Current Figure\n",
    "    fig = plt.gcf()\n",
    "    fig.set_size_inches(10, 14)\n",
    "    if num>25: num=25 \n",
    "    for i in range(0, num):\n",
    "        ax=plt.subplot(5,5, 1+i)\n",
    "        ax.imshow(images[idx],cmap='binary')\n",
    "                \n",
    "        title = str(i) + ',' + label_dict[labels[i][0]]\n",
    "        if len(prediction)>0:\n",
    "            title += '=>' + label_dict[prediction[i]]\n",
    "            \n",
    "        ax.set_title(title,fontsize=10) \n",
    "        ax.set_xticks([]);ax.set_yticks([])        \n",
    "        idx+=1 \n",
    "    plt.show()"
   ]
  },
  {
   "cell_type": "code",
   "execution_count": 127,
   "metadata": {},
   "outputs": [],
   "source": [
    "# plot_images_labels_prediction(x_img_train,y_label_train,[],0)"
   ]
  },
  {
   "cell_type": "markdown",
   "metadata": {},
   "source": [
    "# Image normalize "
   ]
  },
  {
   "cell_type": "code",
   "execution_count": 128,
   "metadata": {},
   "outputs": [
    {
     "data": {
      "text/plain": [
       "array([136, 130,  98])"
      ]
     },
     "execution_count": 128,
     "metadata": {},
     "output_type": "execute_result"
    }
   ],
   "source": [
    "# Show first pixel\n",
    "x_img_train[0][0][0]"
   ]
  },
  {
   "cell_type": "code",
   "execution_count": 129,
   "metadata": {},
   "outputs": [],
   "source": [
    "x_img_train_normalize = x_img_train.astype('float32') / 255.0\n"
   ]
  },
  {
   "cell_type": "code",
   "execution_count": 130,
   "metadata": {},
   "outputs": [
    {
     "data": {
      "text/plain": [
       "array([0.53333336, 0.50980395, 0.38431373], dtype=float32)"
      ]
     },
     "execution_count": 130,
     "metadata": {},
     "output_type": "execute_result"
    }
   ],
   "source": [
    "# Normalize R,G,B to 0.0 ~ 1.0\n",
    "x_img_train_normalize[0][0][0]"
   ]
  },
  {
   "cell_type": "code",
   "execution_count": null,
   "metadata": {},
   "outputs": [],
   "source": []
  },
  {
   "cell_type": "markdown",
   "metadata": {},
   "source": [
    "# 轉換label 為OneHot Encoding"
   ]
  },
  {
   "cell_type": "code",
   "execution_count": 131,
   "metadata": {},
   "outputs": [
    {
     "data": {
      "text/plain": [
       "(2823, 1)"
      ]
     },
     "execution_count": 131,
     "metadata": {},
     "output_type": "execute_result"
    }
   ],
   "source": [
    "y_label_train.shape"
   ]
  },
  {
   "cell_type": "code",
   "execution_count": 132,
   "metadata": {},
   "outputs": [
    {
     "data": {
      "text/plain": [
       "array([[0],\n",
       "       [0],\n",
       "       [0],\n",
       "       [0],\n",
       "       [0]])"
      ]
     },
     "execution_count": 132,
     "metadata": {},
     "output_type": "execute_result"
    }
   ],
   "source": [
    "y_label_train[:5]"
   ]
  },
  {
   "cell_type": "code",
   "execution_count": 133,
   "metadata": {},
   "outputs": [],
   "source": [
    "from keras.utils import np_utils\n",
    "y_label_train_OneHot = np_utils.to_categorical(y_label_train).astype('int')"
   ]
  },
  {
   "cell_type": "code",
   "execution_count": 134,
   "metadata": {},
   "outputs": [
    {
     "data": {
      "text/plain": [
       "(2823, 5)"
      ]
     },
     "execution_count": 134,
     "metadata": {},
     "output_type": "execute_result"
    }
   ],
   "source": [
    "y_label_train_OneHot.shape"
   ]
  },
  {
   "cell_type": "code",
   "execution_count": 135,
   "metadata": {},
   "outputs": [
    {
     "data": {
      "text/plain": [
       "array([[1, 0, 0, 0, 0],\n",
       "       [1, 0, 0, 0, 0],\n",
       "       [1, 0, 0, 0, 0],\n",
       "       [1, 0, 0, 0, 0],\n",
       "       [1, 0, 0, 0, 0]])"
      ]
     },
     "execution_count": 135,
     "metadata": {},
     "output_type": "execute_result"
    }
   ],
   "source": [
    "y_label_train_OneHot[:5]"
   ]
  },
  {
   "cell_type": "code",
   "execution_count": 136,
   "metadata": {},
   "outputs": [],
   "source": [
    "del x_img_train, y_label_train"
   ]
  },
  {
   "cell_type": "markdown",
   "metadata": {},
   "source": [
    "# Keras sequential"
   ]
  },
  {
   "cell_type": "code",
   "execution_count": 137,
   "metadata": {},
   "outputs": [],
   "source": [
    "import keras\n",
    "# from keras.datasets import cifar10\n",
    "from keras.models import Sequential, load_model\n",
    "from keras.layers import Dense, Dropout, Activation, Flatten\n",
    "from keras.layers import Conv2D, MaxPooling2D"
   ]
  },
  {
   "cell_type": "code",
   "execution_count": 138,
   "metadata": {},
   "outputs": [],
   "source": [
    "batch_size = 16\n",
    "num_classes = 5\n",
    "epochs = 10"
   ]
  },
  {
   "cell_type": "code",
   "execution_count": 139,
   "metadata": {},
   "outputs": [],
   "source": [
    "# build our CNN model, 多加幾層\n",
    "model = Sequential()\n",
    "\n",
    "model.add(Conv2D(filters=64, \n",
    "                 kernel_size=(3, 3),\n",
    "                 input_shape=x_img_train_normalize.shape[1:],\n",
    "                 activation='relu',\n",
    "                 padding='same'))\n",
    "model.add(MaxPooling2D(pool_size=(2, 2)))\n",
    "\n",
    "model.add(Flatten())\n",
    "model.add(Dense(512))\n",
    "model.add(Activation('relu'))\n",
    "\n",
    "model.add(Dropout(0.5))\n",
    "model.add(Dense(num_classes))\n",
    "model.add(Activation('sigmoid'))\n",
    "#model.add(Activation('softmax'))\n",
    "\n"
   ]
  },
  {
   "cell_type": "code",
   "execution_count": 140,
   "metadata": {},
   "outputs": [
    {
     "name": "stdout",
     "output_type": "stream",
     "text": [
      "_________________________________________________________________\n",
      "Layer (type)                 Output Shape              Param #   \n",
      "=================================================================\n",
      "conv2d_6 (Conv2D)            (None, 32, 32, 64)        1792      \n",
      "_________________________________________________________________\n",
      "max_pooling2d_4 (MaxPooling2 (None, 16, 16, 64)        0         \n",
      "_________________________________________________________________\n",
      "flatten_4 (Flatten)          (None, 16384)             0         \n",
      "_________________________________________________________________\n",
      "dense_7 (Dense)              (None, 512)               8389120   \n",
      "_________________________________________________________________\n",
      "activation_9 (Activation)    (None, 512)               0         \n",
      "_________________________________________________________________\n",
      "dropout_4 (Dropout)          (None, 512)               0         \n",
      "_________________________________________________________________\n",
      "dense_8 (Dense)              (None, 5)                 2565      \n",
      "_________________________________________________________________\n",
      "activation_10 (Activation)   (None, 5)                 0         \n",
      "=================================================================\n",
      "Total params: 8,393,477\n",
      "Trainable params: 8,393,477\n",
      "Non-trainable params: 0\n",
      "_________________________________________________________________\n",
      "None\n"
     ]
    }
   ],
   "source": [
    "# Dump all model layers\n",
    "print(model.summary())"
   ]
  },
  {
   "cell_type": "code",
   "execution_count": 141,
   "metadata": {},
   "outputs": [],
   "source": [
    "# validation_split: use 20 % to validate, so 50000*0.2 = 10000. (also means 40000 samples to train)\n",
    "# epochs: 10 times"
   ]
  },
  {
   "cell_type": "code",
   "execution_count": 142,
   "metadata": {},
   "outputs": [
    {
     "name": "stdout",
     "output_type": "stream",
     "text": [
      "Train on 2258 samples, validate on 565 samples\n",
      "Epoch 1/10\n",
      "2258/2258 [==============================] - 7s 3ms/step - loss: 1.3099 - acc: 0.4274 - val_loss: 4.3168 - val_acc: 0.0000e+00\n",
      "Epoch 2/10\n",
      "2258/2258 [==============================] - 6s 3ms/step - loss: 1.1735 - acc: 0.5257 - val_loss: 3.0842 - val_acc: 0.0000e+00\n",
      "Epoch 3/10\n",
      "2258/2258 [==============================] - 6s 3ms/step - loss: 1.0515 - acc: 0.5868 - val_loss: 3.4411 - val_acc: 0.0000e+00\n",
      "Epoch 4/10\n",
      "2258/2258 [==============================] - 6s 3ms/step - loss: 0.9369 - acc: 0.6470 - val_loss: 3.0894 - val_acc: 0.0000e+00\n",
      "Epoch 5/10\n",
      "2258/2258 [==============================] - 6s 3ms/step - loss: 0.8106 - acc: 0.6962 - val_loss: 3.4643 - val_acc: 0.0000e+00\n",
      "Epoch 6/10\n",
      "2258/2258 [==============================] - 6s 3ms/step - loss: 0.6787 - acc: 0.7524 - val_loss: 2.8586 - val_acc: 0.0071\n",
      "Epoch 7/10\n",
      "2258/2258 [==============================] - 6s 3ms/step - loss: 0.5921 - acc: 0.7865 - val_loss: 3.4071 - val_acc: 0.0460\n",
      "Epoch 8/10\n",
      "2258/2258 [==============================] - 6s 3ms/step - loss: 0.4942 - acc: 0.8255 - val_loss: 4.6639 - val_acc: 0.0035\n",
      "Epoch 9/10\n",
      "2258/2258 [==============================] - 6s 3ms/step - loss: 0.4130 - acc: 0.8494 - val_loss: 3.7810 - val_acc: 0.0195\n",
      "Epoch 10/10\n",
      "2258/2258 [==============================] - 6s 3ms/step - loss: 0.3506 - acc: 0.8773 - val_loss: 5.0385 - val_acc: 0.0212\n"
     ]
    }
   ],
   "source": [
    "# initiate Adam \"optimizer\"\n",
    "opt = keras.optimizers.Adam()\n",
    "\n",
    "# Let's train the model using Adam\n",
    "model.compile(loss='categorical_crossentropy',optimizer=opt,metrics=['accuracy'])\n",
    "\n",
    "model_history = model.fit(x_img_train_normalize, y_label_train_OneHot, validation_split=0.2, epochs=epochs, batch_size=batch_size, verbose=1)  \n",
    "\n",
    "# Score trained model.\n",
    "#scores = model.evaluate(x_test, y_test, verbose=1)\n",
    "#print('Test accuracy:', scores[1])"
   ]
  },
  {
   "cell_type": "code",
   "execution_count": 143,
   "metadata": {},
   "outputs": [],
   "source": [
    "del x_img_train_normalize, y_label_train_OneHot"
   ]
  },
  {
   "cell_type": "markdown",
   "metadata": {},
   "source": [
    "# Start to Predict Data"
   ]
  },
  {
   "cell_type": "code",
   "execution_count": 144,
   "metadata": {},
   "outputs": [
    {
     "name": "stdout",
     "output_type": "stream",
     "text": [
      "Processing testing flower\n",
      "image_array.shape = (0, 32, 32, 3)\n",
      "folder_list count of .\\Day_101\\ml100marathon-final-exam\\image_data\\test\\.cache\\low is 2000\n",
      "(2000, 32, 32, 3) (2000, 1)\n",
      "[[[135 137 115]\n",
      "  [143 142 122]\n",
      "  [128 122 108]\n",
      "  ...\n",
      "  [ 14  24   0]\n",
      "  [ 19  27  12]\n",
      "  [ 51  59  48]]\n",
      "\n",
      " [[ 84  86  64]\n",
      "  [141 138 121]\n",
      "  [154 146 135]\n",
      "  ...\n",
      "  [ 39  49  25]\n",
      "  [102 110  95]\n",
      "  [105 113 102]]\n",
      "\n",
      " [[ 57  56  36]\n",
      "  [109 106  89]\n",
      "  [142 133 124]\n",
      "  ...\n",
      "  [ 35  45  21]\n",
      "  [ 56  65  48]\n",
      "  [ 11  17   5]]\n",
      "\n",
      " ...\n",
      "\n",
      " [[128  59  77]\n",
      "  [126  57  75]\n",
      "  [124  56  71]\n",
      "  ...\n",
      "  [ 91  45  48]\n",
      "  [100  45  51]\n",
      "  [127  67  75]]\n",
      "\n",
      " [[144  72  84]\n",
      "  [131  59  70]\n",
      "  [132  60  71]\n",
      "  ...\n",
      "  [ 86  42  43]\n",
      "  [ 95  38  44]\n",
      "  [119  54  62]]\n",
      "\n",
      " [[148  72  82]\n",
      "  [137  62  69]\n",
      "  [144  69  76]\n",
      "  ...\n",
      "  [119  75  76]\n",
      "  [106  47  53]\n",
      "  [106  39  46]]]\n",
      "[[0]\n",
      " [0]\n",
      " [0]\n",
      " ...\n",
      " [0]\n",
      " [0]\n",
      " [0]]\n"
     ]
    }
   ],
   "source": [
    "# Load testing flower data\n",
    "x_img_test = np.empty((0, SMALL, SMALL, 3), int)\n",
    "y_label_test = np.empty((0, 1), int)\n",
    "filelist_test = np.empty((0), str)\n",
    "\n",
    "print(f'Processing testing flower')\n",
    "\n",
    "image_cache_low = image_cache_folder_path(os.path.join('.\\Day_101\\ml100marathon-final-exam\\image_data', 'test'), 'low')\n",
    "x, count, filelist_test = load_image_and_label(image_cache_low, showfile=True)\n",
    "x_img_test = np.append(x_img_test, x, axis = 0)\n",
    "    \n",
    "y = [[ 0 ] for x in range(0, count)]\n",
    "y_label_test = np.append(y_label_test, np.asarray(y), axis = 0)\n",
    "    \n",
    "print(x_img_test.shape, y_label_test.shape)\n",
    "print(x_img_test[0])\n",
    "print(y_label_test)"
   ]
  },
  {
   "cell_type": "code",
   "execution_count": 145,
   "metadata": {},
   "outputs": [
    {
     "name": "stdout",
     "output_type": "stream",
     "text": [
      "filelist_test.shape = (2000,)\n"
     ]
    },
    {
     "data": {
      "text/plain": [
       "array(['0028624c49b3e0610ff9f1d111f5d532',\n",
       "       '002c30700185b7971369258b438070d5',\n",
       "       '00852f4f666acecd0c0d140365b42efd',\n",
       "       '00c08828fce04e360c732cac01edad9e',\n",
       "       '00d366e7877b6a78b104b57d67b60e6b'], dtype='<U32')"
      ]
     },
     "execution_count": 145,
     "metadata": {},
     "output_type": "execute_result"
    }
   ],
   "source": [
    "print(f'filelist_test.shape = {filelist_test.shape}')\n",
    "filelist_test[:5]"
   ]
  },
  {
   "cell_type": "code",
   "execution_count": 146,
   "metadata": {},
   "outputs": [
    {
     "name": "stdout",
     "output_type": "stream",
     "text": [
      "x_img_test: (2000, 32, 32, 3)\n",
      "y_label_test : (2000, 1)\n"
     ]
    }
   ],
   "source": [
    "print('x_img_test:',x_img_test.shape)\n",
    "print('y_label_test :',y_label_test.shape)\n",
    "x_img_test_normalize = x_img_test.astype('float32') / 255.0"
   ]
  },
  {
   "cell_type": "code",
   "execution_count": 147,
   "metadata": {},
   "outputs": [],
   "source": [
    "y_label_test_OneHot = model.predict(x_img_test_normalize)"
   ]
  },
  {
   "cell_type": "code",
   "execution_count": 148,
   "metadata": {},
   "outputs": [
    {
     "data": {
      "text/plain": [
       "(2000, 5)"
      ]
     },
     "execution_count": 148,
     "metadata": {},
     "output_type": "execute_result"
    }
   ],
   "source": [
    "y_label_test_OneHot.shape"
   ]
  },
  {
   "cell_type": "code",
   "execution_count": 149,
   "metadata": {},
   "outputs": [
    {
     "data": {
      "text/plain": [
       "array([[1.3219657e-03, 1.8079878e-03, 4.5336541e-02, 2.2863748e-03,\n",
       "        7.9935929e-04],\n",
       "       [2.5627911e-03, 1.7287708e-03, 3.2592849e-03, 1.3987745e-01,\n",
       "        2.5442237e-04],\n",
       "       [3.9744170e-04, 8.7482640e-06, 1.0051860e-03, 2.1811591e-02,\n",
       "        1.1030125e-03],\n",
       "       [3.6341205e-06, 7.4583646e-08, 9.3259607e-03, 9.0099435e-05,\n",
       "        1.9664073e-04],\n",
       "       [3.0617954e-02, 5.4759085e-03, 8.5567307e-01, 4.7584781e-03,\n",
       "        8.6003326e-02],\n",
       "       [5.3492299e-04, 6.5702232e-05, 7.5249869e-01, 1.4787638e-03,\n",
       "        1.7333299e-02],\n",
       "       [1.3364902e-02, 6.0101103e-02, 1.7739547e-02, 1.4020076e-01,\n",
       "        3.3059993e-03],\n",
       "       [3.2094168e-04, 6.6651835e-04, 2.1752694e-05, 7.4762739e-03,\n",
       "        1.7474022e-05],\n",
       "       [5.5941568e-06, 2.5678815e-05, 1.6383909e-01, 7.3045428e-04,\n",
       "        7.9642632e-04],\n",
       "       [2.8016358e-03, 4.9100179e-02, 2.8442871e-04, 2.6822281e-05,\n",
       "        1.5178222e-06]], dtype=float32)"
      ]
     },
     "execution_count": 149,
     "metadata": {},
     "output_type": "execute_result"
    }
   ],
   "source": [
    "y_label_test_OneHot[:10]"
   ]
  },
  {
   "cell_type": "code",
   "execution_count": 150,
   "metadata": {},
   "outputs": [
    {
     "data": {
      "text/plain": [
       "(2000,)"
      ]
     },
     "execution_count": 150,
     "metadata": {},
     "output_type": "execute_result"
    }
   ],
   "source": [
    "idx = np.argmax(y_label_test_OneHot, axis=-1)\n",
    "idx.shape"
   ]
  },
  {
   "cell_type": "code",
   "execution_count": 151,
   "metadata": {},
   "outputs": [],
   "source": [
    "submit = np.column_stack([filelist_test, idx])"
   ]
  },
  {
   "cell_type": "code",
   "execution_count": 152,
   "metadata": {},
   "outputs": [],
   "source": [
    "import pandas as pd "
   ]
  },
  {
   "cell_type": "code",
   "execution_count": 153,
   "metadata": {},
   "outputs": [],
   "source": [
    "submit = pd.DataFrame(submit, columns=['id', 'flower_class'])"
   ]
  },
  {
   "cell_type": "code",
   "execution_count": 154,
   "metadata": {},
   "outputs": [],
   "source": [
    "submit['id'] = submit['id'].astype(str)\n",
    "submit['flower_class'] = submit['flower_class'].astype(int)"
   ]
  },
  {
   "cell_type": "code",
   "execution_count": 155,
   "metadata": {},
   "outputs": [
    {
     "data": {
      "text/plain": [
       "id              object\n",
       "flower_class     int32\n",
       "dtype: object"
      ]
     },
     "execution_count": 155,
     "metadata": {},
     "output_type": "execute_result"
    }
   ],
   "source": [
    "submit.dtypes"
   ]
  },
  {
   "cell_type": "code",
   "execution_count": 156,
   "metadata": {},
   "outputs": [
    {
     "data": {
      "text/html": [
       "<div>\n",
       "<style scoped>\n",
       "    .dataframe tbody tr th:only-of-type {\n",
       "        vertical-align: middle;\n",
       "    }\n",
       "\n",
       "    .dataframe tbody tr th {\n",
       "        vertical-align: top;\n",
       "    }\n",
       "\n",
       "    .dataframe thead th {\n",
       "        text-align: right;\n",
       "    }\n",
       "</style>\n",
       "<table border=\"1\" class=\"dataframe\">\n",
       "  <thead>\n",
       "    <tr style=\"text-align: right;\">\n",
       "      <th></th>\n",
       "      <th>id</th>\n",
       "      <th>flower_class</th>\n",
       "    </tr>\n",
       "  </thead>\n",
       "  <tbody>\n",
       "    <tr>\n",
       "      <th>0</th>\n",
       "      <td>0028624c49b3e0610ff9f1d111f5d532</td>\n",
       "      <td>2</td>\n",
       "    </tr>\n",
       "    <tr>\n",
       "      <th>1</th>\n",
       "      <td>002c30700185b7971369258b438070d5</td>\n",
       "      <td>3</td>\n",
       "    </tr>\n",
       "    <tr>\n",
       "      <th>2</th>\n",
       "      <td>00852f4f666acecd0c0d140365b42efd</td>\n",
       "      <td>3</td>\n",
       "    </tr>\n",
       "    <tr>\n",
       "      <th>3</th>\n",
       "      <td>00c08828fce04e360c732cac01edad9e</td>\n",
       "      <td>2</td>\n",
       "    </tr>\n",
       "    <tr>\n",
       "      <th>4</th>\n",
       "      <td>00d366e7877b6a78b104b57d67b60e6b</td>\n",
       "      <td>2</td>\n",
       "    </tr>\n",
       "  </tbody>\n",
       "</table>\n",
       "</div>"
      ],
      "text/plain": [
       "                                 id  flower_class\n",
       "0  0028624c49b3e0610ff9f1d111f5d532             2\n",
       "1  002c30700185b7971369258b438070d5             3\n",
       "2  00852f4f666acecd0c0d140365b42efd             3\n",
       "3  00c08828fce04e360c732cac01edad9e             2\n",
       "4  00d366e7877b6a78b104b57d67b60e6b             2"
      ]
     },
     "execution_count": 156,
     "metadata": {},
     "output_type": "execute_result"
    }
   ],
   "source": [
    "submit.head()"
   ]
  },
  {
   "cell_type": "code",
   "execution_count": 157,
   "metadata": {},
   "outputs": [],
   "source": [
    "label_array = [[0, 'daisy'], [1, 'dandelion'], [2, 'rose'], [3, 'sunflower'], [4, 'tulip']]"
   ]
  },
  {
   "cell_type": "code",
   "execution_count": 158,
   "metadata": {},
   "outputs": [],
   "source": [
    "label_array = pd.DataFrame(label_array, columns=['flower_class', 'flower_name'])"
   ]
  },
  {
   "cell_type": "code",
   "execution_count": 159,
   "metadata": {},
   "outputs": [],
   "source": [
    "label_array['flower_class'] = label_array['flower_class'].astype(int)\n",
    "label_array['flower_name'] = label_array['flower_name'].astype(str)"
   ]
  },
  {
   "cell_type": "code",
   "execution_count": 160,
   "metadata": {},
   "outputs": [
    {
     "data": {
      "text/plain": [
       "flower_class     int32\n",
       "flower_name     object\n",
       "dtype: object"
      ]
     },
     "execution_count": 160,
     "metadata": {},
     "output_type": "execute_result"
    }
   ],
   "source": [
    "label_array.dtypes"
   ]
  },
  {
   "cell_type": "code",
   "execution_count": 161,
   "metadata": {},
   "outputs": [
    {
     "data": {
      "text/html": [
       "<div>\n",
       "<style scoped>\n",
       "    .dataframe tbody tr th:only-of-type {\n",
       "        vertical-align: middle;\n",
       "    }\n",
       "\n",
       "    .dataframe tbody tr th {\n",
       "        vertical-align: top;\n",
       "    }\n",
       "\n",
       "    .dataframe thead th {\n",
       "        text-align: right;\n",
       "    }\n",
       "</style>\n",
       "<table border=\"1\" class=\"dataframe\">\n",
       "  <thead>\n",
       "    <tr style=\"text-align: right;\">\n",
       "      <th></th>\n",
       "      <th>flower_class</th>\n",
       "      <th>flower_name</th>\n",
       "    </tr>\n",
       "  </thead>\n",
       "  <tbody>\n",
       "    <tr>\n",
       "      <th>0</th>\n",
       "      <td>0</td>\n",
       "      <td>daisy</td>\n",
       "    </tr>\n",
       "    <tr>\n",
       "      <th>1</th>\n",
       "      <td>1</td>\n",
       "      <td>dandelion</td>\n",
       "    </tr>\n",
       "    <tr>\n",
       "      <th>2</th>\n",
       "      <td>2</td>\n",
       "      <td>rose</td>\n",
       "    </tr>\n",
       "    <tr>\n",
       "      <th>3</th>\n",
       "      <td>3</td>\n",
       "      <td>sunflower</td>\n",
       "    </tr>\n",
       "    <tr>\n",
       "      <th>4</th>\n",
       "      <td>4</td>\n",
       "      <td>tulip</td>\n",
       "    </tr>\n",
       "  </tbody>\n",
       "</table>\n",
       "</div>"
      ],
      "text/plain": [
       "   flower_class flower_name\n",
       "0             0       daisy\n",
       "1             1   dandelion\n",
       "2             2        rose\n",
       "3             3   sunflower\n",
       "4             4       tulip"
      ]
     },
     "execution_count": 161,
     "metadata": {},
     "output_type": "execute_result"
    }
   ],
   "source": [
    "label_array.head()"
   ]
  },
  {
   "cell_type": "code",
   "execution_count": 162,
   "metadata": {},
   "outputs": [
    {
     "data": {
      "text/html": [
       "<div>\n",
       "<style scoped>\n",
       "    .dataframe tbody tr th:only-of-type {\n",
       "        vertical-align: middle;\n",
       "    }\n",
       "\n",
       "    .dataframe tbody tr th {\n",
       "        vertical-align: top;\n",
       "    }\n",
       "\n",
       "    .dataframe thead th {\n",
       "        text-align: right;\n",
       "    }\n",
       "</style>\n",
       "<table border=\"1\" class=\"dataframe\">\n",
       "  <thead>\n",
       "    <tr style=\"text-align: right;\">\n",
       "      <th></th>\n",
       "      <th>id</th>\n",
       "      <th>flower_class</th>\n",
       "      <th>flower_name</th>\n",
       "    </tr>\n",
       "  </thead>\n",
       "  <tbody>\n",
       "    <tr>\n",
       "      <th>0</th>\n",
       "      <td>0028624c49b3e0610ff9f1d111f5d532</td>\n",
       "      <td>2</td>\n",
       "      <td>rose</td>\n",
       "    </tr>\n",
       "    <tr>\n",
       "      <th>1</th>\n",
       "      <td>002c30700185b7971369258b438070d5</td>\n",
       "      <td>3</td>\n",
       "      <td>sunflower</td>\n",
       "    </tr>\n",
       "    <tr>\n",
       "      <th>2</th>\n",
       "      <td>00852f4f666acecd0c0d140365b42efd</td>\n",
       "      <td>3</td>\n",
       "      <td>sunflower</td>\n",
       "    </tr>\n",
       "    <tr>\n",
       "      <th>3</th>\n",
       "      <td>00c08828fce04e360c732cac01edad9e</td>\n",
       "      <td>2</td>\n",
       "      <td>rose</td>\n",
       "    </tr>\n",
       "    <tr>\n",
       "      <th>4</th>\n",
       "      <td>00d366e7877b6a78b104b57d67b60e6b</td>\n",
       "      <td>2</td>\n",
       "      <td>rose</td>\n",
       "    </tr>\n",
       "    <tr>\n",
       "      <th>5</th>\n",
       "      <td>00e803f7bc6d21b6d6d3a98136ea4635</td>\n",
       "      <td>2</td>\n",
       "      <td>rose</td>\n",
       "    </tr>\n",
       "    <tr>\n",
       "      <th>6</th>\n",
       "      <td>00e9cb1dca407810856e77b31309d5ab</td>\n",
       "      <td>3</td>\n",
       "      <td>sunflower</td>\n",
       "    </tr>\n",
       "    <tr>\n",
       "      <th>7</th>\n",
       "      <td>014d33090eb706769ff782d8c500dc2a</td>\n",
       "      <td>3</td>\n",
       "      <td>sunflower</td>\n",
       "    </tr>\n",
       "    <tr>\n",
       "      <th>8</th>\n",
       "      <td>015c8f0e6b95baf9dcbb34647624c5b8</td>\n",
       "      <td>2</td>\n",
       "      <td>rose</td>\n",
       "    </tr>\n",
       "    <tr>\n",
       "      <th>9</th>\n",
       "      <td>0194948a29f0e891c54f88004fb4c51c</td>\n",
       "      <td>1</td>\n",
       "      <td>dandelion</td>\n",
       "    </tr>\n",
       "    <tr>\n",
       "      <th>10</th>\n",
       "      <td>01964126d7cc3122173ce68761cc23bd</td>\n",
       "      <td>2</td>\n",
       "      <td>rose</td>\n",
       "    </tr>\n",
       "    <tr>\n",
       "      <th>11</th>\n",
       "      <td>0279619774b01b44b05b33bff44b541f</td>\n",
       "      <td>1</td>\n",
       "      <td>dandelion</td>\n",
       "    </tr>\n",
       "    <tr>\n",
       "      <th>12</th>\n",
       "      <td>027f28c9c4e255b22a8e0026cd5868b3</td>\n",
       "      <td>2</td>\n",
       "      <td>rose</td>\n",
       "    </tr>\n",
       "    <tr>\n",
       "      <th>13</th>\n",
       "      <td>0290c31cfc41f2dc51dcaff0dbda2da5</td>\n",
       "      <td>0</td>\n",
       "      <td>daisy</td>\n",
       "    </tr>\n",
       "    <tr>\n",
       "      <th>14</th>\n",
       "      <td>02b5b88e51b7abd559bfb95138f33b95</td>\n",
       "      <td>1</td>\n",
       "      <td>dandelion</td>\n",
       "    </tr>\n",
       "    <tr>\n",
       "      <th>15</th>\n",
       "      <td>02b703e9b535936aa0e00886fc4669c3</td>\n",
       "      <td>0</td>\n",
       "      <td>daisy</td>\n",
       "    </tr>\n",
       "    <tr>\n",
       "      <th>16</th>\n",
       "      <td>033925568a8d3170e7d7710483e3fae6</td>\n",
       "      <td>3</td>\n",
       "      <td>sunflower</td>\n",
       "    </tr>\n",
       "    <tr>\n",
       "      <th>17</th>\n",
       "      <td>034d01c095f88f0bcde09c3bb96682cd</td>\n",
       "      <td>2</td>\n",
       "      <td>rose</td>\n",
       "    </tr>\n",
       "    <tr>\n",
       "      <th>18</th>\n",
       "      <td>0370dc76bacae16e2e447b6a7549f3df</td>\n",
       "      <td>1</td>\n",
       "      <td>dandelion</td>\n",
       "    </tr>\n",
       "    <tr>\n",
       "      <th>19</th>\n",
       "      <td>03763fddc1b3b7e5751cc65398f28bf8</td>\n",
       "      <td>1</td>\n",
       "      <td>dandelion</td>\n",
       "    </tr>\n",
       "    <tr>\n",
       "      <th>20</th>\n",
       "      <td>03d2eb71b65a830092a3b6779aedbb4c</td>\n",
       "      <td>2</td>\n",
       "      <td>rose</td>\n",
       "    </tr>\n",
       "    <tr>\n",
       "      <th>21</th>\n",
       "      <td>03dffb85cc0a231b84e6754909e37da0</td>\n",
       "      <td>1</td>\n",
       "      <td>dandelion</td>\n",
       "    </tr>\n",
       "    <tr>\n",
       "      <th>22</th>\n",
       "      <td>041bdb3a90ae06361c3cbc246a5c291d</td>\n",
       "      <td>3</td>\n",
       "      <td>sunflower</td>\n",
       "    </tr>\n",
       "    <tr>\n",
       "      <th>23</th>\n",
       "      <td>041ce10ffd2ef73afe7e6d5fae045c98</td>\n",
       "      <td>3</td>\n",
       "      <td>sunflower</td>\n",
       "    </tr>\n",
       "    <tr>\n",
       "      <th>24</th>\n",
       "      <td>04335847221321fc6000797aa07093a2</td>\n",
       "      <td>3</td>\n",
       "      <td>sunflower</td>\n",
       "    </tr>\n",
       "    <tr>\n",
       "      <th>25</th>\n",
       "      <td>044c7523fa93b045871e457757365da1</td>\n",
       "      <td>3</td>\n",
       "      <td>sunflower</td>\n",
       "    </tr>\n",
       "    <tr>\n",
       "      <th>26</th>\n",
       "      <td>0453b5ee36bc0b7e60194306ee410397</td>\n",
       "      <td>1</td>\n",
       "      <td>dandelion</td>\n",
       "    </tr>\n",
       "    <tr>\n",
       "      <th>27</th>\n",
       "      <td>048c3b5db49f963ba9b9ea42ba6b5085</td>\n",
       "      <td>2</td>\n",
       "      <td>rose</td>\n",
       "    </tr>\n",
       "    <tr>\n",
       "      <th>28</th>\n",
       "      <td>0495e5cb93952bc4a728c19e40322679</td>\n",
       "      <td>0</td>\n",
       "      <td>daisy</td>\n",
       "    </tr>\n",
       "    <tr>\n",
       "      <th>29</th>\n",
       "      <td>0499d6a2951fe18d4d9ed7b5d908ca19</td>\n",
       "      <td>2</td>\n",
       "      <td>rose</td>\n",
       "    </tr>\n",
       "    <tr>\n",
       "      <th>...</th>\n",
       "      <td>...</td>\n",
       "      <td>...</td>\n",
       "      <td>...</td>\n",
       "    </tr>\n",
       "    <tr>\n",
       "      <th>1970</th>\n",
       "      <td>fd9cac41cda00325613b362025eb9cc1</td>\n",
       "      <td>1</td>\n",
       "      <td>dandelion</td>\n",
       "    </tr>\n",
       "    <tr>\n",
       "      <th>1971</th>\n",
       "      <td>fda6dca87a0de48f83227817e3421e20</td>\n",
       "      <td>2</td>\n",
       "      <td>rose</td>\n",
       "    </tr>\n",
       "    <tr>\n",
       "      <th>1972</th>\n",
       "      <td>fda7085f5d8b6f995922b19f5aeec873</td>\n",
       "      <td>2</td>\n",
       "      <td>rose</td>\n",
       "    </tr>\n",
       "    <tr>\n",
       "      <th>1973</th>\n",
       "      <td>fdb273780ac1826aef9de8c6a2d425f4</td>\n",
       "      <td>0</td>\n",
       "      <td>daisy</td>\n",
       "    </tr>\n",
       "    <tr>\n",
       "      <th>1974</th>\n",
       "      <td>fdb7b04782dfc1ba1ad15107b46c31f0</td>\n",
       "      <td>3</td>\n",
       "      <td>sunflower</td>\n",
       "    </tr>\n",
       "    <tr>\n",
       "      <th>1975</th>\n",
       "      <td>fde1d5fa8f5209108ba11252a1466e5e</td>\n",
       "      <td>3</td>\n",
       "      <td>sunflower</td>\n",
       "    </tr>\n",
       "    <tr>\n",
       "      <th>1976</th>\n",
       "      <td>fde6e1d8c47ccd170119a780851bb8bb</td>\n",
       "      <td>2</td>\n",
       "      <td>rose</td>\n",
       "    </tr>\n",
       "    <tr>\n",
       "      <th>1977</th>\n",
       "      <td>fe1aa56322605dc0dea8c84191b095ec</td>\n",
       "      <td>0</td>\n",
       "      <td>daisy</td>\n",
       "    </tr>\n",
       "    <tr>\n",
       "      <th>1978</th>\n",
       "      <td>fe4e4bf77b6f1c6cefb7e399ac4833a2</td>\n",
       "      <td>2</td>\n",
       "      <td>rose</td>\n",
       "    </tr>\n",
       "    <tr>\n",
       "      <th>1979</th>\n",
       "      <td>fe4ec31c0f202270eec87466dceaaf39</td>\n",
       "      <td>1</td>\n",
       "      <td>dandelion</td>\n",
       "    </tr>\n",
       "    <tr>\n",
       "      <th>1980</th>\n",
       "      <td>fe584d3bcf414bf5dec83d7c20de6e2a</td>\n",
       "      <td>2</td>\n",
       "      <td>rose</td>\n",
       "    </tr>\n",
       "    <tr>\n",
       "      <th>1981</th>\n",
       "      <td>fe64b09b1e78de73cc137ce86402a096</td>\n",
       "      <td>1</td>\n",
       "      <td>dandelion</td>\n",
       "    </tr>\n",
       "    <tr>\n",
       "      <th>1982</th>\n",
       "      <td>fe7696e49ad15f45d8e8a04165e162f0</td>\n",
       "      <td>3</td>\n",
       "      <td>sunflower</td>\n",
       "    </tr>\n",
       "    <tr>\n",
       "      <th>1983</th>\n",
       "      <td>fe829d2d57b3363eee1126d7a93737d9</td>\n",
       "      <td>2</td>\n",
       "      <td>rose</td>\n",
       "    </tr>\n",
       "    <tr>\n",
       "      <th>1984</th>\n",
       "      <td>fe95e014bee15aa951836e6e7cfad8ec</td>\n",
       "      <td>0</td>\n",
       "      <td>daisy</td>\n",
       "    </tr>\n",
       "    <tr>\n",
       "      <th>1985</th>\n",
       "      <td>fea9d31e49b014ecedb876a726a990d1</td>\n",
       "      <td>0</td>\n",
       "      <td>daisy</td>\n",
       "    </tr>\n",
       "    <tr>\n",
       "      <th>1986</th>\n",
       "      <td>fec2f9d0632d24fb84fa8f30e7f00e1d</td>\n",
       "      <td>1</td>\n",
       "      <td>dandelion</td>\n",
       "    </tr>\n",
       "    <tr>\n",
       "      <th>1987</th>\n",
       "      <td>fef84518e3118b231928869a6b36e94e</td>\n",
       "      <td>1</td>\n",
       "      <td>dandelion</td>\n",
       "    </tr>\n",
       "    <tr>\n",
       "      <th>1988</th>\n",
       "      <td>ff0dc86f342218bc603798edce886a90</td>\n",
       "      <td>0</td>\n",
       "      <td>daisy</td>\n",
       "    </tr>\n",
       "    <tr>\n",
       "      <th>1989</th>\n",
       "      <td>ff3806a9b55957a4e869983be698dc4a</td>\n",
       "      <td>1</td>\n",
       "      <td>dandelion</td>\n",
       "    </tr>\n",
       "    <tr>\n",
       "      <th>1990</th>\n",
       "      <td>ff3df418b948dbbe61d45cced4260107</td>\n",
       "      <td>3</td>\n",
       "      <td>sunflower</td>\n",
       "    </tr>\n",
       "    <tr>\n",
       "      <th>1991</th>\n",
       "      <td>ff5ed4106759efd6fc5eb97ea8babf0b</td>\n",
       "      <td>3</td>\n",
       "      <td>sunflower</td>\n",
       "    </tr>\n",
       "    <tr>\n",
       "      <th>1992</th>\n",
       "      <td>ff60ba30933a5e6a262282696e8769d7</td>\n",
       "      <td>3</td>\n",
       "      <td>sunflower</td>\n",
       "    </tr>\n",
       "    <tr>\n",
       "      <th>1993</th>\n",
       "      <td>ff6c8cddba2bea63f97c8f276c8321d9</td>\n",
       "      <td>1</td>\n",
       "      <td>dandelion</td>\n",
       "    </tr>\n",
       "    <tr>\n",
       "      <th>1994</th>\n",
       "      <td>ff764f30a84d2bd0fd62444c9363abb0</td>\n",
       "      <td>1</td>\n",
       "      <td>dandelion</td>\n",
       "    </tr>\n",
       "    <tr>\n",
       "      <th>1995</th>\n",
       "      <td>ff7eac29b6d7a33fbd8009677c3e9c58</td>\n",
       "      <td>1</td>\n",
       "      <td>dandelion</td>\n",
       "    </tr>\n",
       "    <tr>\n",
       "      <th>1996</th>\n",
       "      <td>ffbc32a7b67dfe72b8d35d4b1b35fd6c</td>\n",
       "      <td>3</td>\n",
       "      <td>sunflower</td>\n",
       "    </tr>\n",
       "    <tr>\n",
       "      <th>1997</th>\n",
       "      <td>ffea1f275c05accb0a6bfd1203620c7e</td>\n",
       "      <td>2</td>\n",
       "      <td>rose</td>\n",
       "    </tr>\n",
       "    <tr>\n",
       "      <th>1998</th>\n",
       "      <td>ffeb2a1cf53464b6af937ab8af0c2946</td>\n",
       "      <td>3</td>\n",
       "      <td>sunflower</td>\n",
       "    </tr>\n",
       "    <tr>\n",
       "      <th>1999</th>\n",
       "      <td>ffefcc68e2e7eed8b17b0b5b0f740538</td>\n",
       "      <td>3</td>\n",
       "      <td>sunflower</td>\n",
       "    </tr>\n",
       "  </tbody>\n",
       "</table>\n",
       "<p>2000 rows × 3 columns</p>\n",
       "</div>"
      ],
      "text/plain": [
       "                                    id  flower_class flower_name\n",
       "0     0028624c49b3e0610ff9f1d111f5d532             2        rose\n",
       "1     002c30700185b7971369258b438070d5             3   sunflower\n",
       "2     00852f4f666acecd0c0d140365b42efd             3   sunflower\n",
       "3     00c08828fce04e360c732cac01edad9e             2        rose\n",
       "4     00d366e7877b6a78b104b57d67b60e6b             2        rose\n",
       "5     00e803f7bc6d21b6d6d3a98136ea4635             2        rose\n",
       "6     00e9cb1dca407810856e77b31309d5ab             3   sunflower\n",
       "7     014d33090eb706769ff782d8c500dc2a             3   sunflower\n",
       "8     015c8f0e6b95baf9dcbb34647624c5b8             2        rose\n",
       "9     0194948a29f0e891c54f88004fb4c51c             1   dandelion\n",
       "10    01964126d7cc3122173ce68761cc23bd             2        rose\n",
       "11    0279619774b01b44b05b33bff44b541f             1   dandelion\n",
       "12    027f28c9c4e255b22a8e0026cd5868b3             2        rose\n",
       "13    0290c31cfc41f2dc51dcaff0dbda2da5             0       daisy\n",
       "14    02b5b88e51b7abd559bfb95138f33b95             1   dandelion\n",
       "15    02b703e9b535936aa0e00886fc4669c3             0       daisy\n",
       "16    033925568a8d3170e7d7710483e3fae6             3   sunflower\n",
       "17    034d01c095f88f0bcde09c3bb96682cd             2        rose\n",
       "18    0370dc76bacae16e2e447b6a7549f3df             1   dandelion\n",
       "19    03763fddc1b3b7e5751cc65398f28bf8             1   dandelion\n",
       "20    03d2eb71b65a830092a3b6779aedbb4c             2        rose\n",
       "21    03dffb85cc0a231b84e6754909e37da0             1   dandelion\n",
       "22    041bdb3a90ae06361c3cbc246a5c291d             3   sunflower\n",
       "23    041ce10ffd2ef73afe7e6d5fae045c98             3   sunflower\n",
       "24    04335847221321fc6000797aa07093a2             3   sunflower\n",
       "25    044c7523fa93b045871e457757365da1             3   sunflower\n",
       "26    0453b5ee36bc0b7e60194306ee410397             1   dandelion\n",
       "27    048c3b5db49f963ba9b9ea42ba6b5085             2        rose\n",
       "28    0495e5cb93952bc4a728c19e40322679             0       daisy\n",
       "29    0499d6a2951fe18d4d9ed7b5d908ca19             2        rose\n",
       "...                                ...           ...         ...\n",
       "1970  fd9cac41cda00325613b362025eb9cc1             1   dandelion\n",
       "1971  fda6dca87a0de48f83227817e3421e20             2        rose\n",
       "1972  fda7085f5d8b6f995922b19f5aeec873             2        rose\n",
       "1973  fdb273780ac1826aef9de8c6a2d425f4             0       daisy\n",
       "1974  fdb7b04782dfc1ba1ad15107b46c31f0             3   sunflower\n",
       "1975  fde1d5fa8f5209108ba11252a1466e5e             3   sunflower\n",
       "1976  fde6e1d8c47ccd170119a780851bb8bb             2        rose\n",
       "1977  fe1aa56322605dc0dea8c84191b095ec             0       daisy\n",
       "1978  fe4e4bf77b6f1c6cefb7e399ac4833a2             2        rose\n",
       "1979  fe4ec31c0f202270eec87466dceaaf39             1   dandelion\n",
       "1980  fe584d3bcf414bf5dec83d7c20de6e2a             2        rose\n",
       "1981  fe64b09b1e78de73cc137ce86402a096             1   dandelion\n",
       "1982  fe7696e49ad15f45d8e8a04165e162f0             3   sunflower\n",
       "1983  fe829d2d57b3363eee1126d7a93737d9             2        rose\n",
       "1984  fe95e014bee15aa951836e6e7cfad8ec             0       daisy\n",
       "1985  fea9d31e49b014ecedb876a726a990d1             0       daisy\n",
       "1986  fec2f9d0632d24fb84fa8f30e7f00e1d             1   dandelion\n",
       "1987  fef84518e3118b231928869a6b36e94e             1   dandelion\n",
       "1988  ff0dc86f342218bc603798edce886a90             0       daisy\n",
       "1989  ff3806a9b55957a4e869983be698dc4a             1   dandelion\n",
       "1990  ff3df418b948dbbe61d45cced4260107             3   sunflower\n",
       "1991  ff5ed4106759efd6fc5eb97ea8babf0b             3   sunflower\n",
       "1992  ff60ba30933a5e6a262282696e8769d7             3   sunflower\n",
       "1993  ff6c8cddba2bea63f97c8f276c8321d9             1   dandelion\n",
       "1994  ff764f30a84d2bd0fd62444c9363abb0             1   dandelion\n",
       "1995  ff7eac29b6d7a33fbd8009677c3e9c58             1   dandelion\n",
       "1996  ffbc32a7b67dfe72b8d35d4b1b35fd6c             3   sunflower\n",
       "1997  ffea1f275c05accb0a6bfd1203620c7e             2        rose\n",
       "1998  ffeb2a1cf53464b6af937ab8af0c2946             3   sunflower\n",
       "1999  ffefcc68e2e7eed8b17b0b5b0f740538             3   sunflower\n",
       "\n",
       "[2000 rows x 3 columns]"
      ]
     },
     "execution_count": 162,
     "metadata": {},
     "output_type": "execute_result"
    }
   ],
   "source": [
    "pd.merge(submit, label_array, how='left', on='flower_class')"
   ]
  },
  {
   "cell_type": "code",
   "execution_count": 163,
   "metadata": {},
   "outputs": [],
   "source": [
    "submit.to_csv('./Day101_Final_Exam_Classfication_of_Flowers.csv', sep=',', encoding='utf-8', index=False)"
   ]
  },
  {
   "cell_type": "code",
   "execution_count": null,
   "metadata": {},
   "outputs": [],
   "source": []
  }
 ],
 "metadata": {
  "kernelspec": {
   "display_name": "Python 3",
   "language": "python",
   "name": "python3"
  },
  "language_info": {
   "codemirror_mode": {
    "name": "ipython",
    "version": 3
   },
   "file_extension": ".py",
   "mimetype": "text/x-python",
   "name": "python",
   "nbconvert_exporter": "python",
   "pygments_lexer": "ipython3",
   "version": "3.6.8"
  }
 },
 "nbformat": 4,
 "nbformat_minor": 2
}
