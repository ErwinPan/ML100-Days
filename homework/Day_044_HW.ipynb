{
 "cells": [
  {
   "cell_type": "markdown",
   "metadata": {},
   "source": [
    "## 作業"
   ]
  },
  {
   "cell_type": "markdown",
   "metadata": {},
   "source": [
    "1. 試著調整 RandomForestClassifier(...) 中的參數，並觀察是否會改變結果？\n",
    "\n",
    "> Answer: 調整了 n_estimator, criterion , 感覺差異不大"
   ]
  },
  {
   "cell_type": "code",
   "execution_count": 19,
   "metadata": {},
   "outputs": [],
   "source": [
    "from sklearn import datasets, metrics\n",
    "from sklearn.ensemble import RandomForestClassifier\n",
    "from sklearn.ensemble import RandomForestRegressor\n",
    "from sklearn.model_selection import train_test_split\n",
    "\n",
    "# 讀取鳶尾花資料集\n",
    "iris = datasets.load_iris()"
   ]
  },
  {
   "cell_type": "markdown",
   "metadata": {},
   "source": [
    "------\n",
    "\n",
    " ## sklearn.ensemble.RandomForestClassifier\n",
    "```\n",
    "class sklearn.ensemble.RandomForestClassifier(n_estimators=’warn’, criterion=’gini’, max_depth=None, min_samples_split=2, min_samples_leaf=1, min_weight_fraction_leaf=0.0, max_features=’auto’, max_leaf_nodes=None, min_impurity_decrease=0.0, min_impurity_split=None, bootstrap=True, oob_score=False, n_jobs=None, random_state=None, verbose=0, warm_start=False, class_weight=None)[source]\n",
    "```\n",
    "A random forest classifier.\n",
    "\n",
    "A random forest is a meta estimator that fits a number of decision tree classifiers on various sub-samples of the dataset and uses averaging to improve the predictive accuracy and control over-fitting. The sub-sample size is always the same as the original input sample size but the samples are drawn with replacement if bootstrap=True (default).\n",
    "\n",
    "Read more in the User Guide.\n",
    "\n",
    "### Parameters:\t\n",
    "#### n_estimators : integer, optional (default=10)\n",
    "The number of trees in the forest.\n",
    "\n",
    "Changed in version 0.20: The default value of n_estimators will change from 10 in version 0.20 to 100 in version 0.22.\n",
    "\n",
    "#### criterion : string, optional (default=”gini”)\n",
    "The function to measure the quality of a split. Supported criteria are “gini” for the Gini impurity and “entropy” for the information gain. Note: this parameter is tree-specific.\n",
    "\n",
    "#### max_depth : integer or None, optional (default=None)\n",
    "The maximum depth of the tree. If None, then nodes are expanded until all leaves are pure or until all leaves contain less than min_samples_split samples.\n",
    "\n",
    "#### min_samples_split : int, float, optional (default=2)\n",
    "The minimum number of samples required to split an internal node:\n",
    "\n",
    "If int, then consider min_samples_split as the minimum number.\n",
    "If float, then min_samples_split is a fraction and ceil(min_samples_split * n_samples) are the minimum number of samples for each split.\n",
    "Changed in version 0.18: Added float values for fractions.\n",
    "\n",
    "#### min_samples_leaf : int, float, optional (default=1)\n",
    "The minimum number of samples required to be at a leaf node. A split point at any depth will only be considered if it leaves at least min_samples_leaf training samples in each of the left and right branches. This may have the effect of smoothing the model, especially in regression.\n",
    "\n",
    "If int, then consider min_samples_leaf as the minimum number.\n",
    "If float, then min_samples_leaf is a fraction and ceil(min_samples_leaf * n_samples) are the minimum number of samples for each node.\n",
    "Changed in version 0.18: Added float values for fractions.\n",
    "\n",
    "#### min_weight_fraction_leaf : float, optional (default=0.)\n",
    "The minimum weighted fraction of the sum total of weights (of all the input samples) required to be at a leaf node. Samples have equal weight when sample_weight is not provided.\n",
    "\n",
    "#### max_features : int, float, string or None, optional (default=”auto”)\n",
    "The number of features to consider when looking for the best split:\n",
    "\n",
    "If int, then consider max_features features at each split.\n",
    "If float, then max_features is a fraction and int(max_features * n_features) features are considered at each split.\n",
    "If “auto”, then max_features=sqrt(n_features).\n",
    "If “sqrt”, then max_features=sqrt(n_features) (same as “auto”).\n",
    "If “log2”, then max_features=log2(n_features).\n",
    "If None, then max_features=n_features.\n",
    "Note: the search for a split does not stop until at least one valid partition of the node samples is found, even if it requires to effectively inspect more than max_features features.\n",
    "\n",
    "#### max_leaf_nodes : int or None, optional (default=None)\n",
    "Grow trees with max_leaf_nodes in best-first fashion. Best nodes are defined as relative reduction in impurity. If None then unlimited number of leaf nodes.\n",
    "\n",
    "#### min_impurity_decrease : float, optional (default=0.)\n",
    "A node will be split if this split induces a decrease of the impurity greater than or equal to this value.\n",
    "\n",
    "The weighted impurity decrease equation is the following:\n",
    "\n",
    "N_t / N * (impurity - N_t_R / N_t * right_impurity\n",
    "                    - N_t_L / N_t * left_impurity)\n",
    "where N is the total number of samples, N_t is the number of samples at the current node, N_t_L is the number of samples in the left child, and N_t_R is the number of samples in the right child.\n",
    "\n",
    "N, N_t, N_t_R and N_t_L all refer to the weighted sum, if sample_weight is passed.\n",
    "\n",
    "New in version 0.19.\n",
    "\n",
    "#### min_impurity_split : float, (default=1e-7)\n",
    "Threshold for early stopping in tree growth. A node will split if its impurity is above the threshold, otherwise it is a leaf.\n",
    "\n",
    "Deprecated since version 0.19: min_impurity_split has been deprecated in favor of min_impurity_decrease in 0.19. The default value of min_impurity_split will change from 1e-7 to 0 in 0.23 and it will be removed in 0.25. Use min_impurity_decrease instead.\n",
    "#### bootstrap : boolean, optional (default=True)\n",
    "Whether bootstrap samples are used when building trees. If False, the whole datset is used to build each tree.\n",
    "\n",
    "#### oob_score : bool (default=False)\n",
    "Whether to use out-of-bag samples to estimate the generalization accuracy.\n",
    "\n",
    "#### n_jobs : int or None, optional (default=None)\n",
    "The number of jobs to run in parallel for both fit and predict. None means 1 unless in a joblib.parallel_backend context. -1 means using all processors. See Glossary for more details.\n",
    "\n",
    "#### random_state : int, RandomState instance or None, optional (default=None)\n",
    "If int, random_state is the seed used by the random number generator; If RandomState instance, random_state is the random number generator; If None, the random number generator is the RandomState instance used by np.random.\n",
    "\n",
    "#### verbose : int, optional (default=0)\n",
    "Controls the verbosity when fitting and predicting.\n",
    "\n",
    "#### warm_start : bool, optional (default=False)\n",
    "When set to True, reuse the solution of the previous call to fit and add more estimators to the ensemble, otherwise, just fit a whole new forest. See the Glossary.\n",
    "\n",
    "#### class_weight : dict, list of dicts, “balanced”, “balanced_subsample” or None, optional (default=None)\n",
    "Weights associated with classes in the form {class_label: weight}. If not given, all classes are supposed to have weight one. For multi-output problems, a list of dicts can be provided in the same order as the columns of y.\n",
    "\n",
    "Note that for multioutput (including multilabel) weights should be defined for each class of every column in its own dict. For example, for four-class multilabel classification weights should be [{0: 1, 1: 1}, {0: 1, 1: 5}, {0: 1, 1: 1}, {0: 1, 1: 1}] instead of [{1:1}, {2:5}, {3:1}, {4:1}].\n",
    "\n",
    "The “balanced” mode uses the values of y to automatically adjust weights inversely proportional to class frequencies in the input data as n_samples / (n_classes * np.bincount(y))\n",
    "\n",
    "The “balanced_subsample” mode is the same as “balanced” except that weights are computed based on the bootstrap sample for every tree grown.\n",
    "\n",
    "For multi-output, the weights of each column of y will be multiplied.\n",
    "\n",
    "Note that these weights will be multiplied with sample_weight (passed through the fit method) if sample_weight is specified.\n",
    "\n",
    "### Attributes:\t\n",
    "#### estimators_ : list of DecisionTreeClassifier\n",
    "The collection of fitted sub-estimators.\n",
    "\n",
    "#### classes_ : array of shape = [n_classes] or a list of such arrays\n",
    "The classes labels (single output problem), or a list of arrays of class labels (multi-output problem).\n",
    "\n",
    "#### n_classes_ : int or list\n",
    "The number of classes (single output problem), or a list containing the number of classes for each output (multi-output problem).\n",
    "\n",
    "#### n_features_ : int\n",
    "The number of features when fit is performed.\n",
    "\n",
    "#### n_outputs_ : int\n",
    "The number of outputs when fit is performed.\n",
    "\n",
    "#### feature_importances_ : array of shape = [n_features]\n",
    "Return the feature importances (the higher, the more important the feature).\n",
    "\n",
    "#### oob_score_ : float\n",
    "Score of the training dataset obtained using an out-of-bag estimate.\n",
    "\n",
    "#### oob_decision_function_ : array of shape = [n_samples, n_classes]\n",
    "Decision function computed with out-of-bag estimate on the training set. If n_estimators is small it might be possible that a data point was never left out during the bootstrap. In this case, oob_decision_function_ might contain NaN.\n",
    "\n",
    "------"
   ]
  },
  {
   "cell_type": "code",
   "execution_count": 55,
   "metadata": {},
   "outputs": [],
   "source": [
    "\n",
    "class RandomForestClassifierEvaluator():\n",
    "    def __init__(self, n_estimators='warn', criterion='gini', max_depth=None, min_samples_split=2, min_samples_leaf=1, min_weight_fraction_leaf=0.0, max_features='auto', max_leaf_nodes=None, min_impurity_decrease=0.0, min_impurity_split=None):\n",
    "        \n",
    "        # 建立模型\n",
    "        self.clf = RandomForestClassifier(n_estimators, criterion, max_depth, min_samples_split, min_samples_leaf, min_weight_fraction_leaf, max_features, max_leaf_nodes, min_impurity_decrease, min_impurity_split)\n",
    "    \n",
    "    def run(self, dataset):\n",
    "\n",
    "        # 切分訓練集/測試集\n",
    "        x_train, x_test, y_train, y_test = train_test_split(dataset.data, dataset.target, test_size=0.25, random_state=4)\n",
    "\n",
    "\n",
    "        # 訓練模型\n",
    "        self.clf.fit(x_train, y_train)\n",
    "\n",
    "        # 預測測試集\n",
    "        y_pred = self.clf.predict(x_test)\n",
    "\n",
    "        acc = metrics.accuracy_score(y_test, y_pred)\n",
    "\n",
    "        print(\"Acuuracy: \", acc)\n",
    "\n",
    "        print(dataset.feature_names)\n",
    "\n",
    "        print(\"Feature importance: \", self.clf.feature_importances_)"
   ]
  },
  {
   "cell_type": "code",
   "execution_count": 57,
   "metadata": {},
   "outputs": [
    {
     "name": "stdout",
     "output_type": "stream",
     "text": [
      "Acuuracy:  0.9473684210526315\n",
      "['sepal length (cm)', 'sepal width (cm)', 'petal length (cm)', 'petal width (cm)']\n",
      "Feature importance:  [0.08643329 0.02899019 0.38498383 0.49959268]\n"
     ]
    },
    {
     "name": "stderr",
     "output_type": "stream",
     "text": [
      "C:\\Users\\erwin\\Anaconda3\\lib\\site-packages\\sklearn\\ensemble\\forest.py:246: FutureWarning: The default value of n_estimators will change from 10 in version 0.20 to 100 in 0.22.\n",
      "  \"10 in version 0.20 to 100 in 0.22.\", FutureWarning)\n"
     ]
    }
   ],
   "source": [
    "evaluator = RandomForestClassifierEvaluator()\n",
    "evaluator.run(iris)"
   ]
  },
  {
   "cell_type": "code",
   "execution_count": 59,
   "metadata": {},
   "outputs": [
    {
     "name": "stdout",
     "output_type": "stream",
     "text": [
      "Acuuracy:  0.9736842105263158\n",
      "['sepal length (cm)', 'sepal width (cm)', 'petal length (cm)', 'petal width (cm)']\n",
      "Feature importance:  [0.09626172 0.01801952 0.45630299 0.42941576]\n"
     ]
    },
    {
     "name": "stderr",
     "output_type": "stream",
     "text": [
      "C:\\Users\\erwin\\Anaconda3\\lib\\site-packages\\sklearn\\ensemble\\forest.py:246: FutureWarning: The default value of n_estimators will change from 10 in version 0.20 to 100 in 0.22.\n",
      "  \"10 in version 0.20 to 100 in 0.22.\", FutureWarning)\n"
     ]
    }
   ],
   "source": [
    "evaluator = RandomForestClassifierEvaluator(criterion='entropy')\n",
    "evaluator.run(iris)"
   ]
  },
  {
   "cell_type": "code",
   "execution_count": 60,
   "metadata": {},
   "outputs": [
    {
     "name": "stdout",
     "output_type": "stream",
     "text": [
      "Acuuracy:  0.9736842105263158\n",
      "['sepal length (cm)', 'sepal width (cm)', 'petal length (cm)', 'petal width (cm)']\n",
      "Feature importance:  [0.12178805 0.03390421 0.40530084 0.4390069 ]\n"
     ]
    }
   ],
   "source": [
    "evaluator = RandomForestClassifierEvaluator(n_estimators=100)\n",
    "evaluator.run(iris)"
   ]
  },
  {
   "cell_type": "code",
   "execution_count": 61,
   "metadata": {},
   "outputs": [
    {
     "name": "stdout",
     "output_type": "stream",
     "text": [
      "Acuuracy:  0.9736842105263158\n",
      "['sepal length (cm)', 'sepal width (cm)', 'petal length (cm)', 'petal width (cm)']\n",
      "Feature importance:  [0.10042599 0.01851417 0.35058257 0.53047728]\n"
     ]
    }
   ],
   "source": [
    "evaluator = RandomForestClassifierEvaluator(n_estimators=10)\n",
    "evaluator.run(iris)"
   ]
  },
  {
   "cell_type": "markdown",
   "metadata": {},
   "source": [
    "2. 改用其他資料集 (boston, wine)，並與回歸模型與決策樹的結果進行比較"
   ]
  },
  {
   "cell_type": "code",
   "execution_count": 29,
   "metadata": {},
   "outputs": [],
   "source": [
    "# 讀取 Boston 資料集\n",
    "boston = datasets.load_boston()"
   ]
  },
  {
   "cell_type": "markdown",
   "metadata": {},
   "source": [
    "-------\n",
    "\n",
    "## sklearn.ensemble.RandomForestRegressor\n",
    "```\n",
    "class sklearn.ensemble.RandomForestRegressor(n_estimators=’warn’, criterion=’mse’, max_depth=None, min_samples_split=2, min_samples_leaf=1, min_weight_fraction_leaf=0.0, max_features=’auto’, max_leaf_nodes=None, min_impurity_decrease=0.0, min_impurity_split=None, bootstrap=True, oob_score=False, n_jobs=None, random_state=None, verbose=0, warm_start=False)[source]\n",
    "A random forest regressor.\n",
    "```\n",
    "\n",
    "A random forest is a meta estimator that fits a number of classifying decision trees on various sub-samples of the dataset and uses averaging to improve the predictive accuracy and control over-fitting. The sub-sample size is always the same as the original input sample size but the samples are drawn with replacement if bootstrap=True (default).\n",
    "\n",
    "Read more in the User Guide.\n",
    "\n",
    "### Parameters:\t\n",
    "#### n_estimators : integer, optional (default=10)\n",
    "The number of trees in the forest.\n",
    "\n",
    "Changed in version 0.20: The default value of n_estimators will change from 10 in version 0.20 to 100 in version 0.22.\n",
    "\n",
    "#### criterion : string, optional (default=”mse”)\n",
    "The function to measure the quality of a split. Supported criteria are “mse” for the mean squared error, which is equal to variance reduction as feature selection criterion, and “mae” for the mean absolute error.\n",
    "\n",
    "New in version 0.18: Mean Absolute Error (MAE) criterion.\n",
    "\n",
    "#### max_depth : integer or None, optional (default=None)\n",
    "The maximum depth of the tree. If None, then nodes are expanded until all leaves are pure or until all leaves contain less than min_samples_split samples.\n",
    "\n",
    "#### min_samples_split : int, float, optional (default=2)\n",
    "The minimum number of samples required to split an internal node:\n",
    "\n",
    "If int, then consider min_samples_split as the minimum number.\n",
    "If float, then min_samples_split is a fraction and ceil(min_samples_split * n_samples) are the minimum number of samples for each split.\n",
    "Changed in version 0.18: Added float values for fractions.\n",
    "\n",
    "min_samples_leaf : int, float, optional (default=1)\n",
    "The minimum number of samples required to be at a leaf node. A split point at any depth will only be considered if it leaves at least min_samples_leaf training samples in each of the left and right branches. This may have the effect of smoothing the model, especially in regression.\n",
    "\n",
    "If int, then consider min_samples_leaf as the minimum number.\n",
    "If float, then min_samples_leaf is a fraction and ceil(min_samples_leaf * n_samples) are the minimum number of samples for each node.\n",
    "Changed in version 0.18: Added float values for fractions.\n",
    "\n",
    "#### min_weight_fraction_leaf : float, optional (default=0.)\n",
    "The minimum weighted fraction of the sum total of weights (of all the input samples) required to be at a leaf node. Samples have equal weight when sample_weight is not provided.\n",
    "\n",
    "#### max_features : int, float, string or None, optional (default=”auto”)\n",
    "The number of features to consider when looking for the best split:\n",
    "\n",
    "If int, then consider max_features features at each split.\n",
    "If float, then max_features is a fraction and int(max_features * n_features) features are considered at each split.\n",
    "If “auto”, then max_features=n_features.\n",
    "If “sqrt”, then max_features=sqrt(n_features).\n",
    "If “log2”, then max_features=log2(n_features).\n",
    "If None, then max_features=n_features.\n",
    "Note: the search for a split does not stop until at least one valid partition of the node samples is found, even if it requires to effectively inspect more than max_features features.\n",
    "\n",
    "#### max_leaf_nodes : int or None, optional (default=None)\n",
    "Grow trees with max_leaf_nodes in best-first fashion. Best nodes are defined as relative reduction in impurity. If None then unlimited number of leaf nodes.\n",
    "\n",
    "#### min_impurity_decrease : float, optional (default=0.)\n",
    "A node will be split if this split induces a decrease of the impurity greater than or equal to this value.\n",
    "\n",
    "The weighted impurity decrease equation is the following:\n",
    "\n",
    "N_t / N * (impurity - N_t_R / N_t * right_impurity\n",
    "                    - N_t_L / N_t * left_impurity)\n",
    "where N is the total number of samples, N_t is the number of samples at the current node, N_t_L is the number of samples in the left child, and N_t_R is the number of samples in the right child.\n",
    "\n",
    "N, N_t, N_t_R and N_t_L all refer to the weighted sum, if sample_weight is passed.\n",
    "\n",
    "New in version 0.19.\n",
    "\n",
    "#### min_impurity_split : float, (default=1e-7)\n",
    "Threshold for early stopping in tree growth. A node will split if its impurity is above the threshold, otherwise it is a leaf.\n",
    "\n",
    "Deprecated since version 0.19: min_impurity_split has been deprecated in favor of min_impurity_decrease in 0.19. The default value of min_impurity_split will change from 1e-7 to 0 in 0.23 and it will be removed in 0.25. Use min_impurity_decrease instead.\n",
    "bootstrap : boolean, optional (default=True)\n",
    "Whether bootstrap samples are used when building trees. If False, the whole datset is used to build each tree.\n",
    "\n",
    "#### oob_score : bool, optional (default=False)\n",
    "whether to use out-of-bag samples to estimate the R^2 on unseen data.\n",
    "\n",
    "#### n_jobs : int or None, optional (default=None)\n",
    "The number of jobs to run in parallel for both fit and predict. None` means 1 unless in a joblib.parallel_backend context. -1 means using all processors. See Glossary for more details.`\n",
    "\n",
    "#### random_state : int, RandomState instance or None, optional (default=None)\n",
    "If int, random_state is the seed used by the random number generator; If RandomState instance, random_state is the random number generator; If None, the random number generator is the RandomState instance used by np.random.\n",
    "\n",
    "#### verbose : int, optional (default=0)\n",
    "Controls the verbosity when fitting and predicting.\n",
    "\n",
    "#### warm_start : bool, optional (default=False)\n",
    "When set to True, reuse the solution of the previous call to fit and add more estimators to the ensemble, otherwise, just fit a whole new forest. See the Glossary.\n",
    "\n",
    "### Attributes:\t\n",
    "#### estimators_ : list of DecisionTreeRegressor\n",
    "The collection of fitted sub-estimators.\n",
    "\n",
    "#### feature_importances_ : array of shape = [n_features]\n",
    "Return the feature importances (the higher, the more important the feature).\n",
    "\n",
    "#### n_features_ : int\n",
    "The number of features when fit is performed.\n",
    "\n",
    "#### n_outputs_ : int\n",
    "The number of outputs when fit is performed.\n",
    "\n",
    "#### oob_score_ : float\n",
    "Score of the training dataset obtained using an out-of-bag estimate.\n",
    "\n",
    "#### oob_prediction_ : array of shape = [n_samples]\n",
    "Prediction computed with out-of-bag estimate on the training set.\n",
    "\n",
    "-------"
   ]
  },
  {
   "cell_type": "code",
   "execution_count": 48,
   "metadata": {},
   "outputs": [],
   "source": [
    "from sklearn.metrics import mean_squared_error\n",
    "from sklearn.metrics import mean_absolute_error\n",
    "\n",
    "class RandomForestRegressorEvaluator():\n",
    "    def __init__(self, n_estimators='warn', criterion='mse', max_depth=None, min_samples_split=2, min_samples_leaf=1, min_weight_fraction_leaf=0.0, max_features='auto', max_leaf_nodes=None, min_impurity_decrease=0.0, min_impurity_split=None, bootstrap=True, oob_score=False, n_jobs=None, random_state=None, verbose=0, warm_start=False):\n",
    "\n",
    "        # 建立模型\n",
    "        self.clf = RandomForestRegressor(n_estimators, criterion, max_depth, min_samples_split, min_samples_leaf, min_weight_fraction_leaf, max_features, max_leaf_nodes, min_impurity_decrease, min_impurity_split, bootstrap, oob_score, n_jobs, random_state, verbose, warm_start)\n",
    "        self.criterion = criterion\n",
    "        \n",
    "    def run(self, dataset):\n",
    "        # 切分訓練集/測試集\n",
    "        \n",
    "        x_train, x_test, y_train, y_test = train_test_split(dataset.data, dataset.target, test_size=0.25, random_state=4)\n",
    "        # 訓練模型\n",
    "        self.clf.fit(x_train, y_train)\n",
    "\n",
    "        # 預測測試集\n",
    "        y_pred = self.clf.predict(x_test)\n",
    "\n",
    "        if self.criterion == 'mae':\n",
    "            # 預測值與實際值的差距，使用 MAE\n",
    "            print(\"\\033[1;33m Mean absolute error: %.2f \\033[0m\" % mean_absolute_error(y_test, y_pred))\n",
    "        else:\n",
    "            # 預測值與實際值的差距，使用 MSE\n",
    "            print(\"\\033[1;33m Mean squared error: %.2f \\033[0m\" % mean_squared_error(y_test, y_pred))\n",
    "        \n",
    "        print(dataset.feature_names)\n",
    "\n",
    "        print(\"Feature importance: \", self.clf.feature_importances_)"
   ]
  },
  {
   "cell_type": "code",
   "execution_count": 49,
   "metadata": {},
   "outputs": [
    {
     "name": "stdout",
     "output_type": "stream",
     "text": [
      "\u001b[1;33m Mean squared error: 12.81 \u001b[0m\n",
      "['CRIM' 'ZN' 'INDUS' 'CHAS' 'NOX' 'RM' 'AGE' 'DIS' 'RAD' 'TAX' 'PTRATIO'\n",
      " 'B' 'LSTAT']\n",
      "Feature importance:  [0.04253617 0.00104362 0.00402029 0.00191816 0.01862173 0.42500712\n",
      " 0.01234    0.05394804 0.00392953 0.01760702 0.02496994 0.01078459\n",
      " 0.38327378]\n",
      "\u001b[1;33m Mean absolute error: 2.56 \u001b[0m\n",
      "['CRIM' 'ZN' 'INDUS' 'CHAS' 'NOX' 'RM' 'AGE' 'DIS' 'RAD' 'TAX' 'PTRATIO'\n",
      " 'B' 'LSTAT']\n",
      "Feature importance:  [0.08137617 0.00308869 0.01829231 0.00339923 0.0301709  0.30770465\n",
      " 0.03213134 0.06396884 0.01227437 0.02958296 0.04302589 0.0247318\n",
      " 0.35025286]\n"
     ]
    },
    {
     "name": "stderr",
     "output_type": "stream",
     "text": [
      "C:\\Users\\erwin\\Anaconda3\\lib\\site-packages\\sklearn\\ensemble\\forest.py:246: FutureWarning: The default value of n_estimators will change from 10 in version 0.20 to 100 in 0.22.\n",
      "  \"10 in version 0.20 to 100 in 0.22.\", FutureWarning)\n",
      "C:\\Users\\erwin\\Anaconda3\\lib\\site-packages\\sklearn\\ensemble\\forest.py:246: FutureWarning: The default value of n_estimators will change from 10 in version 0.20 to 100 in 0.22.\n",
      "  \"10 in version 0.20 to 100 in 0.22.\", FutureWarning)\n"
     ]
    }
   ],
   "source": [
    "evaluator = RandomForestRegressorEvaluator()\n",
    "evaluator.run(boston)\n",
    "\n",
    "evaluator = RandomForestRegressorEvaluator(criterion = 'mae')\n",
    "evaluator.run(boston)"
   ]
  },
  {
   "cell_type": "code",
   "execution_count": 50,
   "metadata": {},
   "outputs": [
    {
     "name": "stdout",
     "output_type": "stream",
     "text": [
      "\u001b[1;33m Mean squared error: 15.74 \u001b[0m\n",
      "['CRIM' 'ZN' 'INDUS' 'CHAS' 'NOX' 'RM' 'AGE' 'DIS' 'RAD' 'TAX' 'PTRATIO'\n",
      " 'B' 'LSTAT']\n",
      "Feature importance:  [0.06014583 0.00087684 0.00734792 0.00176395 0.01749371 0.46237594\n",
      " 0.01242379 0.05337739 0.00318471 0.01938356 0.01842541 0.01121981\n",
      " 0.33198115]\n",
      "\u001b[1;33m Mean absolute error: 2.52 \u001b[0m\n",
      "['CRIM' 'ZN' 'INDUS' 'CHAS' 'NOX' 'RM' 'AGE' 'DIS' 'RAD' 'TAX' 'PTRATIO'\n",
      " 'B' 'LSTAT']\n",
      "Feature importance:  [0.09515209 0.00377303 0.01901676 0.0045665  0.03165292 0.32052403\n",
      " 0.03703461 0.0586419  0.01138689 0.03257893 0.03377798 0.03055999\n",
      " 0.32133437]\n"
     ]
    }
   ],
   "source": [
    "evaluator = RandomForestRegressorEvaluator(n_estimators = 100)\n",
    "evaluator.run(boston)\n",
    "\n",
    "evaluator = RandomForestRegressorEvaluator(n_estimators = 100, criterion = 'mae')\n",
    "evaluator.run(boston)"
   ]
  },
  {
   "cell_type": "code",
   "execution_count": 51,
   "metadata": {},
   "outputs": [
    {
     "name": "stdout",
     "output_type": "stream",
     "text": [
      "\u001b[1;33m Mean squared error: 23.07 \u001b[0m\n",
      "['CRIM' 'ZN' 'INDUS' 'CHAS' 'NOX' 'RM' 'AGE' 'DIS' 'RAD' 'TAX' 'PTRATIO'\n",
      " 'B' 'LSTAT']\n",
      "Feature importance:  [0.05464706 0.         0.00439291 0.00224162 0.0035591  0.44799045\n",
      " 0.         0.02888076 0.00231188 0.00502316 0.00278024 0.00137274\n",
      " 0.44680008]\n",
      "\u001b[1;33m Mean absolute error: 3.09 \u001b[0m\n",
      "['CRIM' 'ZN' 'INDUS' 'CHAS' 'NOX' 'RM' 'AGE' 'DIS' 'RAD' 'TAX' 'PTRATIO'\n",
      " 'B' 'LSTAT']\n",
      "Feature importance:  [0.09190633 0.         0.         0.         0.02002785 0.46014376\n",
      " 0.         0.00956462 0.00253582 0.00743717 0.00821954 0.00159391\n",
      " 0.39857099]\n"
     ]
    },
    {
     "name": "stderr",
     "output_type": "stream",
     "text": [
      "C:\\Users\\erwin\\Anaconda3\\lib\\site-packages\\sklearn\\ensemble\\forest.py:246: FutureWarning: The default value of n_estimators will change from 10 in version 0.20 to 100 in 0.22.\n",
      "  \"10 in version 0.20 to 100 in 0.22.\", FutureWarning)\n",
      "C:\\Users\\erwin\\Anaconda3\\lib\\site-packages\\sklearn\\ensemble\\forest.py:246: FutureWarning: The default value of n_estimators will change from 10 in version 0.20 to 100 in 0.22.\n",
      "  \"10 in version 0.20 to 100 in 0.22.\", FutureWarning)\n"
     ]
    }
   ],
   "source": [
    "evaluator = RandomForestRegressorEvaluator(max_depth = 3)\n",
    "evaluator.run(boston)\n",
    "\n",
    "evaluator = RandomForestRegressorEvaluator(criterion = 'mae', max_depth = 3)\n",
    "evaluator.run(boston)"
   ]
  },
  {
   "cell_type": "code",
   "execution_count": 62,
   "metadata": {},
   "outputs": [],
   "source": [
    "# 讀取 Wine 資料集\n",
    "wine = datasets.load_wine()"
   ]
  },
  {
   "cell_type": "code",
   "execution_count": 63,
   "metadata": {},
   "outputs": [
    {
     "name": "stdout",
     "output_type": "stream",
     "text": [
      "Acuuracy:  0.9777777777777777\n",
      "['alcohol', 'malic_acid', 'ash', 'alcalinity_of_ash', 'magnesium', 'total_phenols', 'flavanoids', 'nonflavanoid_phenols', 'proanthocyanins', 'color_intensity', 'hue', 'od280/od315_of_diluted_wines', 'proline']\n",
      "Feature importance:  [0.09488046 0.00920645 0.00576352 0.01959341 0.05123047 0.0314944\n",
      " 0.23043083 0.00098655 0.         0.19307787 0.06970411 0.13531894\n",
      " 0.15831299]\n"
     ]
    },
    {
     "name": "stderr",
     "output_type": "stream",
     "text": [
      "C:\\Users\\erwin\\Anaconda3\\lib\\site-packages\\sklearn\\ensemble\\forest.py:246: FutureWarning: The default value of n_estimators will change from 10 in version 0.20 to 100 in 0.22.\n",
      "  \"10 in version 0.20 to 100 in 0.22.\", FutureWarning)\n"
     ]
    }
   ],
   "source": [
    "evaluator = RandomForestClassifierEvaluator()\n",
    "evaluator.run(wine)"
   ]
  },
  {
   "cell_type": "code",
   "execution_count": 64,
   "metadata": {},
   "outputs": [
    {
     "name": "stdout",
     "output_type": "stream",
     "text": [
      "Acuuracy:  0.9736842105263158\n",
      "['sepal length (cm)', 'sepal width (cm)', 'petal length (cm)', 'petal width (cm)']\n",
      "Feature importance:  [0.03742133 0.01507763 0.50837399 0.43912704]\n"
     ]
    },
    {
     "name": "stderr",
     "output_type": "stream",
     "text": [
      "C:\\Users\\erwin\\Anaconda3\\lib\\site-packages\\sklearn\\ensemble\\forest.py:246: FutureWarning: The default value of n_estimators will change from 10 in version 0.20 to 100 in 0.22.\n",
      "  \"10 in version 0.20 to 100 in 0.22.\", FutureWarning)\n"
     ]
    }
   ],
   "source": [
    "evaluator = RandomForestClassifierEvaluator(criterion = 'entropy')\n",
    "evaluator.run(iris)"
   ]
  },
  {
   "cell_type": "code",
   "execution_count": null,
   "metadata": {},
   "outputs": [],
   "source": []
  }
 ],
 "metadata": {
  "kernelspec": {
   "display_name": "Python 3",
   "language": "python",
   "name": "python3"
  },
  "language_info": {
   "codemirror_mode": {
    "name": "ipython",
    "version": 3
   },
   "file_extension": ".py",
   "mimetype": "text/x-python",
   "name": "python",
   "nbconvert_exporter": "python",
   "pygments_lexer": "ipython3",
   "version": "3.7.1"
  }
 },
 "nbformat": 4,
 "nbformat_minor": 2
}
