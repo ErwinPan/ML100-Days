{
 "cells": [
  {
   "cell_type": "markdown",
   "metadata": {},
   "source": [
    "## 練習時間\n",
    "相信大家目前都能夠初步了解機器學習專案的流程及步驟，今天的作業希望大家能夠看看全球機器學習巨頭們在做的機器學習專案。以 google 為例，下圖是 Google 內部專案使用機器學習的數量，隨著時間進展，現在早已超過 2000 個專案在使用 ML。"
   ]
  },
  {
   "cell_type": "markdown",
   "metadata": {},
   "source": [
    "![image](https://cdn-images-1.medium.com/max/800/1*U_L8qI8RmYS-MOBrYvXhSA.png)"
   ]
  },
  {
   "cell_type": "markdown",
   "metadata": {},
   "source": [
    "底下幫同學整理幾間知名企業的 blog 或機器學習網站 (自行搜尋也可)，請挑選一篇文章閱讀並試著回答\n",
    "1. 專案的目標？ (要解決什麼問題）\n",
    "\n",
    "> Answer: 重症监护病房 ICU 是病人和医生争取生命的战场，在美国每年约有 1% 的 GDP 被花费在 ICU 病房里。患者移动可大大降低 ICU 后综合征和长期功能障碍的风险，但相关的具体研究还很匮乏。近日，Serena Yeung、李飞飞等人的论文被自然子刊《Nature Digital Medicine》收录，该研究利用算法估计 ICU 病人移动活动的类型、频率和持续时间，有助于了解移动性干预对重症病人的具体作用，从而有可能降低 ICU 后综合征的风险。\n",
    "\n",
    "2. 使用的技術是？ (只需知道名稱即可，例如：使用 CNN 卷積神經網路做影像分類)\n",
    "\n",
    "> Answer: 移动事件类型及持续时长的时间检测算法是一个多标签循环卷积神经网络模型(Multi-Class CNN + RNN)。研究者在大规模 ImageNet 数据集上对 18 层的 ResNet 进行预训练，然后再在该研究的数据集上对模型进行精调，以便模型能从每一个数据帧中提取有信息的视觉特征。之后，研究者使用两层的双向LSTM 网络在这些特征的连续 64 帧序列中对时间结构进行推理。该研究集成了 6 个此类模型，来生成最终检测输出\n",
    "\n",
    "3. 資料來源？ \n",
    "\n",
    "> Answer: https://www.jiqizhixin.com/articles/2019-03-02-3"
   ]
  },
  {
   "cell_type": "markdown",
   "metadata": {},
   "source": [
    "- [Google AI blog](https://ai.googleblog.com/)\n",
    "- [Facebook Research blog](https://research.fb.com/blog/)\n",
    "- [Apple machine learning journal](https://machinelearning.apple.com/)\n",
    "- [機器之心](https://www.jiqizhixin.com/)\n",
    "- [雷鋒網](http://www.leiphone.com/category/ai)"
   ]
  },
  {
   "cell_type": "code",
   "execution_count": null,
   "metadata": {},
   "outputs": [],
   "source": []
  }
 ],
 "metadata": {
  "kernelspec": {
   "display_name": "Python 3",
   "language": "python",
   "name": "python3"
  },
  "language_info": {
   "codemirror_mode": {
    "name": "ipython",
    "version": 3
   },
   "file_extension": ".py",
   "mimetype": "text/x-python",
   "name": "python",
   "nbconvert_exporter": "python",
   "pygments_lexer": "ipython3",
   "version": "3.7.1"
  }
 },
 "nbformat": 4,
 "nbformat_minor": 2
}
