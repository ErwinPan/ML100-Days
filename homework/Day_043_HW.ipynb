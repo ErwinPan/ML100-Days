{
 "cells": [
  {
   "cell_type": "markdown",
   "metadata": {},
   "source": [
    "## 作業\n",
    "\n",
    "閱讀以下兩篇文獻，了解隨機森林原理，並試著回答後續的思考問題\n",
    "- [隨機森林 (random forest) - 中文](http://hhtucode.blogspot.tw/2013/06/ml-random-forest.html)\n",
    "- [how random forest works - 英文](https://medium.com/@Synced/how-random-forest-algorithm-works-in-machine-learning-3c0fe15b6674)"
   ]
  },
  {
   "cell_type": "markdown",
   "metadata": {},
   "source": [
    "\n",
    "1. 隨機森林中的每一棵樹，是希望能夠\n",
    "\n",
    "    - 沒有任何限制，讓樹可以持續生長 (讓樹生成很深，讓模型變得複雜)\n",
    "    \n",
    "> Answer: Yes, 可以持續生長, 單一顆樹 overfitting 沒有問題\n",
    "    \n",
    "    - 不要過度生長，避免 Overfitting\n",
    "    \n",
    "> Answer: No, 避免 overfitting 的原因, 是因為多顆樹 vote\n",
    "    \n",
    "    \n",
    "2. 假設總共有 N 筆資料，每棵樹用取後放回的方式抽了總共 N 筆資料生成，請問這棵樹大約使用了多少 % 不重複的原資料生成?\n",
    "hint: 0.632 bootstrap\n",
    "\n",
    "> Answer: 大約 63.2% 是不重複的資料\n"
   ]
  },
  {
   "cell_type": "markdown",
   "metadata": {},
   "source": [
    "------\n",
    "\n",
    "## numpy.random.choice\n",
    "\n",
    "```\n",
    "numpy.random.choice(a, size=None, replace=True, p=None)\n",
    "```\n",
    "Generates a random sample from a given 1-D array\n",
    "\n",
    "### Parameters:\t\n",
    "#### a : 1-D array-like or int\n",
    "\n",
    "If an ndarray, a random sample is generated from its elements. If an int, the random sample is generated as if a was np.arange(n)\n",
    "\n",
    "#### size : int or tuple of ints, optional\n",
    "\n",
    "Output shape. If the given shape is, e.g., (m, n, k), then m * n * k samples are drawn. Default is None, in which case a single value is returned.\n",
    "\n",
    "#### replace : boolean, optional\n",
    "\n",
    "Whether the sample is with or without replacement. (Note. 假如 replace=True, 表示可以重複, 否則不能重複)\n",
    "\n",
    "#### p : 1-D array-like, optional\n",
    "\n",
    "The probabilities associated with each entry in a. If not given the sample assumes a uniform distribution over all entries in a.\n",
    "\n",
    "### Returns:\t\n",
    "#### samples : 1-D ndarray, shape (size,)\n",
    "\n",
    "The generated random samples\n",
    "\n",
    "### Raises:\t\n",
    "ValueError\n",
    "\n",
    "If a is an int and less than zero, if a or p are not 1-dimensional, if a is an array-like of size 0, if p is not a vector of probabilities, if a and p have different lengths, or if replace=False and the sample size is greater than the population size\n",
    "\n",
    "------"
   ]
  },
  {
   "cell_type": "code",
   "execution_count": 10,
   "metadata": {},
   "outputs": [],
   "source": [
    "# Reference from https://github.com/kevinpiger/ML-100Days/blob/master/Day041-045/Day_043_HW.ipynb \n",
    "\n",
    "import numpy as np\n",
    "import pandas as pd\n",
    "import matplotlib.pyplot as plt\n",
    "\n",
    "original_data_proportion = []\n",
    "for i in np.arange(50, 10000,50):\n",
    "    # Use np.random.choice to generate an array (boost_data, size=i) from i\n",
    "    boost_data = np.random.choice(i, size=i, replace=True)\n",
    "    # Count how many unique data inside boost_data\n",
    "    original_data_proportion.append(len(np.unique(boost_data))/i)\n",
    "    "
   ]
  },
  {
   "cell_type": "code",
   "execution_count": 11,
   "metadata": {},
   "outputs": [
    {
     "name": "stdout",
     "output_type": "stream",
     "text": [
      "[0.68, 0.59, 0.6933333333333334, 0.6, 0.636, 0.61, 0.6314285714285715, 0.6275, 0.6444444444444445, 0.658, 0.6127272727272727, 0.6416666666666667, 0.6061538461538462, 0.6271428571428571, 0.6306666666666667, 0.6225, 0.6305882352941177, 0.6377777777777778, 0.6378947368421053, 0.63, 0.638095238095238, 0.6436363636363637, 0.6208695652173913, 0.6391666666666667, 0.6344, 0.6238461538461538, 0.6362962962962962, 0.6235714285714286, 0.623448275862069, 0.6133333333333333, 0.6412903225806451, 0.645, 0.6321212121212121, 0.63, 0.6291428571428571, 0.6366666666666667, 0.6367567567567568, 0.63, 0.6271794871794871, 0.6395, 0.6448780487804878, 0.6252380952380953, 0.633953488372093, 0.6281818181818182, 0.632, 0.6282608695652174, 0.6221276595744681, 0.6383333333333333, 0.6387755102040816, 0.6328, 0.6270588235294118, 0.6288461538461538, 0.6437735849056604, 0.6296296296296297, 0.64, 0.6260714285714286, 0.6312280701754386, 0.6275862068965518, 0.6389830508474577, 0.6336666666666667, 0.6301639344262295, 0.6345161290322581, 0.626031746031746, 0.6396875, 0.6341538461538462, 0.6309090909090909, 0.6298507462686567, 0.6311764705882353, 0.6289855072463768, 0.634, 0.6292957746478873, 0.6375, 0.6380821917808219, 0.624054054054054, 0.6357333333333334, 0.635, 0.625974025974026, 0.6258974358974358, 0.6346835443037975, 0.629, 0.6281481481481481, 0.6317073170731707, 0.6356626506024097, 0.6426190476190476, 0.6418823529411765, 0.6295348837209302, 0.6282758620689655, 0.6297727272727273, 0.6314606741573033, 0.6306666666666667, 0.6336263736263736, 0.6276086956521739, 0.6329032258064516, 0.6289361702127659, 0.6277894736842106, 0.6314583333333333, 0.636701030927835, 0.6336734693877552, 0.6276767676767677, 0.637, 0.6273267326732673, 0.6429411764705882, 0.6330097087378641, 0.6492307692307693, 0.6224761904761905, 0.6262264150943396, 0.6327102803738318, 0.6240740740740741, 0.6255045871559634, 0.6347272727272727, 0.6295495495495496, 0.6382142857142857, 0.6387610619469026, 0.6298245614035087, 0.6292173913043478, 0.6289655172413793, 0.6328205128205128, 0.6254237288135593, 0.6312605042016807, 0.6335, 0.6366942148760331, 0.639344262295082, 0.6286178861788618, 0.6254838709677419, 0.63344, 0.6363492063492063, 0.6308661417322835, 0.63078125, 0.628062015503876, 0.6313846153846154, 0.6329770992366412, 0.6346969696969696, 0.6365413533834586, 0.6338805970149254, 0.6346666666666667, 0.6294117647058823, 0.6299270072992701, 0.6320289855072464, 0.6345323741007194, 0.6364285714285715, 0.6275177304964539, 0.6371830985915493, 0.6346853146853146, 0.6340277777777777, 0.6278620689655172, 0.633972602739726, 0.6359183673469387, 0.6391891891891892, 0.6281879194630873, 0.6310666666666667, 0.6325827814569537, 0.6236842105263158, 0.6311111111111111, 0.6375324675324675, 0.6363870967741936, 0.6333333333333333, 0.6304458598726115, 0.630506329113924, 0.6311949685534591, 0.63525, 0.6326708074534162, 0.6365432098765432, 0.6325153374233129, 0.6259756097560976, 0.6328484848484849, 0.6380722891566265, 0.6277844311377245, 0.6319047619047619, 0.6276923076923077, 0.6305882352941177, 0.6335672514619883, 0.6291860465116279, 0.6329479768786127, 0.6342528735632184, 0.6297142857142857, 0.6264772727272727, 0.6288135593220339, 0.6407865168539326, 0.6280446927374301, 0.629, 0.6324861878453039, 0.6384615384615384, 0.6346448087431694, 0.6352173913043478, 0.6288648648648648, 0.6340860215053763, 0.6345454545454545, 0.6347872340425532, 0.6325925925925926, 0.6343157894736842, 0.6390575916230367, 0.6272916666666667, 0.6277720207253886, 0.6328865979381443, 0.6334358974358975, 0.6275510204081632, 0.6341116751269036, 0.6251515151515151, 0.6326633165829145]\n"
     ]
    }
   ],
   "source": [
    "print(original_data_proportion)"
   ]
  },
  {
   "cell_type": "code",
   "execution_count": 12,
   "metadata": {},
   "outputs": [
    {
     "data": {
      "text/plain": [
       "0.6322520797682415"
      ]
     },
     "execution_count": 12,
     "metadata": {},
     "output_type": "execute_result"
    }
   ],
   "source": [
    "np.mean(original_data_proportion)"
   ]
  },
  {
   "cell_type": "code",
   "execution_count": 13,
   "metadata": {},
   "outputs": [
    {
     "data": {
      "text/plain": [
       "<matplotlib.collections.PathCollection at 0x1d1fbda5ac8>"
      ]
     },
     "execution_count": 13,
     "metadata": {},
     "output_type": "execute_result"
    },
    {
     "data": {
      "image/png": "[encoded data removed]",
      "text/plain": [
       "<Figure size 432x288 with 1 Axes>"
      ]
     },
     "metadata": {
      "needs_background": "light"
     },
     "output_type": "display_data"
    }
   ],
   "source": [
    "plt.scatter(np.arange(50, 10000,50), original_data_proportion)"
   ]
  },
  {
   "cell_type": "code",
   "execution_count": null,
   "metadata": {},
   "outputs": [],
   "source": []
  }
 ],
 "metadata": {
  "kernelspec": {
   "display_name": "Python 3",
   "language": "python",
   "name": "python3"
  },
  "language_info": {
   "codemirror_mode": {
    "name": "ipython",
    "version": 3
   },
   "file_extension": ".py",
   "mimetype": "text/x-python",
   "name": "python",
   "nbconvert_exporter": "python",
   "pygments_lexer": "ipython3",
   "version": "3.7.1"
  }
 },
 "nbformat": 4,
 "nbformat_minor": 2
}
