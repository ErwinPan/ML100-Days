{
 "cells": [
  {
   "cell_type": "markdown",
   "metadata": {},
   "source": [
    "## 練習時間\n",
    "試著使用 sklearn datasets 的其他資料集 (boston, ...)，來訓練自己的線性迴歸模型，並加上適當的正則話來觀察訓練情形。"
   ]
  },
  {
   "cell_type": "code",
   "execution_count": 2,
   "metadata": {},
   "outputs": [],
   "source": [
    "import numpy as np\n",
    "import matplotlib.pyplot as plt\n",
    "from sklearn import datasets, linear_model\n",
    "from sklearn.model_selection import train_test_split\n",
    "from sklearn.metrics import mean_squared_error, r2_score"
   ]
  },
  {
   "cell_type": "code",
   "execution_count": 3,
   "metadata": {},
   "outputs": [
    {
     "name": "stdout",
     "output_type": "stream",
     "text": [
      "boston.data.shape = (506, 13)\n",
      ".. _boston_dataset:\n",
      "\n",
      "Boston house prices dataset\n",
      "---------------------------\n",
      "\n",
      "**Data Set Characteristics:**  \n",
      "\n",
      "    :Number of Instances: 506 \n",
      "\n",
      "    :Number of Attributes: 13 numeric/categorical predictive. Median Value (attribute 14) is usually the target.\n",
      "\n",
      "    :Attribute Information (in order):\n",
      "        - CRIM     per capita crime rate by town\n",
      "        - ZN       proportion of residential land zoned for lots over 25,000 sq.ft.\n",
      "        - INDUS    proportion of non-retail business acres per town\n",
      "        - CHAS     Charles River dummy variable (= 1 if tract bounds river; 0 otherwise)\n",
      "        - NOX      nitric oxides concentration (parts per 10 million)\n",
      "        - RM       average number of rooms per dwelling\n",
      "        - AGE      proportion of owner-occupied units built prior to 1940\n",
      "        - DIS      weighted distances to five Boston employment centres\n",
      "        - RAD      index of accessibility to radial highways\n",
      "        - TAX      full-value property-tax rate per $10,000\n",
      "        - PTRATIO  pupil-teacher ratio by town\n",
      "        - B        1000(Bk - 0.63)^2 where Bk is the proportion of blacks by town\n",
      "        - LSTAT    % lower status of the population\n",
      "        - MEDV     Median value of owner-occupied homes in $1000's\n",
      "\n",
      "    :Missing Attribute Values: None\n",
      "\n",
      "    :Creator: Harrison, D. and Rubinfeld, D.L.\n",
      "\n",
      "This is a copy of UCI ML housing dataset.\n",
      "https://archive.ics.uci.edu/ml/machine-learning-databases/housing/\n",
      "\n",
      "\n",
      "This dataset was taken from the StatLib library which is maintained at Carnegie Mellon University.\n",
      "\n",
      "The Boston house-price data of Harrison, D. and Rubinfeld, D.L. 'Hedonic\n",
      "prices and the demand for clean air', J. Environ. Economics & Management,\n",
      "vol.5, 81-102, 1978.   Used in Belsley, Kuh & Welsch, 'Regression diagnostics\n",
      "...', Wiley, 1980.   N.B. Various transformations are used in the table on\n",
      "pages 244-261 of the latter.\n",
      "\n",
      "The Boston house-price data has been used in many machine learning papers that address regression\n",
      "problems.   \n",
      "     \n",
      ".. topic:: References\n",
      "\n",
      "   - Belsley, Kuh & Welsch, 'Regression diagnostics: Identifying Influential Data and Sources of Collinearity', Wiley, 1980. 244-261.\n",
      "   - Quinlan,R. (1993). Combining Instance-Based and Model-Based Learning. In Proceedings on the Tenth International Conference of Machine Learning, 236-243, University of Massachusetts, Amherst. Morgan Kaufmann.\n",
      "\n"
     ]
    }
   ],
   "source": [
    "# 讀取 Boston\n",
    "boston = datasets.load_boston()\n",
    "\n",
    "print(f'boston.data.shape = {boston.data.shape}')\n",
    "print(boston.DESCR)"
   ]
  },
  {
   "cell_type": "code",
   "execution_count": 4,
   "metadata": {},
   "outputs": [],
   "source": [
    "# 切分訓練集/測試集\n",
    "x_train, x_test, y_train, y_test = train_test_split(boston.data, boston.target, test_size=0.2, random_state=4)\n",
    "\n",
    "# 建立一個線性回歸模型\n",
    "regr = linear_model.LinearRegression()\n",
    "\n",
    "# 將訓練資料丟進去模型訓練\n",
    "regr.fit(x_train, y_train)\n",
    "\n",
    "# 將測試資料丟進模型得到預測結果\n",
    "y_pred = regr.predict(x_test)"
   ]
  },
  {
   "cell_type": "code",
   "execution_count": 5,
   "metadata": {},
   "outputs": [
    {
     "name": "stdout",
     "output_type": "stream",
     "text": [
      "[-1.15966452e-01  4.71249231e-02  8.25980146e-03  3.23404531e+00\n",
      " -1.66865890e+01  3.88410651e+00 -1.08974442e-02 -1.54129540e+00\n",
      "  2.93208309e-01 -1.34059383e-02 -9.06296429e-01  8.80823439e-03\n",
      " -4.57723846e-01]\n"
     ]
    }
   ],
   "source": [
    "print(regr.coef_)"
   ]
  },
  {
   "cell_type": "code",
   "execution_count": 6,
   "metadata": {},
   "outputs": [
    {
     "name": "stdout",
     "output_type": "stream",
     "text": [
      "Mean squared error: 25.42\n"
     ]
    }
   ],
   "source": [
    "# 預測值與實際值的差距，使用 MSE\n",
    "print(\"Mean squared error: %.2f\"\n",
    "      % mean_squared_error(y_test, y_pred))"
   ]
  },
  {
   "cell_type": "markdown",
   "metadata": {},
   "source": [
    "### LASSO"
   ]
  },
  {
   "cell_type": "code",
   "execution_count": 55,
   "metadata": {},
   "outputs": [],
   "source": [
    "# 讀取 Boston 房價資料集\n",
    "diabetes = datasets.load_boston()\n",
    "\n",
    "# 切分訓練集/測試集\n",
    "x_train, x_test, y_train, y_test = train_test_split(boston.data, boston.target, test_size=0.2, random_state=4)\n",
    "\n",
    "# 建立一個線性回歸模型\n",
    "lasso = linear_model.Lasso(alpha=0.0001)\n",
    "\n",
    "# 將訓練資料丟進去模型訓練\n",
    "lasso.fit(x_train, y_train)\n",
    "\n",
    "# 將測試資料丟進模型得到預測結果\n",
    "y_pred = lasso.predict(x_test)"
   ]
  },
  {
   "cell_type": "code",
   "execution_count": 56,
   "metadata": {},
   "outputs": [
    {
     "data": {
      "text/plain": [
       "array([-1.15948981e-01,  4.71276533e-02,  8.11640297e-03,  3.23167956e+00,\n",
       "       -1.66536994e+01,  3.88420319e+00, -1.09223065e-02, -1.54076817e+00,\n",
       "        2.93126716e-01, -1.34080588e-02, -9.05962921e-01,  8.80978043e-03,\n",
       "       -4.57776731e-01])"
      ]
     },
     "execution_count": 56,
     "metadata": {},
     "output_type": "execute_result"
    }
   ],
   "source": [
    "# 印出各特徵對應的係數，可以看到許多係數都變成 0，Lasso Regression 的確可以做特徵選取\n",
    "lasso.coef_"
   ]
  },
  {
   "cell_type": "code",
   "execution_count": 57,
   "metadata": {},
   "outputs": [
    {
     "name": "stdout",
     "output_type": "stream",
     "text": [
      "Mean squared error: 25.42\n"
     ]
    }
   ],
   "source": [
    "# 預測值與實際值的差距，使用 MSE\n",
    "print(\"Mean squared error: %.2f\"\n",
    "      % mean_squared_error(y_test, y_pred))"
   ]
  },
  {
   "cell_type": "code",
   "execution_count": 58,
   "metadata": {},
   "outputs": [
    {
     "name": "stdout",
     "output_type": "stream",
     "text": [
      "\n",
      " alpha的值为：[1.00000000e-04 1.09749877e-04 1.20450354e-04 1.32194115e-04\n",
      " 1.45082878e-04 1.59228279e-04 1.74752840e-04 1.91791026e-04\n",
      " 2.10490414e-04 2.31012970e-04 2.53536449e-04 2.78255940e-04\n",
      " 3.05385551e-04 3.35160265e-04 3.67837977e-04 4.03701726e-04\n",
      " 4.43062146e-04 4.86260158e-04 5.33669923e-04 5.85702082e-04\n",
      " 6.42807312e-04 7.05480231e-04 7.74263683e-04 8.49753436e-04\n",
      " 9.32603347e-04 1.02353102e-03 1.12332403e-03 1.23284674e-03\n",
      " 1.35304777e-03 1.48496826e-03 1.62975083e-03 1.78864953e-03\n",
      " 1.96304065e-03 2.15443469e-03 2.36448941e-03 2.59502421e-03\n",
      " 2.84803587e-03 3.12571585e-03 3.43046929e-03 3.76493581e-03\n",
      " 4.13201240e-03 4.53487851e-03 4.97702356e-03 5.46227722e-03\n",
      " 5.99484250e-03 6.57933225e-03 7.22080902e-03 7.92482898e-03\n",
      " 8.69749003e-03 9.54548457e-03 1.04761575e-02 1.14975700e-02\n",
      " 1.26185688e-02 1.38488637e-02 1.51991108e-02 1.66810054e-02\n",
      " 1.83073828e-02 2.00923300e-02 2.20513074e-02 2.42012826e-02\n",
      " 2.65608778e-02 2.91505306e-02 3.19926714e-02 3.51119173e-02\n",
      " 3.85352859e-02 4.22924287e-02 4.64158883e-02 5.09413801e-02\n",
      " 5.59081018e-02 6.13590727e-02 6.73415066e-02 7.39072203e-02\n",
      " 8.11130831e-02 8.90215085e-02 9.77009957e-02 1.07226722e-01\n",
      " 1.17681195e-01 1.29154967e-01 1.41747416e-01 1.55567614e-01\n",
      " 1.70735265e-01 1.87381742e-01 2.05651231e-01 2.25701972e-01\n",
      " 2.47707636e-01 2.71858824e-01 2.98364724e-01 3.27454916e-01\n",
      " 3.59381366e-01 3.94420606e-01 4.32876128e-01 4.75081016e-01\n",
      " 5.21400829e-01 5.72236766e-01 6.28029144e-01 6.89261210e-01\n",
      " 7.56463328e-01 8.30217568e-01 9.11162756e-01 1.00000000e+00]\n"
     ]
    }
   ],
   "source": [
    "# alpha 取值为10^（-4）到10^（0）之间的连续的100个值\n",
    "n_alphas = 100\n",
    "alphas = np.logspace(-4, 0, n_alphas)\n",
    "print(f'\\n alpha的值为：{alphas}')"
   ]
  },
  {
   "cell_type": "code",
   "execution_count": 59,
   "metadata": {},
   "outputs": [
    {
     "name": "stderr",
     "output_type": "stream",
     "text": [
      "C:\\Users\\erwin\\Anaconda3\\lib\\site-packages\\sklearn\\linear_model\\coordinate_descent.py:492: ConvergenceWarning: Objective did not converge. You might want to increase the number of iterations. Fitting data with very small alpha may cause precision problems.\n",
      "  ConvergenceWarning)\n",
      "C:\\Users\\erwin\\Anaconda3\\lib\\site-packages\\sklearn\\linear_model\\coordinate_descent.py:492: ConvergenceWarning: Objective did not converge. You might want to increase the number of iterations. Fitting data with very small alpha may cause precision problems.\n",
      "  ConvergenceWarning)\n",
      "C:\\Users\\erwin\\Anaconda3\\lib\\site-packages\\sklearn\\linear_model\\coordinate_descent.py:492: ConvergenceWarning: Objective did not converge. You might want to increase the number of iterations. Fitting data with very small alpha may cause precision problems.\n",
      "  ConvergenceWarning)\n",
      "C:\\Users\\erwin\\Anaconda3\\lib\\site-packages\\sklearn\\linear_model\\coordinate_descent.py:492: ConvergenceWarning: Objective did not converge. You might want to increase the number of iterations. Fitting data with very small alpha may cause precision problems.\n",
      "  ConvergenceWarning)\n",
      "C:\\Users\\erwin\\Anaconda3\\lib\\site-packages\\sklearn\\linear_model\\coordinate_descent.py:492: ConvergenceWarning: Objective did not converge. You might want to increase the number of iterations. Fitting data with very small alpha may cause precision problems.\n",
      "  ConvergenceWarning)\n",
      "C:\\Users\\erwin\\Anaconda3\\lib\\site-packages\\sklearn\\linear_model\\coordinate_descent.py:492: ConvergenceWarning: Objective did not converge. You might want to increase the number of iterations. Fitting data with very small alpha may cause precision problems.\n",
      "  ConvergenceWarning)\n",
      "C:\\Users\\erwin\\Anaconda3\\lib\\site-packages\\sklearn\\linear_model\\coordinate_descent.py:492: ConvergenceWarning: Objective did not converge. You might want to increase the number of iterations. Fitting data with very small alpha may cause precision problems.\n",
      "  ConvergenceWarning)\n",
      "C:\\Users\\erwin\\Anaconda3\\lib\\site-packages\\sklearn\\linear_model\\coordinate_descent.py:492: ConvergenceWarning: Objective did not converge. You might want to increase the number of iterations. Fitting data with very small alpha may cause precision problems.\n",
      "  ConvergenceWarning)\n",
      "C:\\Users\\erwin\\Anaconda3\\lib\\site-packages\\sklearn\\linear_model\\coordinate_descent.py:492: ConvergenceWarning: Objective did not converge. You might want to increase the number of iterations. Fitting data with very small alpha may cause precision problems.\n",
      "  ConvergenceWarning)\n",
      "C:\\Users\\erwin\\Anaconda3\\lib\\site-packages\\sklearn\\linear_model\\coordinate_descent.py:492: ConvergenceWarning: Objective did not converge. You might want to increase the number of iterations. Fitting data with very small alpha may cause precision problems.\n",
      "  ConvergenceWarning)\n",
      "C:\\Users\\erwin\\Anaconda3\\lib\\site-packages\\sklearn\\linear_model\\coordinate_descent.py:492: ConvergenceWarning: Objective did not converge. You might want to increase the number of iterations. Fitting data with very small alpha may cause precision problems.\n",
      "  ConvergenceWarning)\n",
      "C:\\Users\\erwin\\Anaconda3\\lib\\site-packages\\sklearn\\linear_model\\coordinate_descent.py:492: ConvergenceWarning: Objective did not converge. You might want to increase the number of iterations. Fitting data with very small alpha may cause precision problems.\n",
      "  ConvergenceWarning)\n",
      "C:\\Users\\erwin\\Anaconda3\\lib\\site-packages\\sklearn\\linear_model\\coordinate_descent.py:492: ConvergenceWarning: Objective did not converge. You might want to increase the number of iterations. Fitting data with very small alpha may cause precision problems.\n",
      "  ConvergenceWarning)\n",
      "C:\\Users\\erwin\\Anaconda3\\lib\\site-packages\\sklearn\\linear_model\\coordinate_descent.py:492: ConvergenceWarning: Objective did not converge. You might want to increase the number of iterations. Fitting data with very small alpha may cause precision problems.\n",
      "  ConvergenceWarning)\n",
      "C:\\Users\\erwin\\Anaconda3\\lib\\site-packages\\sklearn\\linear_model\\coordinate_descent.py:492: ConvergenceWarning: Objective did not converge. You might want to increase the number of iterations. Fitting data with very small alpha may cause precision problems.\n",
      "  ConvergenceWarning)\n",
      "C:\\Users\\erwin\\Anaconda3\\lib\\site-packages\\sklearn\\linear_model\\coordinate_descent.py:492: ConvergenceWarning: Objective did not converge. You might want to increase the number of iterations. Fitting data with very small alpha may cause precision problems.\n",
      "  ConvergenceWarning)\n",
      "C:\\Users\\erwin\\Anaconda3\\lib\\site-packages\\sklearn\\linear_model\\coordinate_descent.py:492: ConvergenceWarning: Objective did not converge. You might want to increase the number of iterations. Fitting data with very small alpha may cause precision problems.\n",
      "  ConvergenceWarning)\n",
      "C:\\Users\\erwin\\Anaconda3\\lib\\site-packages\\sklearn\\linear_model\\coordinate_descent.py:492: ConvergenceWarning: Objective did not converge. You might want to increase the number of iterations. Fitting data with very small alpha may cause precision problems.\n",
      "  ConvergenceWarning)\n",
      "C:\\Users\\erwin\\Anaconda3\\lib\\site-packages\\sklearn\\linear_model\\coordinate_descent.py:492: ConvergenceWarning: Objective did not converge. You might want to increase the number of iterations. Fitting data with very small alpha may cause precision problems.\n",
      "  ConvergenceWarning)\n",
      "C:\\Users\\erwin\\Anaconda3\\lib\\site-packages\\sklearn\\linear_model\\coordinate_descent.py:492: ConvergenceWarning: Objective did not converge. You might want to increase the number of iterations. Fitting data with very small alpha may cause precision problems.\n",
      "  ConvergenceWarning)\n",
      "C:\\Users\\erwin\\Anaconda3\\lib\\site-packages\\sklearn\\linear_model\\coordinate_descent.py:492: ConvergenceWarning: Objective did not converge. You might want to increase the number of iterations. Fitting data with very small alpha may cause precision problems.\n",
      "  ConvergenceWarning)\n",
      "C:\\Users\\erwin\\Anaconda3\\lib\\site-packages\\sklearn\\linear_model\\coordinate_descent.py:492: ConvergenceWarning: Objective did not converge. You might want to increase the number of iterations. Fitting data with very small alpha may cause precision problems.\n",
      "  ConvergenceWarning)\n",
      "C:\\Users\\erwin\\Anaconda3\\lib\\site-packages\\sklearn\\linear_model\\coordinate_descent.py:492: ConvergenceWarning: Objective did not converge. You might want to increase the number of iterations. Fitting data with very small alpha may cause precision problems.\n",
      "  ConvergenceWarning)\n"
     ]
    },
    {
     "data": {
      "image/png": "[encoded data removed]",
      "text/plain": [
       "<Figure size 432x288 with 1 Axes>"
      ]
     },
     "metadata": {
      "needs_background": "light"
     },
     "output_type": "display_data"
    }
   ],
   "source": [
    "# 初始化一个 Lasso Regression\n",
    "clf = linear_model.Lasso(fit_intercept=False)\n",
    "\n",
    "# 参数矩阵，即每一个alpha对于的参数所组成的矩阵\n",
    "mses = []\n",
    "# 根据不同的alpha训练出不同的模型参数\n",
    "for a in alphas:\n",
    "    clf.set_params(alpha=a)\n",
    "    clf.fit(x_train, y_train)\n",
    "    y_pred = clf.predict(x_test)\n",
    "    mse = mean_squared_error(y_test, y_pred)\n",
    "    mses.append(mse)\n",
    "    \n",
    "\n",
    "# 获得绘图句柄\n",
    "ax = plt.gca()\n",
    "# 参数中每一个维度使用一个颜色表示\n",
    "# ax.set_color_cycle(['b', 'r', 'g', 'c', 'k'])\n",
    "\n",
    "# 绘制alpha和对应的参数之间的关系图\n",
    "ax.plot(alphas, mses)\n",
    "ax.set_xscale('log')    #x轴使用对数表示\n",
    "ax.set_xlim(ax.get_xlim()[::-1])  # 将x轴反转，便于显示\n",
    "plt.grid()\n",
    "plt.xlabel('alpha')\n",
    "plt.ylabel('MSE')\n",
    "plt.title('MSE as a function of the Lasso regularization')\n",
    "plt.axis('tight')\n",
    "plt.show()\n"
   ]
  },
  {
   "cell_type": "markdown",
   "metadata": {},
   "source": [
    "### Ridge"
   ]
  },
  {
   "cell_type": "code",
   "execution_count": 70,
   "metadata": {},
   "outputs": [],
   "source": [
    "# 讀取 Boston 資料集\n",
    "diabetes = datasets.load_boston()\n",
    "\n",
    "# 切分訓練集/測試集\n",
    "x_train, x_test, y_train, y_test = train_test_split(boston.data, boston.target, test_size=0.2, random_state=4)\n",
    "\n",
    "# 建立一個線性回歸模型\n",
    "ridge = linear_model.Ridge(alpha=0.0001)\n",
    "\n",
    "# 將訓練資料丟進去模型訓練\n",
    "ridge.fit(x_train, y_train)\n",
    "\n",
    "# 將測試資料丟進模型得到預測結果\n",
    "y_pred = regr.predict(x_test)"
   ]
  },
  {
   "cell_type": "code",
   "execution_count": 71,
   "metadata": {},
   "outputs": [
    {
     "name": "stdout",
     "output_type": "stream",
     "text": [
      "[-1.15965819e-01  4.71250599e-02  8.25398833e-03  3.23400567e+00\n",
      " -1.66852787e+01  3.88411731e+00 -1.08986300e-02 -1.54127620e+00\n",
      "  2.93204980e-01 -1.34060194e-02 -9.06282803e-01  8.80829668e-03\n",
      " -4.57725181e-01]\n"
     ]
    }
   ],
   "source": [
    "# 印出 Ridge 的參數，可以很明顯看到比起 Linear Regression，參數的數值都明顯小了許多\n",
    "print(ridge.coef_)"
   ]
  },
  {
   "cell_type": "code",
   "execution_count": 72,
   "metadata": {},
   "outputs": [
    {
     "name": "stdout",
     "output_type": "stream",
     "text": [
      "Mean squared error: 25.42\n"
     ]
    }
   ],
   "source": [
    "# 預測值與實際值的差距，使用 MSE\n",
    "print(\"Mean squared error: %.2f\"\n",
    "      % mean_squared_error(y_test, y_pred))"
   ]
  },
  {
   "cell_type": "code",
   "execution_count": 73,
   "metadata": {},
   "outputs": [
    {
     "name": "stdout",
     "output_type": "stream",
     "text": [
      "\n",
      " alpha的值为：[1.00000000e-04 1.09749877e-04 1.20450354e-04 1.32194115e-04\n",
      " 1.45082878e-04 1.59228279e-04 1.74752840e-04 1.91791026e-04\n",
      " 2.10490414e-04 2.31012970e-04 2.53536449e-04 2.78255940e-04\n",
      " 3.05385551e-04 3.35160265e-04 3.67837977e-04 4.03701726e-04\n",
      " 4.43062146e-04 4.86260158e-04 5.33669923e-04 5.85702082e-04\n",
      " 6.42807312e-04 7.05480231e-04 7.74263683e-04 8.49753436e-04\n",
      " 9.32603347e-04 1.02353102e-03 1.12332403e-03 1.23284674e-03\n",
      " 1.35304777e-03 1.48496826e-03 1.62975083e-03 1.78864953e-03\n",
      " 1.96304065e-03 2.15443469e-03 2.36448941e-03 2.59502421e-03\n",
      " 2.84803587e-03 3.12571585e-03 3.43046929e-03 3.76493581e-03\n",
      " 4.13201240e-03 4.53487851e-03 4.97702356e-03 5.46227722e-03\n",
      " 5.99484250e-03 6.57933225e-03 7.22080902e-03 7.92482898e-03\n",
      " 8.69749003e-03 9.54548457e-03 1.04761575e-02 1.14975700e-02\n",
      " 1.26185688e-02 1.38488637e-02 1.51991108e-02 1.66810054e-02\n",
      " 1.83073828e-02 2.00923300e-02 2.20513074e-02 2.42012826e-02\n",
      " 2.65608778e-02 2.91505306e-02 3.19926714e-02 3.51119173e-02\n",
      " 3.85352859e-02 4.22924287e-02 4.64158883e-02 5.09413801e-02\n",
      " 5.59081018e-02 6.13590727e-02 6.73415066e-02 7.39072203e-02\n",
      " 8.11130831e-02 8.90215085e-02 9.77009957e-02 1.07226722e-01\n",
      " 1.17681195e-01 1.29154967e-01 1.41747416e-01 1.55567614e-01\n",
      " 1.70735265e-01 1.87381742e-01 2.05651231e-01 2.25701972e-01\n",
      " 2.47707636e-01 2.71858824e-01 2.98364724e-01 3.27454916e-01\n",
      " 3.59381366e-01 3.94420606e-01 4.32876128e-01 4.75081016e-01\n",
      " 5.21400829e-01 5.72236766e-01 6.28029144e-01 6.89261210e-01\n",
      " 7.56463328e-01 8.30217568e-01 9.11162756e-01 1.00000000e+00]\n"
     ]
    }
   ],
   "source": [
    "# alpha 取值为 10^（-4）到 10^（0）之间的连续的 100个值\n",
    "n_alphas = 100\n",
    "alphas = np.logspace(-4, 0, n_alphas)\n",
    "print(f'\\n alpha的值为：{alphas}')"
   ]
  },
  {
   "cell_type": "code",
   "execution_count": 74,
   "metadata": {},
   "outputs": [
    {
     "data": {
      "image/png": "[encoded data removed]",
      "text/plain": [
       "<Figure size 432x288 with 1 Axes>"
      ]
     },
     "metadata": {
      "needs_background": "light"
     },
     "output_type": "display_data"
    }
   ],
   "source": [
    "# 初始化一个 Ridge Regression\n",
    "clf = linear_model.Ridge()\n",
    "#clf = linear_model.Ridge(fit_intercept=False) <= Note This will descrease MSE a lot ..., why ?\n",
    "\n",
    "# 参数矩阵，即每一个alpha对于的参数所组成的矩阵\n",
    "mses = []\n",
    "# 根据不同的alpha训练出不同的模型参数\n",
    "for a in alphas:\n",
    "    clf.set_params(alpha=a)\n",
    "    clf.fit(x_train, y_train)\n",
    "    y_pred = clf.predict(x_test)\n",
    "    mse = mean_squared_error(y_test, y_pred)\n",
    "    mses.append(mse)\n",
    "    \n",
    "\n",
    "# 获得绘图句柄\n",
    "ax = plt.gca()\n",
    "# 参数中每一个维度使用一个颜色表示\n",
    "# ax.set_color_cycle(['b', 'r', 'g', 'c', 'k'])\n",
    "\n",
    "# 绘制alpha和对应的参数之间的关系图\n",
    "ax.plot(alphas, mses)\n",
    "ax.set_xscale('log')    #x轴使用对数表示\n",
    "ax.set_xlim(ax.get_xlim()[::-1])  # 将x轴反转，便于显示\n",
    "plt.grid()\n",
    "plt.xlabel('alpha')\n",
    "plt.ylabel('MSE')\n",
    "plt.title('MSE as a function of the Lasso regularization')\n",
    "plt.axis('tight')\n",
    "plt.show()\n"
   ]
  },
  {
   "cell_type": "markdown",
   "metadata": {},
   "source": [
    "看起來 LASSO 與 Ridge 的結果最好的結果與線性回歸差不多，\n",
    "\n",
    "這是因為目標函數被加上了正規化函數，讓模型不能過於複雜，相當於限制模型擬和資料的能力。`因此若沒有發現 Over-fitting 的情況，是可以不需要一開始就加上太強的正規化的。`"
   ]
  },
  {
   "cell_type": "code",
   "execution_count": null,
   "metadata": {},
   "outputs": [],
   "source": []
  }
 ],
 "metadata": {
  "kernelspec": {
   "display_name": "Python 3",
   "language": "python",
   "name": "python3"
  },
  "language_info": {
   "codemirror_mode": {
    "name": "ipython",
    "version": 3
   },
   "file_extension": ".py",
   "mimetype": "text/x-python",
   "name": "python",
   "nbconvert_exporter": "python",
   "pygments_lexer": "ipython3",
   "version": "3.7.1"
  }
 },
 "nbformat": 4,
 "nbformat_minor": 2
}
